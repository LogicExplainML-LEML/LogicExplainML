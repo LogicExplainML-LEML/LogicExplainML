{
  "cells": [
    {
      "cell_type": "markdown",
      "metadata": {
        "id": "EFq4Mno1xeT_"
      },
      "source": [
        "# imports"
      ]
    },
    {
      "cell_type": "code",
      "execution_count": 1,
      "metadata": {
        "colab": {
          "base_uri": "https://localhost:8080/"
        },
        "id": "bLj3HHWsxf28",
        "outputId": "5e81e275-53f7-4478-f151-8d02bf032e20"
      },
      "outputs": [],
      "source": [
        "# !pip install z3-solver"
      ]
    },
    {
      "cell_type": "code",
      "execution_count": 2,
      "metadata": {
        "id": "Rsf-4nnC5VgA"
      },
      "outputs": [],
      "source": [
        "import xgboost as xgb\n",
        "from sklearn.datasets import load_iris\n",
        "from sklearn.model_selection import train_test_split\n",
        "from sklearn.metrics import accuracy_score\n",
        "import pandas as pd\n",
        "import numpy as np\n",
        "from z3 import *\n",
        "from xgboost import XGBClassifier\n",
        "\n",
        "set_option(rational_to_decimal=True)"
      ]
    },
    {
      "cell_type": "markdown",
      "metadata": {
        "id": "Nb6VqL77xcHx"
      },
      "source": [
        "# model"
      ]
    },
    {
      "cell_type": "code",
      "execution_count": 3,
      "metadata": {
        "id": "po9dWrV9xay9"
      },
      "outputs": [],
      "source": [
        "from z3 import *\n",
        "import numpy as np\n",
        "\n",
        "\n",
        "class XGBoostExplainer:\n",
        "    def __init__(self, model, data):\n",
        "        self.model = model\n",
        "        self.data = data.values\n",
        "        self.columns = data.columns\n",
        "        self.max_categories = 2\n",
        "\n",
        "        set_option(rational_to_decimal=True)\n",
        "        self.categoric_features = self.get_categoric_features(self.data)\n",
        "        self.T_model = self.model_trees_expression(self.model)\n",
        "        self.T = self.T_model\n",
        "\n",
        "    def explain(self, instance, reorder=\"asc\"):\n",
        "        self.I = self.instance_expression(instance)\n",
        "        self.D, self.D_add = self.decision_function_expression(self.model, [instance])\n",
        "        return self.explain_expression(self.I, And(self.T, self.D_add), self.D, self.model, reorder)\n",
        "\n",
        "    def explain_prob(self, instance, reorder=\"asc\", threshold_margin=0):\n",
        "        self.I = self.instance_expression(instance)\n",
        "        self.D, self.D_add = self.decision_function_expression(self.model, [instance])\n",
        "        return self.explain_expression_prob(self.I, And(self.T, self.D_add), self.D, self.model, reorder, threshold_margin)\n",
        "\n",
        "    def get_categoric_features(self, data: np.ndarray):\n",
        "        categoric_features = []\n",
        "        for i in range(data.shape[1]):\n",
        "            feature_values = data[:, i]\n",
        "            unique_values = np.unique(feature_values)\n",
        "            if len(unique_values) <= self.max_categories:\n",
        "                categoric_features.append(self.columns[i])\n",
        "\n",
        "        return categoric_features\n",
        "\n",
        "    def feature_constraints(self, constraints=[]):\n",
        "        \"\"\"TODO\n",
        "        esperado receber limites das features pelo usuário\n",
        "        formato previso: matriz/dataframe [feaature, min/max, valor]\n",
        "        constraaint_expression = \"constraaint_df_to_feature()\"\n",
        "        \"\"\"\n",
        "        return\n",
        "\n",
        "    def model_trees_expression(self, model):\n",
        "        df = model.get_booster().trees_to_dataframe()\n",
        "        if model.get_booster().feature_names == None:\n",
        "            feature_map = {f\"f{i}\": col for i, col in enumerate(self.columns)}\n",
        "            df[\"Feature\"] = df[\"Feature\"].replace(feature_map)\n",
        "\n",
        "        df[\"Split\"] = df[\"Split\"].round(4)\n",
        "        self.booster_df = df\n",
        "        class_index = 0  # if model.n_classes_ == 2:\n",
        "        all_tree_formulas = []\n",
        "\n",
        "        for tree_index in df[\"Tree\"].unique():\n",
        "            tree_df = df[df[\"Tree\"] == tree_index]\n",
        "            o = Real(f\"o_{tree_index}_{class_index}\")\n",
        "\n",
        "            if len(tree_df) == 1 and tree_df.iloc[0][\"Feature\"] == \"Leaf\":\n",
        "                leaf_value = tree_df.iloc[0][\"Gain\"]\n",
        "                all_tree_formulas.append(And(o == leaf_value))\n",
        "                continue\n",
        "            path_formulas = []\n",
        "\n",
        "            def get_conditions(node_id):\n",
        "                conditions = []\n",
        "                current_node = tree_df[tree_df[\"ID\"] == node_id]\n",
        "                if current_node.empty:\n",
        "                    return conditions\n",
        "\n",
        "                parent_node = tree_df[\n",
        "                    (tree_df[\"Yes\"] == node_id) | (tree_df[\"No\"] == node_id)\n",
        "                ]\n",
        "                if not parent_node.empty:\n",
        "                    parent_data = parent_node.iloc[0]\n",
        "                    feature = parent_data[\"Feature\"]\n",
        "                    split_value = parent_data[\"Split\"]\n",
        "                    x = Real(feature)\n",
        "                    if parent_data[\"Yes\"] == node_id:\n",
        "                        conditions.append(x < split_value)\n",
        "                    else:\n",
        "                        conditions.append(x >= split_value)\n",
        "                    conditions = get_conditions(parent_data[\"ID\"]) + conditions\n",
        "\n",
        "                return conditions\n",
        "\n",
        "            for _, node in tree_df[tree_df[\"Feature\"] == \"Leaf\"].iterrows():\n",
        "                leaf_value = node[\"Gain\"]\n",
        "                leaf_id = node[\"ID\"]\n",
        "                conditions = get_conditions(leaf_id)\n",
        "                path_formula = And(*conditions)\n",
        "                implication = Implies(path_formula, o == leaf_value)\n",
        "                path_formulas.append(implication)\n",
        "\n",
        "            all_tree_formulas.append(And(*path_formulas))\n",
        "        return And(*all_tree_formulas)\n",
        "\n",
        "    def get_init_value(self, model, x, estimator_variables):\n",
        "        estimator_pred = Solver()\n",
        "        estimator_pred.add(self.I)\n",
        "        estimator_pred.add(self.T)\n",
        "        if estimator_pred.check() == sat:\n",
        "            solvermodel = estimator_pred.model()\n",
        "            total_sum = sum(\n",
        "                float(solvermodel.eval(var).as_fraction()) for var in estimator_variables\n",
        "            )\n",
        "        else:\n",
        "            total_sum = 0\n",
        "            print(\"estimator error\")\n",
        "        self.predicted_margin = model.predict(x, output_margin=True)[0]\n",
        "        init_value = self.predicted_margin - total_sum\n",
        "        self.init_value = init_value\n",
        "        return init_value\n",
        "\n",
        "    def decision_function_expression(self, model, x):\n",
        "        n_classes = 1 if model.n_classes_ <= 2 else model.n_classes_\n",
        "        predicted_class = model.predict(x)[0]\n",
        "        self.predicted_class = predicted_class\n",
        "        n_estimators = int(len(model.get_booster().get_dump()) / n_classes)\n",
        "        estimator_variables = [Real(f\"o_{i}_0\") for i in range(n_estimators)] # _0 only for binary classification\n",
        "        self.estimator_variables = estimator_variables\n",
        "        init_value = self.get_init_value(model, x, estimator_variables)\n",
        "        # print(\"init:\", round(init_value, 2))\n",
        "\n",
        "        equation_list = []\n",
        "\n",
        "        estimator_sum = Real(\"estimator_sum\")\n",
        "        equation_o = estimator_sum == Sum(estimator_variables)\n",
        "        equation_list.append(equation_o)\n",
        "\n",
        "        decision = Real(\"decision\")\n",
        "        equation_list.append(decision == estimator_sum + init_value)\n",
        "\n",
        "        if predicted_class == 0:\n",
        "            final_equation = decision < 0\n",
        "        else:\n",
        "            final_equation = decision > 0\n",
        "\n",
        "        return final_equation, And(equation_list)\n",
        "\n",
        "    def instance_expression(self, instance):\n",
        "        formula = [Real(self.columns[i]) == value for i, value in enumerate(instance)]\n",
        "        return formula\n",
        "\n",
        "    def explain_expression(self, I, T_s, D_s, model, reorder):\n",
        "        i_expression = I.copy()\n",
        "\n",
        "        importances = model.feature_importances_\n",
        "        non_zero_indices = np.where(importances != 0)[0]\n",
        "\n",
        "        if reorder == \"asc\":\n",
        "            sorted_feature_indices = non_zero_indices[\n",
        "                np.argsort(importances[non_zero_indices])\n",
        "            ]\n",
        "            i_expression = [i_expression[i] for i in sorted_feature_indices]\n",
        "        elif reorder == \"desc\":\n",
        "            sorted_feature_indices = non_zero_indices[\n",
        "                np.argsort(-importances[non_zero_indices])\n",
        "            ]\n",
        "            i_expression = [i_expression[i] for i in sorted_feature_indices]\n",
        "\n",
        "        for feature in i_expression.copy():\n",
        "            # print(\"\\n---removed\", feature)\n",
        "            i_expression.remove(feature)\n",
        "\n",
        "            # prove(Implies(And(And(i_expression), T), D))\n",
        "            if self.is_proved(Implies(And(And(i_expression), T_s), D_s)):\n",
        "                continue\n",
        "                # print('proved')\n",
        "            else:\n",
        "                # print('not proved')\n",
        "                i_expression.append(feature)\n",
        "        # print(self.is_proved(Implies(And(And(i_expression), T_s), D_s)))\n",
        "        return i_expression\n",
        "\n",
        "    def explain_expression_prob(self, I, T_s, D_s, model, reorder, threshold_margin):\n",
        "        i_expression = I.copy()\n",
        "\n",
        "        importances = model.feature_importances_\n",
        "        non_zero_indices = np.where(importances != 0)[0]\n",
        "\n",
        "        if reorder == \"asc\":\n",
        "            sorted_feature_indices = non_zero_indices[\n",
        "                np.argsort(importances[non_zero_indices])\n",
        "            ]\n",
        "            i_expression = [i_expression[i] for i in sorted_feature_indices]\n",
        "        elif reorder == \"desc\":\n",
        "            sorted_feature_indices = non_zero_indices[\n",
        "                np.argsort(-importances[non_zero_indices])\n",
        "            ]\n",
        "            i_expression = [i_expression[i] for i in sorted_feature_indices]\n",
        "\n",
        "        threshold = 0\n",
        "        if threshold_margin != 0:\n",
        "            threshold = self.predicted_margin * threshold_margin/100\n",
        "            # print(\"margin:\", self.predicted_margin, \"accepted margin:\", threshold)\n",
        "        self.xai_predicted_margin = self.predicted_margin\n",
        "\n",
        "        for feature in i_expression.copy():\n",
        "            # print(\"\\n---removed\", feature)\n",
        "            i_expression.remove(feature)\n",
        "\n",
        "            if self.is_proved_sat(And(And(i_expression), T_s), threshold):\n",
        "                # print('proved')\n",
        "                continue\n",
        "            else:\n",
        "                # print('not proved -- added back')\n",
        "                i_expression.append(feature)\n",
        "        # print(self.is_proved(Implies(And(And(i_expression), T_s), D_s)))\n",
        "        return i_expression\n",
        "\n",
        "\n",
        "    def is_proved(self, decision_exp):\n",
        "        s = Solver()\n",
        "        s.add(Not(decision_exp))\n",
        "        if s.check() == unsat:\n",
        "            return True\n",
        "        else:\n",
        "            # print(s.model())\n",
        "            return False\n",
        "\n",
        "    def is_proved_sat(self, decision_exp, threshold):\n",
        "      estimator_sum = Real(\"estimator_sum\")\n",
        "\n",
        "      debug = Real(\"debug\") == 0\n",
        "      predicted_class = self.predicted_class\n",
        "\n",
        "      if predicted_class == 0:\n",
        "        estmax = Optimize()\n",
        "        estmax.add(decision_exp)\n",
        "        estmax.add(debug)\n",
        "        maxvalue = estmax.maximize(estimator_sum)\n",
        "        if estmax.check() == sat:\n",
        "            # print(\"\\nmax sat\", maxvalue.value())\n",
        "            try:\n",
        "              if float(maxvalue.value().as_fraction()) > threshold:\n",
        "                  return False # can change class\n",
        "              else:\n",
        "                  self.xai_predicted_margin = float(maxvalue.value().as_fraction())\n",
        "            except:\n",
        "              print(\"error max =\", maxvalue.value())\n",
        "              return False\n",
        "        else:\n",
        "            print(\"error\")\n",
        "\n",
        "      if predicted_class == 1:\n",
        "        estmin = Optimize()\n",
        "        estmin.add(decision_exp)\n",
        "        estmin.add(debug)\n",
        "        minvalue = estmin.minimize(estimator_sum)\n",
        "        if estmin.check() == sat:\n",
        "            # print(\"\\nmin sat\", minvalue.value())\n",
        "            try:\n",
        "              if float(minvalue.value().as_fraction()) < threshold:\n",
        "                  return False # can change class\n",
        "              else:\n",
        "                  self.xai_predicted_margin = float(minvalue.value().as_fraction())\n",
        "            except:\n",
        "              print(\"error min =\", minvalue.value())\n",
        "              return False\n",
        "        else:\n",
        "            print(\"error\")\n",
        "\n",
        "      return True"
      ]
    },
    {
      "cell_type": "markdown",
      "metadata": {
        "id": "b4rQ1xuRxvGA"
      },
      "source": [
        "# main"
      ]
    },
    {
      "cell_type": "code",
      "execution_count": 4,
      "metadata": {
        "colab": {
          "base_uri": "https://localhost:8080/"
        },
        "id": "U-wNfjqYUhs1",
        "outputId": "7b7b6099-bc1c-4054-e063-488d8e3b10c9"
      },
      "outputs": [
        {
          "data": {
            "text/plain": [
              "array([0, 0, 0, 1, 1, 0, 1, 1, 0, 0, 0, 0, 0, 0, 0, 1, 1, 1, 0, 1, 1, 0,\n",
              "       1, 1, 1, 1, 1, 0, 0, 0])"
            ]
          },
          "execution_count": 4,
          "metadata": {},
          "output_type": "execute_result"
        }
      ],
      "source": [
        "iris = load_iris()\n",
        "X = pd.DataFrame(iris.data, columns=iris.feature_names)\n",
        "y = iris.target\n",
        "\n",
        "y[y == 2] = 0  # converte em binario\n",
        "# X = X.iloc[:, :2] # corta colunas do df\n",
        "\n",
        "X_train, X_test, y_train, y_test = train_test_split(\n",
        "    X, y, test_size=0.2, random_state=101\n",
        ")\n",
        "\n",
        "model = XGBClassifier(n_estimators=100, max_depth=3, learning_rate=1)\n",
        "model.fit(X_train, y_train)\n",
        "\n",
        "preds = model.predict(X_test)\n",
        "preds"
      ]
    },
    {
      "cell_type": "code",
      "execution_count": 5,
      "metadata": {
        "colab": {
          "base_uri": "https://localhost:8080/"
        },
        "id": "iX1dckx4rz1k",
        "outputId": "b6413c01-92f5-4dc3-ac2c-8a76f396beff"
      },
      "outputs": [
        {
          "data": {
            "text/plain": [
              "array([0, 0, 0, 1, 1, 0, 1, 1, 0, 0, 0, 0, 0, 0, 0, 1, 1, 1, 0, 1, 1, 0,\n",
              "       1, 1, 1, 1, 1, 0, 0, 0])"
            ]
          },
          "execution_count": 5,
          "metadata": {},
          "output_type": "execute_result"
        }
      ],
      "source": [
        "y_pred = model.predict(X_test)\n",
        "y_pred"
      ]
    },
    {
      "cell_type": "code",
      "execution_count": 6,
      "metadata": {
        "id": "rHckE7tk5HKM"
      },
      "outputs": [],
      "source": [
        "explainer = XGBoostExplainer(model, X_train)"
      ]
    },
    {
      "cell_type": "code",
      "execution_count": 7,
      "metadata": {
        "colab": {
          "base_uri": "https://localhost:8080/"
        },
        "id": "vPd0l85kwpXc",
        "outputId": "108b2856-d756-44e8-ccf9-5e91ece0299f"
      },
      "outputs": [
        {
          "name": "stdout",
          "output_type": "stream",
          "text": [
            "[petal length (cm) == 1.4, petal width (cm) == 0.2]\n"
          ]
        }
      ],
      "source": [
        "exp = explainer.explain_prob(X_test.values[0], reorder=\"desc\")\n",
        "print(exp)"
      ]
    },
    {
      "cell_type": "code",
      "execution_count": 8,
      "metadata": {
        "colab": {
          "base_uri": "https://localhost:8080/"
        },
        "id": "1WKFn2yBXWf2",
        "outputId": "86f5cb11-d7c8-4753-b08f-66c19ce0664d"
      },
      "outputs": [
        {
          "name": "stdout",
          "output_type": "stream",
          "text": [
            "[petal length (cm) == 1.4, petal width (cm) == 0.2, sepal width (cm) == 4.2, sepal length (cm) == 5.5]\n",
            "-3.141518\n"
          ]
        }
      ],
      "source": [
        "exp = explainer.explain_prob(X_test.values[0], reorder=\"desc\", threshold_margin=100)\n",
        "print(exp)\n",
        "print(explainer.xai_predicted_margin)"
      ]
    },
    {
      "cell_type": "code",
      "execution_count": 9,
      "metadata": {
        "colab": {
          "base_uri": "https://localhost:8080/"
        },
        "id": "p0QVZoWU5a5n",
        "outputId": "8ac63589-2fbb-4dc3-fb50-47a00572f0ad"
      },
      "outputs": [
        {
          "name": "stdout",
          "output_type": "stream",
          "text": [
            "[petal length (cm) == 1.4, sepal width (cm) == 4.2, sepal length (cm) == 5.5]\n"
          ]
        }
      ],
      "source": [
        "exp = explainer.explain(X_test.values[0], reorder=\"desc\")\n",
        "print(exp)"
      ]
    },
    {
      "cell_type": "code",
      "execution_count": 10,
      "metadata": {
        "id": "5NIOK3m6ArhB"
      },
      "outputs": [],
      "source": [
        "# print(explainer.T_model)"
      ]
    },
    {
      "cell_type": "code",
      "execution_count": 11,
      "metadata": {
        "colab": {
          "base_uri": "https://localhost:8080/"
        },
        "id": "UfpUzk1pCEwt",
        "outputId": "516cc3f5-1781-44fc-d32c-72eeb4ba127d"
      },
      "outputs": [
        {
          "name": "stdout",
          "output_type": "stream",
          "text": [
            "-0.7333348\n"
          ]
        }
      ],
      "source": [
        "print(explainer.init_value)"
      ]
    },
    {
      "cell_type": "code",
      "execution_count": 12,
      "metadata": {
        "colab": {
          "base_uri": "https://localhost:8080/"
        },
        "id": "a_z8MaPyBK-5",
        "outputId": "9b0e4d3e-3e1d-4428-9e57-f164cb77c128"
      },
      "outputs": [
        {
          "name": "stdout",
          "output_type": "stream",
          "text": [
            "[ 0.07500264 -0.04069147 -2.756219    1.0742453  -1.4938543 ]\n",
            "-1.6476625\n",
            "-3.1415167\n",
            "Bias term: -1.4938543\n"
          ]
        }
      ],
      "source": [
        "booster = model.get_booster()\n",
        "\n",
        "sample = X_test.iloc[[0]]  # Pegamos apenas uma amostra\n",
        "\n",
        "pred_contrib = booster.predict(xgb.DMatrix(sample), pred_contribs=True)\n",
        "pred_contrib = np.array(pred_contrib[0])\n",
        "\n",
        "# print(pred_contrib.shape)\n",
        "print(pred_contrib)\n",
        "\n",
        "contribuicoes_somadas = np.sum(pred_contrib[:-1])\n",
        "print(contribuicoes_somadas)\n",
        "\n",
        "logits = contribuicoes_somadas + pred_contrib[-1]\n",
        "print(logits)\n",
        "\n",
        "bias_column = pred_contrib[-1]\n",
        "print(\"Bias term:\", bias_column)"
      ]
    },
    {
      "cell_type": "code",
      "execution_count": 13,
      "metadata": {
        "colab": {
          "base_uri": "https://localhost:8080/"
        },
        "id": "MKjWDJ6gCcEy",
        "outputId": "3c9a9ea6-0359-4661-b610-a9a76bc98588"
      },
      "outputs": [
        {
          "name": "stdout",
          "output_type": "stream",
          "text": [
            "modelprob: -3.1415181159973145\n",
            "- xreasson (prob=0):\n",
            "[petal width (cm) == 0.2, petal length (cm) == 1.4]\n",
            "xaiprob: -0.23972497837\n",
            "\n",
            "- threshold 37%\n",
            "[sepal length (cm) == 5.5, petal width (cm) == 0.2, petal length (cm) == 1.4]\n",
            "xaiprob: -1.5097533384\n",
            "\n",
            "-----------------------------\n",
            "modelprob: -4.220382213592529\n",
            "- xreasson (prob=0):\n",
            "[petal width (cm) == 0.4, petal length (cm) == 1.3]\n",
            "xaiprob: -0.23972497837\n",
            "\n",
            "- threshold 37%\n",
            "[sepal length (cm) == 5.4, petal width (cm) == 0.4, petal length (cm) == 1.3]\n",
            "xaiprob: -1.7848787084\n",
            "\n",
            "-----------------------------\n",
            "modelprob: -5.1165947914123535\n",
            "- xreasson (prob=0):\n",
            "[petal width (cm) == 0.6, petal length (cm) == 1.6]\n",
            "xaiprob: -0.23972497837\n",
            "\n",
            "- threshold 37%\n",
            "[sepal length (cm) == 5, petal width (cm) == 0.6, petal length (cm) == 1.6]\n",
            "xaiprob: -2.6810915544\n",
            "\n",
            "-----------------------------\n",
            "modelprob: 3.4081568717956543\n",
            "- xreasson (prob=0):\n",
            "[petal width (cm) == 1.6, petal length (cm) == 5.8]\n",
            "xaiprob: 1.45545608013\n",
            "\n",
            "- threshold 37%\n",
            "[petal width (cm) == 1.6, petal length (cm) == 5.8]\n",
            "xaiprob: 1.45545608013\n",
            "\n",
            "-----------------------------\n",
            "modelprob: 4.972839832305908\n",
            "- xreasson (prob=0):\n",
            "[petal width (cm) == 1.4, petal length (cm) == 4.7]\n",
            "xaiprob: 2.1031392312\n",
            "\n",
            "- threshold 37%\n",
            "[petal width (cm) == 1.4, petal length (cm) == 4.7]\n",
            "xaiprob: 2.1031392312\n",
            "\n",
            "-----------------------------\n",
            "modelprob: -3.465251922607422\n",
            "- xreasson (prob=0):\n",
            "[sepal width (cm) == 2.7, petal width (cm) == 1.8]\n",
            "xaiprob: -0.4217064489\n",
            "\n",
            "- threshold 37%\n",
            "[sepal width (cm) == 2.7, petal width (cm) == 1.8, petal length (cm) == 4.9]\n",
            "xaiprob: -1.8419276601\n",
            "\n",
            "-----------------------------\n",
            "modelprob: 4.356898784637451\n",
            "- xreasson (prob=0):\n",
            "[petal width (cm) == 1.5, petal length (cm) == 4.5]\n",
            "xaiprob: 2.2011275767\n",
            "\n",
            "- threshold 37%\n",
            "[petal width (cm) == 1.5, petal length (cm) == 4.5]\n",
            "xaiprob: 2.2011275767\n",
            "\n",
            "-----------------------------\n",
            "modelprob: 4.143106937408447\n",
            "- xreasson (prob=0):\n",
            "[petal width (cm) == 1.3, petal length (cm) == 4]\n",
            "xaiprob: 2.4606338763\n",
            "\n",
            "- threshold 37%\n",
            "[petal width (cm) == 1.3, petal length (cm) == 4]\n",
            "xaiprob: 2.4606338763\n",
            "\n",
            "-----------------------------\n",
            "modelprob: -4.97383975982666\n",
            "- xreasson (prob=0):\n",
            "[petal width (cm) == 1.9, petal length (cm) == 5]\n",
            "xaiprob: -1.3066706026\n",
            "\n",
            "- threshold 37%\n",
            "[sepal width (cm) == 2.5, petal width (cm) == 1.9, petal length (cm) == 5]\n",
            "xaiprob: -3.3505162223\n",
            "\n",
            "-----------------------------\n",
            "modelprob: -5.1165947914123535\n",
            "- xreasson (prob=0):\n",
            "[petal width (cm) == 0.2, petal length (cm) == 1.4]\n",
            "xaiprob: -0.23972497837\n",
            "\n",
            "- threshold 37%\n",
            "[sepal length (cm) == 4.9, petal width (cm) == 0.2, petal length (cm) == 1.4]\n",
            "xaiprob: -2.6810915544\n",
            "\n",
            "-----------------------------\n",
            "modelprob: -4.86541748046875\n",
            "- xreasson (prob=0):\n",
            "[petal width (cm) == 2, petal length (cm) == 5.2]\n",
            "xaiprob: -3.2420941886\n",
            "\n",
            "- threshold 37%\n",
            "[petal width (cm) == 2, petal length (cm) == 5.2]\n",
            "xaiprob: -3.2420941886\n",
            "\n",
            "-----------------------------\n",
            "modelprob: -4.220382213592529\n",
            "- xreasson (prob=0):\n",
            "[petal width (cm) == 0.1, petal length (cm) == 1.5]\n",
            "xaiprob: -0.23972497837\n",
            "\n",
            "- threshold 37%\n",
            "[sepal length (cm) == 5.2, petal width (cm) == 0.1, petal length (cm) == 1.5]\n",
            "xaiprob: -1.7848787084\n",
            "\n",
            "-----------------------------\n",
            "modelprob: -4.220382213592529\n",
            "- xreasson (prob=0):\n",
            "[petal width (cm) == 0.4, petal length (cm) == 1.5]\n",
            "xaiprob: -0.23972497837\n",
            "\n",
            "- threshold 37%\n",
            "[sepal length (cm) == 5.4, petal width (cm) == 0.4, petal length (cm) == 1.5]\n",
            "xaiprob: -1.7848787084\n",
            "\n",
            "-----------------------------\n",
            "modelprob: -6.105521202087402\n",
            "- xreasson (prob=0):\n",
            "[petal width (cm) == 2, petal length (cm) == 6.7]\n",
            "xaiprob: -3.2420941886\n",
            "\n",
            "- threshold 37%\n",
            "[petal width (cm) == 2, petal length (cm) == 6.7]\n",
            "xaiprob: -3.2420941886\n",
            "\n",
            "-----------------------------\n",
            "modelprob: -1.4214075803756714\n",
            "- xreasson (prob=0):\n",
            "[sepal length (cm) == 6.1, petal width (cm) == 1.8, petal length (cm) == 4.9]\n",
            "xaiprob: -0.68807381833\n",
            "\n",
            "- threshold 37%\n",
            "[sepal length (cm) == 6.1, petal width (cm) == 1.8, petal length (cm) == 4.9]\n",
            "xaiprob: -0.68807381833\n",
            "\n",
            "-----------------------------\n",
            "modelprob: 5.500913143157959\n",
            "- xreasson (prob=0):\n",
            "[petal width (cm) == 1.3, petal length (cm) == 4.3]\n",
            "xaiprob: 2.4606338763\n",
            "\n",
            "- threshold 37%\n",
            "[petal width (cm) == 1.3, petal length (cm) == 4.3]\n",
            "xaiprob: 2.4606338763\n",
            "\n",
            "-----------------------------\n",
            "modelprob: 3.7023792266845703\n",
            "- xreasson (prob=0):\n",
            "[petal width (cm) == 1.3, petal length (cm) == 4.1]\n",
            "xaiprob: 2.4606338763\n",
            "\n",
            "- threshold 37%\n",
            "[petal width (cm) == 1.3, petal length (cm) == 4.1]\n",
            "xaiprob: 2.4606338763\n",
            "\n",
            "-----------------------------\n",
            "modelprob: 4.393024921417236\n",
            "- xreasson (prob=0):\n",
            "[petal width (cm) == 1.3, petal length (cm) == 4.2]\n",
            "xaiprob: 2.4606338763\n",
            "\n",
            "- threshold 37%\n",
            "[petal width (cm) == 1.3, petal length (cm) == 4.2]\n",
            "xaiprob: 2.4606338763\n",
            "\n",
            "-----------------------------\n",
            "modelprob: -5.1165947914123535\n",
            "- xreasson (prob=0):\n",
            "[petal width (cm) == 0.2, petal length (cm) == 1.3]\n",
            "xaiprob: -0.23972497837\n",
            "\n",
            "- threshold 37%\n",
            "[sepal length (cm) == 4.4, petal width (cm) == 0.2, petal length (cm) == 1.3]\n",
            "xaiprob: -2.6810915544\n",
            "\n",
            "-----------------------------\n",
            "modelprob: 0.15157705545425415\n",
            "- xreasson (prob=0):\n",
            "[sepal length (cm) == 6.1, sepal width (cm) == 2.6, petal width (cm) == 1.4, petal length (cm) == 5.6]\n",
            "xaiprob: 0.15157706\n",
            "\n",
            "- threshold 37%\n",
            "[sepal length (cm) == 6.1, sepal width (cm) == 2.6, petal width (cm) == 1.4, petal length (cm) == 5.6]\n",
            "xaiprob: 0.15157706\n",
            "\n",
            "-----------------------------\n",
            "modelprob: 4.143106937408447\n",
            "- xreasson (prob=0):\n",
            "[petal width (cm) == 1.1, petal length (cm) == 3.8]\n",
            "xaiprob: 2.4606338763\n",
            "\n",
            "- threshold 37%\n",
            "[petal width (cm) == 1.1, petal length (cm) == 3.8]\n",
            "xaiprob: 2.4606338763\n",
            "\n",
            "-----------------------------\n",
            "modelprob: -4.220382213592529\n",
            "- xreasson (prob=0):\n",
            "[petal width (cm) == 0.2, petal length (cm) == 1.5]\n",
            "xaiprob: -0.23972497837\n",
            "\n",
            "- threshold 37%\n",
            "[sepal length (cm) == 5.3, petal width (cm) == 0.2, petal length (cm) == 1.5]\n",
            "xaiprob: -1.7848787084\n",
            "\n",
            "-----------------------------\n",
            "modelprob: 4.663171291351318\n",
            "- xreasson (prob=0):\n",
            "[petal width (cm) == 1.2, petal length (cm) == 4.4]\n",
            "xaiprob: 2.4606338763\n",
            "\n",
            "- threshold 37%\n",
            "[petal width (cm) == 1.2, petal length (cm) == 4.4]\n",
            "xaiprob: 2.4606338763\n",
            "\n",
            "-----------------------------\n",
            "modelprob: 5.3303351402282715\n",
            "- xreasson (prob=0):\n",
            "[petal width (cm) == 1.4, petal length (cm) == 4.4]\n",
            "xaiprob: 2.4606338763\n",
            "\n",
            "- threshold 37%\n",
            "[petal width (cm) == 1.4, petal length (cm) == 4.4]\n",
            "xaiprob: 2.4606338763\n",
            "\n",
            "-----------------------------\n",
            "modelprob: 5.500913143157959\n",
            "- xreasson (prob=0):\n",
            "[petal width (cm) == 1.3, petal length (cm) == 4.3]\n",
            "xaiprob: 2.4606338763\n",
            "\n",
            "- threshold 37%\n",
            "[petal width (cm) == 1.3, petal length (cm) == 4.3]\n",
            "xaiprob: 2.4606338763\n",
            "\n",
            "-----------------------------\n",
            "modelprob: 3.872957706451416\n",
            "- xreasson (prob=0):\n",
            "[petal width (cm) == 1.3, petal length (cm) == 3.6]\n",
            "xaiprob: 2.4606338763\n",
            "\n",
            "- threshold 37%\n",
            "[petal width (cm) == 1.3, petal length (cm) == 3.6]\n",
            "xaiprob: 2.4606338763\n",
            "\n",
            "-----------------------------\n",
            "modelprob: 2.971766471862793\n",
            "- xreasson (prob=0):\n",
            "[petal width (cm) == 1, petal length (cm) == 3.3]\n",
            "xaiprob: 2.4606338763\n",
            "\n",
            "- threshold 37%\n",
            "[petal width (cm) == 1, petal length (cm) == 3.3]\n",
            "xaiprob: 2.4606338763\n",
            "\n",
            "-----------------------------\n",
            "modelprob: -5.693559169769287\n",
            "- xreasson (prob=0):\n",
            "[petal width (cm) == 2.4, petal length (cm) == 5.1]\n",
            "xaiprob: -3.2420941886\n",
            "\n",
            "- threshold 37%\n",
            "[petal width (cm) == 2.4, petal length (cm) == 5.1]\n",
            "xaiprob: -3.2420941886\n",
            "\n",
            "-----------------------------\n",
            "modelprob: -5.1165947914123535\n",
            "- xreasson (prob=0):\n",
            "[petal width (cm) == 0.2, petal length (cm) == 1.6]\n",
            "xaiprob: -0.23972497837\n",
            "\n",
            "- threshold 37%\n",
            "[sepal length (cm) == 5, petal width (cm) == 0.2, petal length (cm) == 1.6]\n",
            "xaiprob: -2.6810915544\n",
            "\n",
            "-----------------------------\n",
            "modelprob: -3.8721299171447754\n",
            "- xreasson (prob=0):\n",
            "[petal width (cm) == 0.3, petal length (cm) == 1.3]\n",
            "xaiprob: -0.23972497837\n",
            "\n",
            "- threshold 37%\n",
            "[sepal length (cm) == 4.5, petal width (cm) == 0.3, petal length (cm) == 1.3]\n",
            "xaiprob: -2.6810915544\n",
            "\n",
            "-----------------------------\n"
          ]
        }
      ],
      "source": [
        "range_metric_list = []\n",
        "for i in range(X_test.shape[0]):\n",
        "    print(\"modelprob:\", model.predict([X_test.values[i]], output_margin=True).item())\n",
        "    print(\"- xreasson (prob=0):\")\n",
        "    print(explainer.explain_prob(X_test.values[i], reorder=\"asc\"))\n",
        "    print(\"xaiprob:\",  explainer.xai_predicted_margin)\n",
        "\n",
        "    t1 = 37\n",
        "    print(f\"\\n- threshold {t1}%\")\n",
        "    print(explainer.explain_prob(X_test.values[i], reorder=\"asc\", threshold_margin=t1))\n",
        "    print(\"xaiprob:\",  explainer.xai_predicted_margin)\n",
        "\n",
        "    # t2 = 100\n",
        "    # print(f\"\\n- threshold {t2}%\")\n",
        "    # print(explainer.explain_prob(X_test.values[i], reorder=\"asc\", threshold_margin=t2))\n",
        "    # print(\"xaiprob:\", explainer.xai_predicted_margin)\n",
        "    print(\"\\n-----------------------------\")"
      ]
    },
    {
      "cell_type": "markdown",
      "metadata": {
        "id": "rQoQDoMFjOX2"
      },
      "source": [
        "# filter df examples"
      ]
    },
    {
      "cell_type": "code",
      "execution_count": 14,
      "metadata": {
        "colab": {
          "base_uri": "https://localhost:8080/",
          "height": 423
        },
        "id": "kSRdOYWJjnXQ",
        "outputId": "364c6366-b1a1-4809-8643-da380fde0446"
      },
      "outputs": [
        {
          "data": {
            "text/html": [
              "<div>\n",
              "<style scoped>\n",
              "    .dataframe tbody tr th:only-of-type {\n",
              "        vertical-align: middle;\n",
              "    }\n",
              "\n",
              "    .dataframe tbody tr th {\n",
              "        vertical-align: top;\n",
              "    }\n",
              "\n",
              "    .dataframe thead th {\n",
              "        text-align: right;\n",
              "    }\n",
              "</style>\n",
              "<table border=\"1\" class=\"dataframe\">\n",
              "  <thead>\n",
              "    <tr style=\"text-align: right;\">\n",
              "      <th></th>\n",
              "      <th>sepal length (cm)</th>\n",
              "      <th>sepal width (cm)</th>\n",
              "      <th>petal length (cm)</th>\n",
              "      <th>petal width (cm)</th>\n",
              "    </tr>\n",
              "  </thead>\n",
              "  <tbody>\n",
              "    <tr>\n",
              "      <th>0</th>\n",
              "      <td>5.1</td>\n",
              "      <td>3.5</td>\n",
              "      <td>1.4</td>\n",
              "      <td>0.2</td>\n",
              "    </tr>\n",
              "    <tr>\n",
              "      <th>1</th>\n",
              "      <td>4.9</td>\n",
              "      <td>3.0</td>\n",
              "      <td>1.4</td>\n",
              "      <td>0.2</td>\n",
              "    </tr>\n",
              "    <tr>\n",
              "      <th>2</th>\n",
              "      <td>4.7</td>\n",
              "      <td>3.2</td>\n",
              "      <td>1.3</td>\n",
              "      <td>0.2</td>\n",
              "    </tr>\n",
              "    <tr>\n",
              "      <th>3</th>\n",
              "      <td>4.6</td>\n",
              "      <td>3.1</td>\n",
              "      <td>1.5</td>\n",
              "      <td>0.2</td>\n",
              "    </tr>\n",
              "    <tr>\n",
              "      <th>4</th>\n",
              "      <td>5.0</td>\n",
              "      <td>3.6</td>\n",
              "      <td>1.4</td>\n",
              "      <td>0.2</td>\n",
              "    </tr>\n",
              "    <tr>\n",
              "      <th>...</th>\n",
              "      <td>...</td>\n",
              "      <td>...</td>\n",
              "      <td>...</td>\n",
              "      <td>...</td>\n",
              "    </tr>\n",
              "    <tr>\n",
              "      <th>145</th>\n",
              "      <td>6.7</td>\n",
              "      <td>3.0</td>\n",
              "      <td>5.2</td>\n",
              "      <td>2.3</td>\n",
              "    </tr>\n",
              "    <tr>\n",
              "      <th>146</th>\n",
              "      <td>6.3</td>\n",
              "      <td>2.5</td>\n",
              "      <td>5.0</td>\n",
              "      <td>1.9</td>\n",
              "    </tr>\n",
              "    <tr>\n",
              "      <th>147</th>\n",
              "      <td>6.5</td>\n",
              "      <td>3.0</td>\n",
              "      <td>5.2</td>\n",
              "      <td>2.0</td>\n",
              "    </tr>\n",
              "    <tr>\n",
              "      <th>148</th>\n",
              "      <td>6.2</td>\n",
              "      <td>3.4</td>\n",
              "      <td>5.4</td>\n",
              "      <td>2.3</td>\n",
              "    </tr>\n",
              "    <tr>\n",
              "      <th>149</th>\n",
              "      <td>5.9</td>\n",
              "      <td>3.0</td>\n",
              "      <td>5.1</td>\n",
              "      <td>1.8</td>\n",
              "    </tr>\n",
              "  </tbody>\n",
              "</table>\n",
              "<p>150 rows × 4 columns</p>\n",
              "</div>"
            ],
            "text/plain": [
              "     sepal length (cm)  sepal width (cm)  petal length (cm)  petal width (cm)\n",
              "0                  5.1               3.5                1.4               0.2\n",
              "1                  4.9               3.0                1.4               0.2\n",
              "2                  4.7               3.2                1.3               0.2\n",
              "3                  4.6               3.1                1.5               0.2\n",
              "4                  5.0               3.6                1.4               0.2\n",
              "..                 ...               ...                ...               ...\n",
              "145                6.7               3.0                5.2               2.3\n",
              "146                6.3               2.5                5.0               1.9\n",
              "147                6.5               3.0                5.2               2.0\n",
              "148                6.2               3.4                5.4               2.3\n",
              "149                5.9               3.0                5.1               1.8\n",
              "\n",
              "[150 rows x 4 columns]"
            ]
          },
          "execution_count": 14,
          "metadata": {},
          "output_type": "execute_result"
        }
      ],
      "source": [
        "X"
      ]
    },
    {
      "cell_type": "code",
      "execution_count": 15,
      "metadata": {
        "id": "r_z86U_kjHY6"
      },
      "outputs": [],
      "source": [
        "def filter_df_by_conditions(df, conditions):\n",
        "    \"\"\"\n",
        "    Filtra um DataFrame com base em uma lista de condições no formato:\n",
        "    [feature1 == value1, feature2 == value2, ...]\n",
        "\n",
        "    Args:\n",
        "        df (pd.DataFrame): DataFrame original contendo os dados.\n",
        "        conditions (list): Lista de condições no formato [feature == value, feature == value].\n",
        "        target_column (str): Nome da coluna alvo (y) a ser mantida no resultado.\n",
        "\n",
        "    Returns:\n",
        "        pd.DataFrame: DataFrame filtrado com as condições aplicadas.\n",
        "    \"\"\"\n",
        "    filtered_df = df.copy()\n",
        "    for condition in conditions:\n",
        "        feature, value = condition.arg(0), float(condition.arg(1).as_fraction())  # Extrai nome e valor\n",
        "        filtered_df = filtered_df[filtered_df[str(feature)] == value]  # Filtra o DataFrame\n",
        "\n",
        "    return filtered_df"
      ]
    },
    {
      "cell_type": "code",
      "execution_count": 16,
      "metadata": {
        "id": "Pdcpaq2Kpppv"
      },
      "outputs": [],
      "source": [
        "model = XGBClassifier(n_estimators=100, max_depth=3, learning_rate=1)\n",
        "model.fit(X, y)\n",
        "explainer = XGBoostExplainer(model, X)"
      ]
    },
    {
      "cell_type": "code",
      "execution_count": 17,
      "metadata": {
        "colab": {
          "base_uri": "https://localhost:8080/"
        },
        "id": "Qi4p9VM4o9D9",
        "outputId": "9c0353d6-6f8a-4ac3-cc88-df3df7440f88"
      },
      "outputs": [
        {
          "name": "stdout",
          "output_type": "stream",
          "text": [
            "[5.1 3.5 1.4 0.2]\n"
          ]
        }
      ],
      "source": [
        "sample = X.values[0]\n",
        "print(sample)\n",
        "conditions = explainer.explain_prob(sample, reorder=\"asc\")"
      ]
    },
    {
      "cell_type": "code",
      "execution_count": 21,
      "metadata": {
        "colab": {
          "base_uri": "https://localhost:8080/"
        },
        "id": "cAiUfHg5lScQ",
        "outputId": "1f918330-d82a-4bd1-f2d1-311000594e80"
      },
      "outputs": [
        {
          "name": "stdout",
          "output_type": "stream",
          "text": [
            "51 | len =  5\n",
            "66 | len =  5\n",
            "68 | len =  5\n",
            "78 | len =  5\n",
            "84 | len =  5\n"
          ]
        }
      ],
      "source": [
        "for i in range(len(X)):\n",
        "  sample = X.values[i]\n",
        "  conditions = explainer.explain_prob(sample, reorder=\"asc\")\n",
        "  # print(conditions)\n",
        "  filtered = filter_df_by_conditions(pd.concat([X, pd.DataFrame(y, columns=['target'])], axis=1), conditions)\n",
        "  if len(filtered) > 3:\n",
        "    print(i, \"| len = \", len(filtered))"
      ]
    },
    {
      "cell_type": "code",
      "execution_count": 26,
      "metadata": {
        "id": "lDLFbIb7lhbV"
      },
      "outputs": [
        {
          "name": "stdout",
          "output_type": "stream",
          "text": [
            "[petal length (cm) == 4.5, petal width (cm) == 1.5]\n"
          ]
        },
        {
          "data": {
            "text/html": [
              "<div>\n",
              "<style scoped>\n",
              "    .dataframe tbody tr th:only-of-type {\n",
              "        vertical-align: middle;\n",
              "    }\n",
              "\n",
              "    .dataframe tbody tr th {\n",
              "        vertical-align: top;\n",
              "    }\n",
              "\n",
              "    .dataframe thead th {\n",
              "        text-align: right;\n",
              "    }\n",
              "</style>\n",
              "<table border=\"1\" class=\"dataframe\">\n",
              "  <thead>\n",
              "    <tr style=\"text-align: right;\">\n",
              "      <th></th>\n",
              "      <th>sepal length (cm)</th>\n",
              "      <th>sepal width (cm)</th>\n",
              "      <th>petal length (cm)</th>\n",
              "      <th>petal width (cm)</th>\n",
              "      <th>target</th>\n",
              "    </tr>\n",
              "  </thead>\n",
              "  <tbody>\n",
              "    <tr>\n",
              "      <th>51</th>\n",
              "      <td>6.4</td>\n",
              "      <td>3.2</td>\n",
              "      <td>4.5</td>\n",
              "      <td>1.5</td>\n",
              "      <td>1</td>\n",
              "    </tr>\n",
              "    <tr>\n",
              "      <th>66</th>\n",
              "      <td>5.6</td>\n",
              "      <td>3.0</td>\n",
              "      <td>4.5</td>\n",
              "      <td>1.5</td>\n",
              "      <td>1</td>\n",
              "    </tr>\n",
              "    <tr>\n",
              "      <th>68</th>\n",
              "      <td>6.2</td>\n",
              "      <td>2.2</td>\n",
              "      <td>4.5</td>\n",
              "      <td>1.5</td>\n",
              "      <td>1</td>\n",
              "    </tr>\n",
              "    <tr>\n",
              "      <th>78</th>\n",
              "      <td>6.0</td>\n",
              "      <td>2.9</td>\n",
              "      <td>4.5</td>\n",
              "      <td>1.5</td>\n",
              "      <td>1</td>\n",
              "    </tr>\n",
              "    <tr>\n",
              "      <th>84</th>\n",
              "      <td>5.4</td>\n",
              "      <td>3.0</td>\n",
              "      <td>4.5</td>\n",
              "      <td>1.5</td>\n",
              "      <td>1</td>\n",
              "    </tr>\n",
              "  </tbody>\n",
              "</table>\n",
              "</div>"
            ],
            "text/plain": [
              "    sepal length (cm)  sepal width (cm)  petal length (cm)  petal width (cm)  \\\n",
              "51                6.4               3.2                4.5               1.5   \n",
              "66                5.6               3.0                4.5               1.5   \n",
              "68                6.2               2.2                4.5               1.5   \n",
              "78                6.0               2.9                4.5               1.5   \n",
              "84                5.4               3.0                4.5               1.5   \n",
              "\n",
              "    target  \n",
              "51       1  \n",
              "66       1  \n",
              "68       1  \n",
              "78       1  \n",
              "84       1  "
            ]
          },
          "execution_count": 26,
          "metadata": {},
          "output_type": "execute_result"
        }
      ],
      "source": [
        "sample = X.values[51]\n",
        "conditions = explainer.explain_prob(sample, reorder=\"asc\")\n",
        "print(conditions)\n",
        "filtered = filter_df_by_conditions(pd.concat([X, pd.DataFrame(y, columns=['target'])], axis=1), conditions)\n",
        "filtered"
      ]
    },
    {
      "cell_type": "code",
      "execution_count": 29,
      "metadata": {
        "id": "fEsRRx8Vn9ZA"
      },
      "outputs": [
        {
          "name": "stdout",
          "output_type": "stream",
          "text": [
            "[sepal length (cm) == 6.4, petal length (cm) == 4.5, petal width (cm) == 1.5]\n"
          ]
        },
        {
          "data": {
            "text/html": [
              "<div>\n",
              "<style scoped>\n",
              "    .dataframe tbody tr th:only-of-type {\n",
              "        vertical-align: middle;\n",
              "    }\n",
              "\n",
              "    .dataframe tbody tr th {\n",
              "        vertical-align: top;\n",
              "    }\n",
              "\n",
              "    .dataframe thead th {\n",
              "        text-align: right;\n",
              "    }\n",
              "</style>\n",
              "<table border=\"1\" class=\"dataframe\">\n",
              "  <thead>\n",
              "    <tr style=\"text-align: right;\">\n",
              "      <th></th>\n",
              "      <th>sepal length (cm)</th>\n",
              "      <th>sepal width (cm)</th>\n",
              "      <th>petal length (cm)</th>\n",
              "      <th>petal width (cm)</th>\n",
              "      <th>target</th>\n",
              "    </tr>\n",
              "  </thead>\n",
              "  <tbody>\n",
              "    <tr>\n",
              "      <th>51</th>\n",
              "      <td>6.4</td>\n",
              "      <td>3.2</td>\n",
              "      <td>4.5</td>\n",
              "      <td>1.5</td>\n",
              "      <td>1</td>\n",
              "    </tr>\n",
              "  </tbody>\n",
              "</table>\n",
              "</div>"
            ],
            "text/plain": [
              "    sepal length (cm)  sepal width (cm)  petal length (cm)  petal width (cm)  \\\n",
              "51                6.4               3.2                4.5               1.5   \n",
              "\n",
              "    target  \n",
              "51       1  "
            ]
          },
          "execution_count": 29,
          "metadata": {},
          "output_type": "execute_result"
        }
      ],
      "source": [
        "conditions = explainer.explain_prob(sample, reorder=\"asc\", threshold_margin=40)\n",
        "print(conditions)\n",
        "filtered = filter_df_by_conditions(pd.concat([X, pd.DataFrame(y, columns=['target'])], axis=1), conditions)\n",
        "filtered"
      ]
    }
  ],
  "metadata": {
    "colab": {
      "provenance": []
    },
    "kernelspec": {
      "display_name": "env",
      "language": "python",
      "name": "python3"
    },
    "language_info": {
      "codemirror_mode": {
        "name": "ipython",
        "version": 3
      },
      "file_extension": ".py",
      "mimetype": "text/x-python",
      "name": "python",
      "nbconvert_exporter": "python",
      "pygments_lexer": "ipython3",
      "version": "3.12.4"
    }
  },
  "nbformat": 4,
  "nbformat_minor": 0
}
