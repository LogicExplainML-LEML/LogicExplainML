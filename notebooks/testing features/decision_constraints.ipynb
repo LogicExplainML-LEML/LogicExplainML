{
 "cells": [
  {
   "cell_type": "code",
   "execution_count": 3,
   "metadata": {},
   "outputs": [],
   "source": [
    "from z3 import *\n",
    "from sklearn.datasets import load_iris\n",
    "import pandas as pd\n",
    "import numpy as np\n",
    "from sklearn.model_selection import train_test_split\n",
    "from xgboost import XGBClassifier"
   ]
  },
  {
   "cell_type": "code",
   "execution_count": 4,
   "metadata": {},
   "outputs": [],
   "source": [
    "from logic_explain_ml.xgboost import XGBoostExplainer"
   ]
  },
  {
   "cell_type": "code",
   "execution_count": 5,
   "metadata": {},
   "outputs": [
    {
     "data": {
      "text/plain": [
       "array([0, 0, 0, 0, 1, 0, 1, 1, 0, 0, 0, 0, 0, 0, 0, 1, 1, 1, 0, 0, 1, 0,\n",
       "       1, 1, 1, 1, 1, 0, 0, 0])"
      ]
     },
     "execution_count": 5,
     "metadata": {},
     "output_type": "execute_result"
    }
   ],
   "source": [
    "iris = load_iris()\n",
    "X = pd.DataFrame(iris.data, columns=iris.feature_names)\n",
    "y = iris.target\n",
    "\n",
    "# y = np.where(y == 0, 0, 1)  # converte em binario\n",
    "y[y == 2] = 0\n",
    "# X = X.iloc[:, :2] # corta colunas do df\n",
    "\n",
    "X_train, X_test, y_train, y_test = train_test_split(\n",
    "    X, y, test_size=0.2, random_state=101\n",
    ")\n",
    "\n",
    "xgbc = XGBClassifier(n_estimators=100, max_depth=3, learning_rate=0.1)\n",
    "xgbc.fit(X_train, y_train)\n",
    "\n",
    "preds = xgbc.predict(X_test)\n",
    "preds"
   ]
  },
  {
   "cell_type": "code",
   "execution_count": 6,
   "metadata": {},
   "outputs": [],
   "source": [
    "explainer = XGBoostExplainer(xgbc, X)\n",
    "explainer.fit()"
   ]
  },
  {
   "cell_type": "code",
   "execution_count": 7,
   "metadata": {},
   "outputs": [
    {
     "data": {
      "text/plain": [
       "(array([0.03358656, 0.02979117, 0.3463788 , 0.59024346], dtype=float32),\n",
       " array(['sepal length (cm)', 'sepal width (cm)', 'petal length (cm)',\n",
       "        'petal width (cm)'], dtype='<U17'))"
      ]
     },
     "execution_count": 7,
     "metadata": {},
     "output_type": "execute_result"
    }
   ],
   "source": [
    "xgbc.feature_importances_, xgbc.feature_names_in_"
   ]
  },
  {
   "cell_type": "code",
   "execution_count": 8,
   "metadata": {},
   "outputs": [
    {
     "name": "stdout",
     "output_type": "stream",
     "text": [
      "[petal length (cm) == 1.4]\n"
     ]
    }
   ],
   "source": [
    "sample = [5.5, 4.2, 1.4, 0.2]\n",
    "exp = explainer.explain(sample, reorder=\"asc\")\n",
    "print(exp)"
   ]
  },
  {
   "cell_type": "code",
   "execution_count": 9,
   "metadata": {},
   "outputs": [
    {
     "name": "stdout",
     "output_type": "stream",
     "text": [
      "[petal length (cm) == 1.4]\n",
      "[petal length (cm) == 1.3]\n",
      "[petal length (cm) == 1.6]\n",
      "[sepal width (cm) == 3, sepal length (cm) == 7.2, petal length (cm) == 5.8]\n",
      "[petal length (cm) == 4.7, petal width (cm) == 1.4]\n",
      "[petal width (cm) == 1.8]\n",
      "[petal length (cm) == 4.5, petal width (cm) == 1.5]\n",
      "[petal length (cm) == 4, petal width (cm) == 1.3]\n",
      "[petal width (cm) == 1.9]\n",
      "[petal length (cm) == 1.4]\n",
      "[petal width (cm) == 2]\n",
      "[petal length (cm) == 1.5]\n",
      "[petal length (cm) == 1.5]\n",
      "[petal width (cm) == 2]\n",
      "[petal width (cm) == 1.8]\n",
      "[petal length (cm) == 4.3, petal width (cm) == 1.3]\n",
      "[petal length (cm) == 4.1, petal width (cm) == 1.3]\n",
      "[petal length (cm) == 4.2, petal width (cm) == 1.3]\n",
      "[petal length (cm) == 1.3]\n",
      "[sepal length (cm) == 6.1, petal length (cm) == 5.6]\n",
      "[petal length (cm) == 3.8, petal width (cm) == 1.1]\n",
      "[petal length (cm) == 1.5]\n",
      "[petal length (cm) == 4.4, petal width (cm) == 1.2]\n",
      "[petal length (cm) == 4.4, petal width (cm) == 1.4]\n",
      "[petal length (cm) == 4.3, petal width (cm) == 1.3]\n",
      "[petal length (cm) == 3.6, petal width (cm) == 1.3]\n",
      "[petal length (cm) == 3.3, petal width (cm) == 1]\n",
      "[petal width (cm) == 2.4]\n",
      "[petal length (cm) == 1.6]\n",
      "[petal length (cm) == 1.3]\n"
     ]
    }
   ],
   "source": [
    "for i in range(X_test.shape[0]):\n",
    "    print(explainer.explain(X_test.values[i], reorder=\"asc\"))"
   ]
  }
 ],
 "metadata": {
  "kernelspec": {
   "display_name": "Python 3 (ipykernel)",
   "language": "python",
   "name": "python3"
  },
  "language_info": {
   "codemirror_mode": {
    "name": "ipython",
    "version": 3
   },
   "file_extension": ".py",
   "mimetype": "text/x-python",
   "name": "python",
   "nbconvert_exporter": "python",
   "pygments_lexer": "ipython3",
   "version": "3.13.5"
  }
 },
 "nbformat": 4,
 "nbformat_minor": 4
}
