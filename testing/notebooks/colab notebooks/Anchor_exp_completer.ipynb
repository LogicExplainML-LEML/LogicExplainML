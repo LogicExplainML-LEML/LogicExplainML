{
  "nbformat": 4,
  "nbformat_minor": 0,
  "metadata": {
    "colab": {
      "provenance": [],
      "collapsed_sections": [
        "VcyJasfixBsI"
      ]
    },
    "kernelspec": {
      "name": "python3",
      "display_name": "Python 3"
    },
    "language_info": {
      "name": "python"
    }
  },
  "cells": [
    {
      "cell_type": "code",
      "execution_count": 72,
      "metadata": {
        "id": "PXUu1DWnwv1u"
      },
      "outputs": [],
      "source": [
        "set_option(rational_to_decimal=True)"
      ]
    },
    {
      "cell_type": "markdown",
      "source": [
        "# imports"
      ],
      "metadata": {
        "id": "O_4ySBjnw6sP"
      }
    },
    {
      "cell_type": "markdown",
      "source": [
        "## pip"
      ],
      "metadata": {
        "id": "VcyJasfixBsI"
      }
    },
    {
      "cell_type": "code",
      "source": [
        "!pip install anchor-exp\n",
        "!pip install pmlb\n",
        "!pip install z3-solver"
      ],
      "metadata": {
        "colab": {
          "base_uri": "https://localhost:8080/"
        },
        "id": "ksc1AkxNxA9A",
        "outputId": "d6ebe7cc-8ec5-452c-ade0-56f7bd6ae7a3"
      },
      "execution_count": 73,
      "outputs": [
        {
          "output_type": "stream",
          "name": "stdout",
          "text": [
            "Requirement already satisfied: anchor-exp in /usr/local/lib/python3.10/dist-packages (0.0.2.0)\n",
            "Requirement already satisfied: numpy in /usr/local/lib/python3.10/dist-packages (from anchor-exp) (1.26.4)\n",
            "Requirement already satisfied: scipy in /usr/local/lib/python3.10/dist-packages (from anchor-exp) (1.13.1)\n",
            "Requirement already satisfied: spacy in /usr/local/lib/python3.10/dist-packages (from anchor-exp) (3.7.5)\n",
            "Requirement already satisfied: lime in /usr/local/lib/python3.10/dist-packages (from anchor-exp) (0.2.0.1)\n",
            "Requirement already satisfied: scikit-learn>=0.22 in /usr/local/lib/python3.10/dist-packages (from anchor-exp) (1.5.2)\n",
            "Requirement already satisfied: joblib>=1.2.0 in /usr/local/lib/python3.10/dist-packages (from scikit-learn>=0.22->anchor-exp) (1.4.2)\n",
            "Requirement already satisfied: threadpoolctl>=3.1.0 in /usr/local/lib/python3.10/dist-packages (from scikit-learn>=0.22->anchor-exp) (3.5.0)\n",
            "Requirement already satisfied: matplotlib in /usr/local/lib/python3.10/dist-packages (from lime->anchor-exp) (3.8.0)\n",
            "Requirement already satisfied: tqdm in /usr/local/lib/python3.10/dist-packages (from lime->anchor-exp) (4.66.6)\n",
            "Requirement already satisfied: scikit-image>=0.12 in /usr/local/lib/python3.10/dist-packages (from lime->anchor-exp) (0.24.0)\n",
            "Requirement already satisfied: spacy-legacy<3.1.0,>=3.0.11 in /usr/local/lib/python3.10/dist-packages (from spacy->anchor-exp) (3.0.12)\n",
            "Requirement already satisfied: spacy-loggers<2.0.0,>=1.0.0 in /usr/local/lib/python3.10/dist-packages (from spacy->anchor-exp) (1.0.5)\n",
            "Requirement already satisfied: murmurhash<1.1.0,>=0.28.0 in /usr/local/lib/python3.10/dist-packages (from spacy->anchor-exp) (1.0.11)\n",
            "Requirement already satisfied: cymem<2.1.0,>=2.0.2 in /usr/local/lib/python3.10/dist-packages (from spacy->anchor-exp) (2.0.10)\n",
            "Requirement already satisfied: preshed<3.1.0,>=3.0.2 in /usr/local/lib/python3.10/dist-packages (from spacy->anchor-exp) (3.0.9)\n",
            "Requirement already satisfied: thinc<8.3.0,>=8.2.2 in /usr/local/lib/python3.10/dist-packages (from spacy->anchor-exp) (8.2.5)\n",
            "Requirement already satisfied: wasabi<1.2.0,>=0.9.1 in /usr/local/lib/python3.10/dist-packages (from spacy->anchor-exp) (1.1.3)\n",
            "Requirement already satisfied: srsly<3.0.0,>=2.4.3 in /usr/local/lib/python3.10/dist-packages (from spacy->anchor-exp) (2.4.8)\n",
            "Requirement already satisfied: catalogue<2.1.0,>=2.0.6 in /usr/local/lib/python3.10/dist-packages (from spacy->anchor-exp) (2.0.10)\n",
            "Requirement already satisfied: weasel<0.5.0,>=0.1.0 in /usr/local/lib/python3.10/dist-packages (from spacy->anchor-exp) (0.4.1)\n",
            "Requirement already satisfied: typer<1.0.0,>=0.3.0 in /usr/local/lib/python3.10/dist-packages (from spacy->anchor-exp) (0.15.0)\n",
            "Requirement already satisfied: requests<3.0.0,>=2.13.0 in /usr/local/lib/python3.10/dist-packages (from spacy->anchor-exp) (2.32.3)\n",
            "Requirement already satisfied: pydantic!=1.8,!=1.8.1,<3.0.0,>=1.7.4 in /usr/local/lib/python3.10/dist-packages (from spacy->anchor-exp) (2.10.3)\n",
            "Requirement already satisfied: jinja2 in /usr/local/lib/python3.10/dist-packages (from spacy->anchor-exp) (3.1.4)\n",
            "Requirement already satisfied: setuptools in /usr/local/lib/python3.10/dist-packages (from spacy->anchor-exp) (75.1.0)\n",
            "Requirement already satisfied: packaging>=20.0 in /usr/local/lib/python3.10/dist-packages (from spacy->anchor-exp) (24.2)\n",
            "Requirement already satisfied: langcodes<4.0.0,>=3.2.0 in /usr/local/lib/python3.10/dist-packages (from spacy->anchor-exp) (3.5.0)\n",
            "Requirement already satisfied: language-data>=1.2 in /usr/local/lib/python3.10/dist-packages (from langcodes<4.0.0,>=3.2.0->spacy->anchor-exp) (1.3.0)\n",
            "Requirement already satisfied: annotated-types>=0.6.0 in /usr/local/lib/python3.10/dist-packages (from pydantic!=1.8,!=1.8.1,<3.0.0,>=1.7.4->spacy->anchor-exp) (0.7.0)\n",
            "Requirement already satisfied: pydantic-core==2.27.1 in /usr/local/lib/python3.10/dist-packages (from pydantic!=1.8,!=1.8.1,<3.0.0,>=1.7.4->spacy->anchor-exp) (2.27.1)\n",
            "Requirement already satisfied: typing-extensions>=4.12.2 in /usr/local/lib/python3.10/dist-packages (from pydantic!=1.8,!=1.8.1,<3.0.0,>=1.7.4->spacy->anchor-exp) (4.12.2)\n",
            "Requirement already satisfied: charset-normalizer<4,>=2 in /usr/local/lib/python3.10/dist-packages (from requests<3.0.0,>=2.13.0->spacy->anchor-exp) (3.4.0)\n",
            "Requirement already satisfied: idna<4,>=2.5 in /usr/local/lib/python3.10/dist-packages (from requests<3.0.0,>=2.13.0->spacy->anchor-exp) (3.10)\n",
            "Requirement already satisfied: urllib3<3,>=1.21.1 in /usr/local/lib/python3.10/dist-packages (from requests<3.0.0,>=2.13.0->spacy->anchor-exp) (2.2.3)\n",
            "Requirement already satisfied: certifi>=2017.4.17 in /usr/local/lib/python3.10/dist-packages (from requests<3.0.0,>=2.13.0->spacy->anchor-exp) (2024.8.30)\n",
            "Requirement already satisfied: networkx>=2.8 in /usr/local/lib/python3.10/dist-packages (from scikit-image>=0.12->lime->anchor-exp) (3.4.2)\n",
            "Requirement already satisfied: pillow>=9.1 in /usr/local/lib/python3.10/dist-packages (from scikit-image>=0.12->lime->anchor-exp) (11.0.0)\n",
            "Requirement already satisfied: imageio>=2.33 in /usr/local/lib/python3.10/dist-packages (from scikit-image>=0.12->lime->anchor-exp) (2.36.1)\n",
            "Requirement already satisfied: tifffile>=2022.8.12 in /usr/local/lib/python3.10/dist-packages (from scikit-image>=0.12->lime->anchor-exp) (2024.9.20)\n",
            "Requirement already satisfied: lazy-loader>=0.4 in /usr/local/lib/python3.10/dist-packages (from scikit-image>=0.12->lime->anchor-exp) (0.4)\n",
            "Requirement already satisfied: blis<0.8.0,>=0.7.8 in /usr/local/lib/python3.10/dist-packages (from thinc<8.3.0,>=8.2.2->spacy->anchor-exp) (0.7.11)\n",
            "Requirement already satisfied: confection<1.0.0,>=0.0.1 in /usr/local/lib/python3.10/dist-packages (from thinc<8.3.0,>=8.2.2->spacy->anchor-exp) (0.1.5)\n",
            "Requirement already satisfied: click>=8.0.0 in /usr/local/lib/python3.10/dist-packages (from typer<1.0.0,>=0.3.0->spacy->anchor-exp) (8.1.7)\n",
            "Requirement already satisfied: shellingham>=1.3.0 in /usr/local/lib/python3.10/dist-packages (from typer<1.0.0,>=0.3.0->spacy->anchor-exp) (1.5.4)\n",
            "Requirement already satisfied: rich>=10.11.0 in /usr/local/lib/python3.10/dist-packages (from typer<1.0.0,>=0.3.0->spacy->anchor-exp) (13.9.4)\n",
            "Requirement already satisfied: cloudpathlib<1.0.0,>=0.7.0 in /usr/local/lib/python3.10/dist-packages (from weasel<0.5.0,>=0.1.0->spacy->anchor-exp) (0.20.0)\n",
            "Requirement already satisfied: smart-open<8.0.0,>=5.2.1 in /usr/local/lib/python3.10/dist-packages (from weasel<0.5.0,>=0.1.0->spacy->anchor-exp) (7.0.5)\n",
            "Requirement already satisfied: MarkupSafe>=2.0 in /usr/local/lib/python3.10/dist-packages (from jinja2->spacy->anchor-exp) (3.0.2)\n",
            "Requirement already satisfied: contourpy>=1.0.1 in /usr/local/lib/python3.10/dist-packages (from matplotlib->lime->anchor-exp) (1.3.1)\n",
            "Requirement already satisfied: cycler>=0.10 in /usr/local/lib/python3.10/dist-packages (from matplotlib->lime->anchor-exp) (0.12.1)\n",
            "Requirement already satisfied: fonttools>=4.22.0 in /usr/local/lib/python3.10/dist-packages (from matplotlib->lime->anchor-exp) (4.55.1)\n",
            "Requirement already satisfied: kiwisolver>=1.0.1 in /usr/local/lib/python3.10/dist-packages (from matplotlib->lime->anchor-exp) (1.4.7)\n",
            "Requirement already satisfied: pyparsing>=2.3.1 in /usr/local/lib/python3.10/dist-packages (from matplotlib->lime->anchor-exp) (3.2.0)\n",
            "Requirement already satisfied: python-dateutil>=2.7 in /usr/local/lib/python3.10/dist-packages (from matplotlib->lime->anchor-exp) (2.8.2)\n",
            "Requirement already satisfied: marisa-trie>=1.1.0 in /usr/local/lib/python3.10/dist-packages (from language-data>=1.2->langcodes<4.0.0,>=3.2.0->spacy->anchor-exp) (1.2.1)\n",
            "Requirement already satisfied: six>=1.5 in /usr/local/lib/python3.10/dist-packages (from python-dateutil>=2.7->matplotlib->lime->anchor-exp) (1.16.0)\n",
            "Requirement already satisfied: markdown-it-py>=2.2.0 in /usr/local/lib/python3.10/dist-packages (from rich>=10.11.0->typer<1.0.0,>=0.3.0->spacy->anchor-exp) (3.0.0)\n",
            "Requirement already satisfied: pygments<3.0.0,>=2.13.0 in /usr/local/lib/python3.10/dist-packages (from rich>=10.11.0->typer<1.0.0,>=0.3.0->spacy->anchor-exp) (2.18.0)\n",
            "Requirement already satisfied: wrapt in /usr/local/lib/python3.10/dist-packages (from smart-open<8.0.0,>=5.2.1->weasel<0.5.0,>=0.1.0->spacy->anchor-exp) (1.17.0)\n",
            "Requirement already satisfied: mdurl~=0.1 in /usr/local/lib/python3.10/dist-packages (from markdown-it-py>=2.2.0->rich>=10.11.0->typer<1.0.0,>=0.3.0->spacy->anchor-exp) (0.1.2)\n",
            "Requirement already satisfied: pmlb in /usr/local/lib/python3.10/dist-packages (1.0.1.post3)\n",
            "Requirement already satisfied: pandas>=1.0.5 in /usr/local/lib/python3.10/dist-packages (from pmlb) (2.2.2)\n",
            "Requirement already satisfied: requests>=2.24.0 in /usr/local/lib/python3.10/dist-packages (from pmlb) (2.32.3)\n",
            "Requirement already satisfied: pyyaml>=5.3.1 in /usr/local/lib/python3.10/dist-packages (from pmlb) (6.0.2)\n",
            "Requirement already satisfied: numpy>=1.22.4 in /usr/local/lib/python3.10/dist-packages (from pandas>=1.0.5->pmlb) (1.26.4)\n",
            "Requirement already satisfied: python-dateutil>=2.8.2 in /usr/local/lib/python3.10/dist-packages (from pandas>=1.0.5->pmlb) (2.8.2)\n",
            "Requirement already satisfied: pytz>=2020.1 in /usr/local/lib/python3.10/dist-packages (from pandas>=1.0.5->pmlb) (2024.2)\n",
            "Requirement already satisfied: tzdata>=2022.7 in /usr/local/lib/python3.10/dist-packages (from pandas>=1.0.5->pmlb) (2024.2)\n",
            "Requirement already satisfied: charset-normalizer<4,>=2 in /usr/local/lib/python3.10/dist-packages (from requests>=2.24.0->pmlb) (3.4.0)\n",
            "Requirement already satisfied: idna<4,>=2.5 in /usr/local/lib/python3.10/dist-packages (from requests>=2.24.0->pmlb) (3.10)\n",
            "Requirement already satisfied: urllib3<3,>=1.21.1 in /usr/local/lib/python3.10/dist-packages (from requests>=2.24.0->pmlb) (2.2.3)\n",
            "Requirement already satisfied: certifi>=2017.4.17 in /usr/local/lib/python3.10/dist-packages (from requests>=2.24.0->pmlb) (2024.8.30)\n",
            "Requirement already satisfied: six>=1.5 in /usr/local/lib/python3.10/dist-packages (from python-dateutil>=2.8.2->pandas>=1.0.5->pmlb) (1.16.0)\n",
            "Requirement already satisfied: z3-solver in /usr/local/lib/python3.10/dist-packages (4.13.3.0)\n"
          ]
        }
      ]
    },
    {
      "cell_type": "markdown",
      "source": [
        "## import"
      ],
      "metadata": {
        "id": "tGABRqaaxD4g"
      }
    },
    {
      "cell_type": "code",
      "source": [
        "import numpy as np\n",
        "import pandas as pd\n",
        "\n",
        "from anchor import utils\n",
        "from anchor import anchor_tabular\n",
        "import sklearn\n",
        "from sklearn.datasets import load_iris\n",
        "from sklearn.model_selection import train_test_split\n",
        "from sklearn.ensemble import GradientBoostingClassifier\n",
        "from pmlb import fetch_data\n",
        "from z3 import *"
      ],
      "metadata": {
        "id": "KMpVdVKryE9p"
      },
      "execution_count": 74,
      "outputs": []
    },
    {
      "cell_type": "markdown",
      "source": [
        "# model"
      ],
      "metadata": {
        "id": "xh6GqAGew85K"
      }
    },
    {
      "cell_type": "code",
      "source": [
        "def feature_constraints_expression(X):\n",
        "    constraints = []\n",
        "\n",
        "    for i in range(X.shape[1]):\n",
        "        feature_values = X[:, i]\n",
        "        min_val, max_val = feature_values.min(), feature_values.max()\n",
        "\n",
        "        x = Real(f'x{i}')\n",
        "        min = RealVal(min_val)\n",
        "        max = RealVal(max_val)\n",
        "\n",
        "        constraint = And(min <= x, x <= max)\n",
        "        constraints.append(constraint)\n",
        "\n",
        "    return And(*constraints)"
      ],
      "metadata": {
        "id": "J4TFZLUjFk32"
      },
      "execution_count": 75,
      "outputs": []
    },
    {
      "cell_type": "code",
      "source": [
        "def tree_paths_expression(tree, tree_index, class_index):\n",
        "    tree_ = tree.tree_\n",
        "    feature = tree_.feature\n",
        "    threshold = tree_.threshold\n",
        "    value = tree_.value\n",
        "\n",
        "    paths = []\n",
        "    o = Real(f'o_{tree_index}_{class_index}')\n",
        "\n",
        "    def traverse(node, path_conditions):\n",
        "\n",
        "        if feature[node] == -2:\n",
        "            leaf_value = value[node][0][0]\n",
        "            path_formula = And(path_conditions)\n",
        "            implication = Implies(path_formula, o == leaf_value)\n",
        "            paths.append(implication)\n",
        "        else:\n",
        "\n",
        "            x = Real(f'x{feature[node]}')\n",
        "            left_condition = x <= threshold[node]\n",
        "            right_condition = x > threshold[node]\n",
        "            traverse(tree_.children_left[node],\n",
        "                     path_conditions + [left_condition])\n",
        "            traverse(tree_.children_right[node],\n",
        "                     path_conditions + [right_condition])\n",
        "\n",
        "    traverse(0, [])\n",
        "    return And(*paths)"
      ],
      "metadata": {
        "id": "16FVq_I_FqrB"
      },
      "execution_count": 76,
      "outputs": []
    },
    {
      "cell_type": "code",
      "source": [
        "def model_trees_expression(model):\n",
        "    formulas = []\n",
        "    for i, estimators in enumerate(model.estimators_):\n",
        "        for class_index, estimator in enumerate(estimators):\n",
        "            formula = tree_paths_expression(estimator, i, class_index)\n",
        "            formulas.append(formula)\n",
        "    return And(*formulas)"
      ],
      "metadata": {
        "id": "eUIl378iFnUw"
      },
      "execution_count": 77,
      "outputs": []
    },
    {
      "cell_type": "code",
      "source": [
        "def decision_function_expression(model, x):\n",
        "    learning_rate = model.learning_rate\n",
        "    estimators = model.estimators_\n",
        "    n_classes = 1 if model.n_classes_ <= 2 else model.n_classes_\n",
        "\n",
        "    decision = model.decision_function(x)\n",
        "    predicted_class = model.predict(x)[0]\n",
        "\n",
        "    estimator_results = []\n",
        "    for estimator in estimators:\n",
        "        class_predictions = [tree.predict(x) for tree in estimator]\n",
        "        estimator_results.append(class_predictions)\n",
        "\n",
        "    estimator_sum = np.sum(estimator_results, axis=0) * learning_rate\n",
        "    init_value = decision - estimator_sum.T\n",
        "\n",
        "    equation_list = []\n",
        "    for class_number in range(n_classes):\n",
        "        estimator_list = []\n",
        "        for estimator_number in range(len(estimators)):\n",
        "            o = Real(f\"o_{estimator_number}_{class_number}\")\n",
        "            estimator_list.append(o)\n",
        "        equation_o = Sum(estimator_list) * learning_rate + init_value[0][class_number]\n",
        "        equation_list.append(equation_o)\n",
        "\n",
        "    if n_classes <= 2:\n",
        "        if predicted_class == 0:\n",
        "            final_equation = equation_list[0] < 0\n",
        "        else:\n",
        "            final_equation = equation_list[0] > 0\n",
        "    else:\n",
        "        compare_equation = []\n",
        "        for class_number in range(n_classes):\n",
        "            if predicted_class != class_number:\n",
        "                compare_equation.append(\n",
        "                    equation_list[predicted_class] > equation_list[class_number]\n",
        "                )\n",
        "        final_equation = compare_equation\n",
        "\n",
        "    return And(final_equation)"
      ],
      "metadata": {
        "id": "rWwYgg67FuNZ"
      },
      "execution_count": 78,
      "outputs": []
    },
    {
      "cell_type": "code",
      "source": [
        "def instance_expression(instance):\n",
        "    formula = [Real(f'x{i}') == value for i, value in enumerate(instance)]\n",
        "    return formula"
      ],
      "metadata": {
        "id": "1FEX-gkeF6Te"
      },
      "execution_count": 79,
      "outputs": []
    },
    {
      "cell_type": "code",
      "source": [
        "def is_proved(f):\n",
        "    s = Solver()\n",
        "    s.add(Not(f))\n",
        "    if s.check() == unsat:\n",
        "        return True\n",
        "    else:\n",
        "        # print(s.model())\n",
        "        return False"
      ],
      "metadata": {
        "id": "MxtwGAtaGCeK"
      },
      "execution_count": 80,
      "outputs": []
    },
    {
      "cell_type": "code",
      "source": [
        "def explain(I, T, D, model, reorder):\n",
        "    X = I.copy()\n",
        "    T_s = simplify(T)\n",
        "    D_s = simplify(D)\n",
        "\n",
        "    importances = model.feature_importances_\n",
        "    if reorder == 'asc':\n",
        "        sorted_feature_indices = np.argsort(importances)\n",
        "        X = [X[i] for i in sorted_feature_indices]\n",
        "    elif reorder == 'desc':\n",
        "        sorted_feature_indices = np.argsort(np.flip(importances))\n",
        "        X = [X[i] for i in sorted_feature_indices]\n",
        "\n",
        "    for feature in X.copy():\n",
        "        X.remove(feature)\n",
        "\n",
        "        # prove(Implies(And(And(X), T), D))\n",
        "        if is_proved(Implies(And(And(X), T_s), D_s)):\n",
        "            continue\n",
        "            # print('proved')\n",
        "        else:\n",
        "            # print('not proved')\n",
        "            X.append(feature)\n",
        "\n",
        "    return X"
      ],
      "metadata": {
        "id": "rJH9-8rIF9JJ"
      },
      "execution_count": 81,
      "outputs": []
    },
    {
      "cell_type": "code",
      "source": [
        "class Explainer:\n",
        "    def __init__(self, model, data):\n",
        "        self.model = model\n",
        "        self.data = data\n",
        "        self.T_constraints = feature_constraints_expression(self.data)\n",
        "        self.T_model = model_trees_expression(self.model)\n",
        "        self.T = And(self.T_model, self.T_constraints)\n",
        "\n",
        "    def explain(self, instance, reorder='asc'):\n",
        "        self.D = decision_function_expression(self.model, [instance])\n",
        "        self.I = instance_expression(instance)\n",
        "\n",
        "        return explain(self.I, self.T, self.D, self.model, reorder)"
      ],
      "metadata": {
        "id": "7q1mncrwyTMx"
      },
      "execution_count": 82,
      "outputs": []
    },
    {
      "cell_type": "code",
      "source": [
        "class ExplainerCompleter():\n",
        "  def __init__(self, model, anchor_explainer, data, round):\n",
        "    self.model = model\n",
        "\n",
        "    # anchor\n",
        "    # explain instance > matriz > expressions\n",
        "    self.anchor_explainer = anchor_explainer\n",
        "\n",
        "    # model\n",
        "    # T\n",
        "    self.T_constraints = feature_constraints_expression(data)\n",
        "    self.T_model = model_trees_expression(self.model)\n",
        "    self.T = And(self.T_model, self.T_constraints)\n",
        "\n",
        "  def explain_instance(self, instance, verbose=False):\n",
        "    opt = Optimize()\n",
        "\n",
        "    # anchor matrix > expressions\n",
        "    exp = anchor_explainer.explain_instance(instance, gb_iris.predict, threshold=0.95)\n",
        "    anchor_matrix = []\n",
        "    for name in exp.names():\n",
        "      tokens = name.split(' ')\n",
        "      for operator in ['<=', '>=', '==', '<', '>']:\n",
        "        if operator in name:\n",
        "          parts = name.split(operator)\n",
        "          if len(parts) == 2:\n",
        "            anchor_matrix.append([parts[0].strip(), operator, parts[1].strip()])\n",
        "            break\n",
        "    # unir com o código de cima para simplificar\n",
        "    anchor_expressions = []\n",
        "    for row in anchor_matrix:\n",
        "      feature = Real(row[0])\n",
        "      if row[1] == '<=':\n",
        "        expression = feature <= float(row[2])\n",
        "      elif row[1] == '>=':\n",
        "        expression = feature >= float(row[2])\n",
        "      elif row[1] == '<':\n",
        "        expression = feature < float(row[2])\n",
        "      elif row[1] == '>':\n",
        "        expression = feature > float(row[2])\n",
        "      anchor_expressions.append(expression)\n",
        "    # print(anchor_expressions, len(anchor_expressions) == len(anchor_matrix))\n",
        "    self.anchor_expressions = anchor_expressions\n",
        "    opt.add(anchor_expressions)\n",
        "\n",
        "    # delta\n",
        "    # delta >= 0\n",
        "    # todas as features que não estao no anchor > fazer as igualdades delta\n",
        "    anchor_variables = []\n",
        "    for formula in anchor_expressions:\n",
        "      anchor_variables.append(str(formula.arg(0)))\n",
        "\n",
        "    feature_names = [f'x{i}' for i in range(instance.shape[0])]\n",
        "    opt.add(delta >= 0)\n",
        "    for i, var in enumerate(feature_names):\n",
        "      if var not in anchor_variables: # and importance_dic[var] != 0:\n",
        "        z3_var = Real(var)\n",
        "        opt.add((instance[i]) - delta <= z3_var, z3_var <= (instance[i]) + delta)\n",
        "        # print(f'{instance[i]} - {delta} <= {var}, {var} <= {instance[i]} + {delta}')\n",
        "\n",
        "    # not D\n",
        "    self.D = decision_function_expression(self.model, [instance])\n",
        "\n",
        "    # model\n",
        "    opt.add(self.T)\n",
        "    opt.add(Not(self.D))\n",
        "\n",
        "    # minimize delta\n",
        "    opt.minimize(delta)\n",
        "    if opt.check() == sat:\n",
        "      if verbose:\n",
        "        for var in opt.model():\n",
        "          print(var, '=', opt.model()[var])\n",
        "      if opt.model().eval(delta) == 0:\n",
        "        print('delta = 0')\n",
        "      else:\n",
        "        print(f\"\\ndelta: {opt.model().eval(delta)}\")\n",
        "    else:\n",
        "      print(\"problema inviavel / explicação correta\")"
      ],
      "metadata": {
        "id": "f61bTZqOd6co"
      },
      "execution_count": 143,
      "outputs": []
    },
    {
      "cell_type": "code",
      "source": [
        "def complete_anchor_explainer(anchor_exp_expressions, delta_round, explainer, instance, feature_names, x_values_dic):\n",
        "  opt = Optimize()\n",
        "\n",
        "  delta = Real('delta')\n",
        "\n",
        "  # anchor\n",
        "  opt.add(anchor_exp_expressions)\n",
        "  anchor_variables = []\n",
        "  for formula in anchor_exp_expressions:\n",
        "    anchor_variables.append(str(formula.arg(0)))\n",
        "\n",
        "  # delta\n",
        "  opt.add(delta >= 0)\n",
        "  for var in feature_names:\n",
        "    if var not in anchor_variables: # and importance_dic[var] != 0:\n",
        "      z3_var = Real(var)\n",
        "      opt.add((x_values_dic[var]) - delta <= z3_var, z3_var <= (x_values_dic[var]) + delta)\n",
        "      # print(f'{x_values_dic[var]} - {delta} <= {var}, {var} <= {x_values_dic[var]} + {delta}')\n",
        "\n",
        "  # model\n",
        "  explainer.explain(instance)\n",
        "  opt.add(explainer.T_constraints)\n",
        "  opt.add(explainer.T_model)\n",
        "  opt.add(Not(explainer.D))\n",
        "\n",
        "  opt.minimize(delta)\n",
        "  if opt.check() == sat:\n",
        "    for var in opt.model():\n",
        "      print(var, '=', opt.model()[var])\n",
        "    if opt.model().eval(delta) == 0:\n",
        "      print('delta == 0')\n",
        "    else:\n",
        "      print(f\"\\ndelta: {opt.model().eval(delta)}\")\n",
        "  else:\n",
        "    print(\"problema inviavel / explicação correta\")\n",
        "\n",
        "  return"
      ],
      "metadata": {
        "id": "3I6K4UyYywLY"
      },
      "execution_count": 123,
      "outputs": []
    },
    {
      "cell_type": "code",
      "source": [
        "def complete_anchor_explainer_d(anchor_exp_expressions, delta_round, explainer, instance, feature_names, x_values_dic):\n",
        "  opt = Optimize()\n",
        "\n",
        "\n",
        "  # anchor\n",
        "  opt.add(anchor_exp_expressions)\n",
        "  anchor_variables = []\n",
        "  for formula in anchor_exp_expressions:\n",
        "    anchor_variables.append(str(formula.arg(0)))\n",
        "\n",
        "  # delta\n",
        "  for i, var in enumerate(feature_names):\n",
        "    if var not in anchor_variables: # and importance_dic[var] != 0:\n",
        "      z3_var = Real(var)\n",
        "      delta = Real(f'delta{i}')\n",
        "      opt.add(delta >= 0)\n",
        "      opt.add((x_values_dic[var]) - delta <= z3_var, z3_var <= (x_values_dic[var]) + delta)\n",
        "      # print(f'{x_values_dic[var]} - {delta} <= {var}, {var} <= {x_values_dic[var]} + {delta}')\n",
        "\n",
        "  # model\n",
        "  explainer.explain(instance)\n",
        "  opt.add(explainer.T_constraints)\n",
        "  opt.add(explainer.T_model)\n",
        "  opt.add(Not(explainer.D))\n",
        "\n",
        "  for i in range(len(feature_names)):\n",
        "    delta = Real(f'delta{i}')\n",
        "    opt.minimize(delta)\n",
        "  # opt.minimize(delta)\n",
        "  if opt.check() == sat:\n",
        "    for var in opt.model():\n",
        "      print(var, '=', opt.model()[var])\n",
        "    if opt.model().eval(delta) == 0:\n",
        "      print('anchor correct')\n",
        "    else:\n",
        "      print(f\"\\ndelta: {opt.model().eval(delta)}\")\n",
        "  else:\n",
        "    print(\"Problema inviável!\")\n",
        "\n",
        "  return"
      ],
      "metadata": {
        "id": "en5yNquN2epA"
      },
      "execution_count": 85,
      "outputs": []
    },
    {
      "cell_type": "markdown",
      "source": [
        "# tests"
      ],
      "metadata": {
        "id": "N_j9ygB0w-9r"
      }
    },
    {
      "cell_type": "code",
      "source": [
        "gb_iris = GradientBoostingClassifier(n_estimators=1, max_depth=1, random_state = 101)\n",
        "\n",
        "iris = load_iris()\n",
        "X_iris, y_iris = iris.data, iris.target\n",
        "\n",
        "# deixa binario\n",
        "filter_indices = np.where(np.isin(y_iris, [0, 1]))[0]\n",
        "X_iris = X_iris[filter_indices]\n",
        "y_iris = y_iris[filter_indices]\n",
        "\n",
        "X_iris_train, X_iris_test, y_iris_train, y_iris_test = train_test_split(\n",
        "    X_iris, y_iris, test_size=0.2, random_state=101)\n",
        "\n",
        "gb_iris.fit(X_iris_train, y_iris_train)\n",
        "\n",
        "print('Train', sklearn.metrics.accuracy_score(y_iris_train, gb_iris.predict(X_iris_train)))\n",
        "print('Test', sklearn.metrics.accuracy_score(y_iris_test, gb_iris.predict(X_iris_test)))\n",
        "\n",
        "gb_iris.predict(X_iris)"
      ],
      "metadata": {
        "colab": {
          "base_uri": "https://localhost:8080/"
        },
        "id": "jV8I54NUzB86",
        "outputId": "668c253f-9c71-4362-d0ca-359e020c2ba7"
      },
      "execution_count": 86,
      "outputs": [
        {
          "output_type": "stream",
          "name": "stdout",
          "text": [
            "Train 1.0\n",
            "Test 1.0\n"
          ]
        },
        {
          "output_type": "execute_result",
          "data": {
            "text/plain": [
              "array([0, 0, 0, 0, 0, 0, 0, 0, 0, 0, 0, 0, 0, 0, 0, 0, 0, 0, 0, 0, 0, 0,\n",
              "       0, 0, 0, 0, 0, 0, 0, 0, 0, 0, 0, 0, 0, 0, 0, 0, 0, 0, 0, 0, 0, 0,\n",
              "       0, 0, 0, 0, 0, 0, 1, 1, 1, 1, 1, 1, 1, 1, 1, 1, 1, 1, 1, 1, 1, 1,\n",
              "       1, 1, 1, 1, 1, 1, 1, 1, 1, 1, 1, 1, 1, 1, 1, 1, 1, 1, 1, 1, 1, 1,\n",
              "       1, 1, 1, 1, 1, 1, 1, 1, 1, 1, 1, 1])"
            ]
          },
          "metadata": {},
          "execution_count": 86
        }
      ]
    },
    {
      "cell_type": "code",
      "source": [
        "range(len(iris.feature_names))"
      ],
      "metadata": {
        "colab": {
          "base_uri": "https://localhost:8080/"
        },
        "id": "7bkq4_YBiCq-",
        "outputId": "1e41206d-3dc0-4c12-eef8-8c00da9ea622"
      },
      "execution_count": 87,
      "outputs": [
        {
          "output_type": "execute_result",
          "data": {
            "text/plain": [
              "range(0, 4)"
            ]
          },
          "metadata": {},
          "execution_count": 87
        }
      ]
    },
    {
      "cell_type": "code",
      "source": [],
      "metadata": {
        "id": "H9_l7EqLyTXn"
      },
      "execution_count": null,
      "outputs": []
    },
    {
      "cell_type": "code",
      "source": [
        "iris_features_x = [f'x{i}' for i in range(len(iris.feature_names))]\n",
        "iris_features_x"
      ],
      "metadata": {
        "colab": {
          "base_uri": "https://localhost:8080/"
        },
        "id": "dRTyXiCwiTV7",
        "outputId": "f101a9e9-cea9-4527-c0fa-145d260a74fb"
      },
      "execution_count": 105,
      "outputs": [
        {
          "output_type": "execute_result",
          "data": {
            "text/plain": [
              "['x0', 'x1', 'x2', 'x3']"
            ]
          },
          "metadata": {},
          "execution_count": 105
        }
      ]
    },
    {
      "cell_type": "code",
      "source": [
        "for i, var in enumerate(iris_features_x):\n",
        "  print(var, X_iris[idx][i])"
      ],
      "metadata": {
        "colab": {
          "base_uri": "https://localhost:8080/"
        },
        "id": "RqwlzQZDyTxR",
        "outputId": "3089ba97-d4e9-4540-d1dc-c72fe99feb55"
      },
      "execution_count": 111,
      "outputs": [
        {
          "output_type": "stream",
          "name": "stdout",
          "text": [
            "x0 5.1\n",
            "x1 3.5\n",
            "x2 1.4\n",
            "x3 0.2\n"
          ]
        }
      ]
    },
    {
      "cell_type": "code",
      "source": [
        "idx = 0\n",
        "iris_features_x = [f'x{i}' for i in range(len(iris.feature_names))]\n",
        "\n",
        "anchor_explainer = anchor_tabular.AnchorTabularExplainer(\n",
        "    gb_iris.classes_,\n",
        "    iris_features_x,\n",
        "    X_iris_train,\n",
        "    categorical_names={})\n",
        "\n",
        "print('Prediction: ', anchor_explainer.class_names[gb_iris.predict(X_iris[idx].reshape(1, -1))[0]])\n",
        "exp = anchor_explainer.explain_instance(X_iris[idx], gb_iris.predict, threshold=0.95)\n",
        "\n",
        "anchor_matrix = []\n",
        "\n",
        "for name in exp.names():\n",
        "  tokens = name.split(' ')\n",
        "\n",
        "  for operator in ['<=', '>=', '==', '<', '>']:\n",
        "    if operator in name:\n",
        "      parts = name.split(operator)\n",
        "      if len(parts) == 2:\n",
        "        anchor_matrix.append([parts[0].strip(), operator, parts[1].strip()])\n",
        "        break\n",
        "anchor_matrix"
      ],
      "metadata": {
        "colab": {
          "base_uri": "https://localhost:8080/"
        },
        "id": "_IvzjWRjzQXl",
        "outputId": "491430cd-c9db-43e8-a19a-3a257a3c5449"
      },
      "execution_count": 89,
      "outputs": [
        {
          "output_type": "stream",
          "name": "stdout",
          "text": [
            "Prediction:  0\n"
          ]
        },
        {
          "output_type": "execute_result",
          "data": {
            "text/plain": [
              "[['x3', '<=', '0.20']]"
            ]
          },
          "metadata": {},
          "execution_count": 89
        }
      ]
    },
    {
      "cell_type": "code",
      "source": [
        "anchor_expressions = []\n",
        "for row in anchor_matrix:\n",
        "  feature = Real(row[0])\n",
        "  if row[1] == '<=':\n",
        "    expression = feature <= float(row[2])\n",
        "  elif row[1] == '>=':\n",
        "    expression = feature >= float(row[2])\n",
        "  anchor_expressions.append(expression)\n",
        "print(anchor_expressions, len(anchor_expressions) == len(anchor_matrix))"
      ],
      "metadata": {
        "colab": {
          "base_uri": "https://localhost:8080/"
        },
        "id": "FSAQyCip0KmY",
        "outputId": "cfe45931-f5ec-4ac1-c1a0-3a1ec4a42201"
      },
      "execution_count": 90,
      "outputs": [
        {
          "output_type": "stream",
          "name": "stdout",
          "text": [
            "[x3 <= 0.2] True\n"
          ]
        }
      ]
    },
    {
      "cell_type": "code",
      "source": [
        "explainer = Explainer(gb_iris, X_iris_train)"
      ],
      "metadata": {
        "id": "PVjok8gnGYqf"
      },
      "execution_count": 91,
      "outputs": []
    },
    {
      "cell_type": "code",
      "source": [
        "instance_explanation = explainer.explain(X_iris_train[idx], 'asc')\n",
        "instance_explanation"
      ],
      "metadata": {
        "colab": {
          "base_uri": "https://localhost:8080/"
        },
        "id": "SVqGdTCqGbD5",
        "outputId": "3cb3375b-7a1a-48c9-9319-b7cd8ae2f0f2"
      },
      "execution_count": 92,
      "outputs": [
        {
          "output_type": "execute_result",
          "data": {
            "text/plain": [
              "[x3 == 1.5]"
            ]
          },
          "metadata": {},
          "execution_count": 92
        }
      ]
    },
    {
      "cell_type": "code",
      "source": [
        "print(anchor_expressions)"
      ],
      "metadata": {
        "colab": {
          "base_uri": "https://localhost:8080/"
        },
        "id": "baPwMZMVOjT-",
        "outputId": "bf2fe455-e3a4-45e0-e03b-0d639bb35b85"
      },
      "execution_count": 93,
      "outputs": [
        {
          "output_type": "stream",
          "name": "stdout",
          "text": [
            "[x3 <= 0.2]\n"
          ]
        }
      ]
    },
    {
      "cell_type": "code",
      "source": [
        "importances = gb_iris.feature_importances_\n",
        "importance_dic = {feature: importance for feature, importance in zip(iris_features_x, importances)}\n",
        "importance_dic"
      ],
      "metadata": {
        "colab": {
          "base_uri": "https://localhost:8080/"
        },
        "id": "4jJqV8-mQe9r",
        "outputId": "130eb8e0-c6a0-41cd-8317-deda84cf4aee"
      },
      "execution_count": 94,
      "outputs": [
        {
          "output_type": "execute_result",
          "data": {
            "text/plain": [
              "{'x0': 0.0, 'x1': 0.0, 'x2': 0.0, 'x3': 1.0}"
            ]
          },
          "metadata": {},
          "execution_count": 94
        }
      ]
    },
    {
      "cell_type": "code",
      "source": [
        "x_values_dic = {feature: value for feature, value in zip(iris_features_x, X_iris_train[idx])}\n",
        "x_values_dic"
      ],
      "metadata": {
        "colab": {
          "base_uri": "https://localhost:8080/"
        },
        "id": "H_77Vo1Za5ZU",
        "outputId": "48328db8-8a61-46fc-d582-aa55ff50731d"
      },
      "execution_count": 95,
      "outputs": [
        {
          "output_type": "execute_result",
          "data": {
            "text/plain": [
              "{'x0': 5.9, 'x1': 3.0, 'x2': 4.2, 'x3': 1.5}"
            ]
          },
          "metadata": {},
          "execution_count": 95
        }
      ]
    },
    {
      "cell_type": "code",
      "source": [
        "opt = Optimize()\n",
        "delta = Real('delta')\n",
        "\n",
        "# Adiciona a restrição delta > 0\n",
        "opt.add(delta >= 0)\n",
        "\n",
        "anchor_variables = []\n",
        "for formula in anchor_expressions:\n",
        "  anchor_variables.append(str(formula.arg(0)))"
      ],
      "metadata": {
        "id": "S8quClGWM__h"
      },
      "execution_count": 96,
      "outputs": []
    },
    {
      "cell_type": "code",
      "source": [
        "instance = X_iris_train[idx]\n",
        "\n",
        "for var in iris_features_x:\n",
        "  if var not in anchor_variables and importance_dic[var] != 0:\n",
        "    print(f'{x_values_dic[var]} - {delta} <= {var}, {var} <= {x_values_dic[var]} + {delta}')"
      ],
      "metadata": {
        "id": "AFT_noivPB7D"
      },
      "execution_count": 97,
      "outputs": []
    },
    {
      "cell_type": "code",
      "source": [
        "instance = X_iris_train[idx]\n",
        "formula = [Real(f'x{i}') == value for i, value in enumerate(instance)]\n",
        "print(formula)"
      ],
      "metadata": {
        "colab": {
          "base_uri": "https://localhost:8080/"
        },
        "id": "QzxTASCTaHHp",
        "outputId": "463d13c6-db5f-4b73-89b8-42ad4361cb61"
      },
      "execution_count": 98,
      "outputs": [
        {
          "output_type": "stream",
          "name": "stdout",
          "text": [
            "[x0 == 5.9, x1 == 3, x2 == 4.2, x3 == 1.5]\n"
          ]
        }
      ]
    },
    {
      "cell_type": "code",
      "source": [
        "complete_anchor_explainer(anchor_expressions, 0, explainer, X_iris_train[idx], iris_features_x, x_values_dic)"
      ],
      "metadata": {
        "colab": {
          "base_uri": "https://localhost:8080/"
        },
        "id": "WD-NcUKtgQ4A",
        "outputId": "38e00f85-f397-46e1-92c6-72689547e61d"
      },
      "execution_count": 121,
      "outputs": [
        {
          "output_type": "stream",
          "name": "stdout",
          "text": [
            "x2 = 4.2\n",
            "x1 = 3\n",
            "o_0_0 = -2.1621621621?\n",
            "delta = 0\n",
            "x3 = 0.1\n",
            "x0 = 5.9\n",
            "anchor correct\n"
          ]
        }
      ]
    },
    {
      "cell_type": "code",
      "source": [
        "complete_anchor_explainer_d(anchor_expressions, 0, explainer, X_iris_train[idx], iris_features_x, x_values_dic)"
      ],
      "metadata": {
        "colab": {
          "base_uri": "https://localhost:8080/"
        },
        "id": "x65Mk6L127TV",
        "outputId": "2030dbd6-3c6c-4392-f33d-3655d6d235e1"
      },
      "execution_count": 122,
      "outputs": [
        {
          "output_type": "stream",
          "name": "stdout",
          "text": [
            "o_0_0 = -2.1621621621?\n",
            "delta1 = 0\n",
            "x2 = 4.2\n",
            "x1 = 3\n",
            "delta0 = 0\n",
            "x0 = 5.9\n",
            "x3 = 0.1\n",
            "delta2 = 0\n",
            "\n",
            "delta: delta3\n"
          ]
        }
      ]
    },
    {
      "cell_type": "code",
      "source": [
        "print(explainer.T_model)"
      ],
      "metadata": {
        "colab": {
          "base_uri": "https://localhost:8080/"
        },
        "id": "9ORjbJDWhPhI",
        "outputId": "d21b4745-f4fb-4662-b811-6cccb50c148a"
      },
      "execution_count": 101,
      "outputs": [
        {
          "output_type": "stream",
          "name": "stdout",
          "text": [
            "And(And(Implies(And(x3 <= 0.75), o_0_0 == -2.1621621621?),\n",
            "        Implies(And(x3 > 0.75), o_0_0 == 1.8604651162?)))\n"
          ]
        }
      ]
    },
    {
      "cell_type": "code",
      "source": [
        "expcomp = ExplainerCompleter(gb_iris, anchor_explainer, X_iris, 0)"
      ],
      "metadata": {
        "id": "V0MmM99Iexcu"
      },
      "execution_count": 144,
      "outputs": []
    },
    {
      "cell_type": "code",
      "source": [
        "expcomp.explain_instance(X_iris_train[3], verbose=True)"
      ],
      "metadata": {
        "colab": {
          "base_uri": "https://localhost:8080/"
        },
        "id": "Rk2K7vfV2Opa",
        "outputId": "2343da5f-d268-494a-8bf0-112293573fc5"
      },
      "execution_count": 152,
      "outputs": [
        {
          "output_type": "stream",
          "name": "stdout",
          "text": [
            "x2 = 3.3\n",
            "x1 = 2\n",
            "o_0_0 = -2.1621621621?\n",
            "delta = 0\n",
            "x3 = 0.75\n",
            "x0 = 4.9\n",
            "delta = 0\n"
          ]
        }
      ]
    },
    {
      "cell_type": "code",
      "source": [
        "expcomp.anchor_expressions"
      ],
      "metadata": {
        "colab": {
          "base_uri": "https://localhost:8080/"
        },
        "id": "Aa--OVlQ216S",
        "outputId": "6f0afcd6-8734-4230-e50c-9e514d03734a"
      },
      "execution_count": 153,
      "outputs": [
        {
          "output_type": "execute_result",
          "data": {
            "text/plain": [
              "[x3 > 0.2, x1 <= 2.8]"
            ]
          },
          "metadata": {},
          "execution_count": 153
        }
      ]
    },
    {
      "cell_type": "code",
      "source": [
        "print(expcomp.D)"
      ],
      "metadata": {
        "colab": {
          "base_uri": "https://localhost:8080/"
        },
        "id": "E_Fo1Nen31y8",
        "outputId": "9644ab05-c22f-456b-afd3-8b50663e9bd4"
      },
      "execution_count": 155,
      "outputs": [
        {
          "output_type": "stream",
          "name": "stdout",
          "text": [
            "And((o_0_0)*0.1 + 0.1502822030? > 0)\n"
          ]
        }
      ]
    },
    {
      "cell_type": "code",
      "source": [
        "print(expcomp.T)"
      ],
      "metadata": {
        "colab": {
          "base_uri": "https://localhost:8080/"
        },
        "id": "F8vz5ZFg2a-7",
        "outputId": "57c8aa10-8076-451f-9b5d-3cbac77b0877"
      },
      "execution_count": 154,
      "outputs": [
        {
          "output_type": "stream",
          "name": "stdout",
          "text": [
            "And(And(And(Implies(And(x3 <= 0.75),\n",
            "                    o_0_0 == -2.1621621621?),\n",
            "            Implies(And(x3 > 0.75), o_0_0 == 1.8604651162?))),\n",
            "    And(And(4.3 <= x0, 7 >= x0),\n",
            "        And(2 <= x1, 4.4 >= x1),\n",
            "        And(1 <= x2, 5.1 >= x2),\n",
            "        And(0.1 <= x3, 1.8 >= x3)))\n"
          ]
        }
      ]
    },
    {
      "cell_type": "code",
      "source": [
        "expcomp = ExplainerCompleter(gb_iris, anchor_explainer, X_iris, 0)\n",
        "\n",
        "for i in range(len(X_iris_train)):\n",
        "  expcomp.explain_instance(X_iris_train[i])"
      ],
      "metadata": {
        "colab": {
          "base_uri": "https://localhost:8080/"
        },
        "id": "up4dqFgW0Ve7",
        "outputId": "1aa956ec-78ea-4703-8c6b-a76e0f99e8ab"
      },
      "execution_count": 136,
      "outputs": [
        {
          "output_type": "stream",
          "name": "stdout",
          "text": [
            "problema inviavel / explicação correta\n",
            "problema inviavel / explicação correta\n",
            "problema inviavel / explicação correta\n",
            "delta = 0\n",
            "problema inviavel / explicação correta\n",
            "problema inviavel / explicação correta\n",
            "problema inviavel / explicação correta\n",
            "problema inviavel / explicação correta\n",
            "problema inviavel / explicação correta\n",
            "problema inviavel / explicação correta\n",
            "problema inviavel / explicação correta\n",
            "problema inviavel / explicação correta\n",
            "delta = 0\n",
            "delta = 0\n",
            "problema inviavel / explicação correta\n",
            "problema inviavel / explicação correta\n",
            "problema inviavel / explicação correta\n",
            "problema inviavel / explicação correta\n",
            "problema inviavel / explicação correta\n",
            "problema inviavel / explicação correta\n",
            "problema inviavel / explicação correta\n",
            "problema inviavel / explicação correta\n",
            "problema inviavel / explicação correta\n",
            "problema inviavel / explicação correta\n",
            "delta = 0\n",
            "problema inviavel / explicação correta\n",
            "problema inviavel / explicação correta\n",
            "problema inviavel / explicação correta\n",
            "delta = 0\n",
            "problema inviavel / explicação correta\n",
            "problema inviavel / explicação correta\n",
            "delta = 0\n",
            "problema inviavel / explicação correta\n",
            "delta = 0\n",
            "problema inviavel / explicação correta\n",
            "problema inviavel / explicação correta\n",
            "problema inviavel / explicação correta\n",
            "delta = 0\n",
            "problema inviavel / explicação correta\n",
            "problema inviavel / explicação correta\n",
            "problema inviavel / explicação correta\n",
            "problema inviavel / explicação correta\n",
            "problema inviavel / explicação correta\n",
            "problema inviavel / explicação correta\n",
            "problema inviavel / explicação correta\n",
            "problema inviavel / explicação correta\n",
            "problema inviavel / explicação correta\n",
            "problema inviavel / explicação correta\n",
            "problema inviavel / explicação correta\n",
            "problema inviavel / explicação correta\n",
            "delta = 0\n",
            "problema inviavel / explicação correta\n",
            "problema inviavel / explicação correta\n",
            "problema inviavel / explicação correta\n",
            "delta = 0\n",
            "problema inviavel / explicação correta\n",
            "delta = 0\n",
            "problema inviavel / explicação correta\n",
            "problema inviavel / explicação correta\n",
            "problema inviavel / explicação correta\n",
            "problema inviavel / explicação correta\n",
            "problema inviavel / explicação correta\n",
            "problema inviavel / explicação correta\n",
            "problema inviavel / explicação correta\n",
            "delta = 0\n",
            "problema inviavel / explicação correta\n",
            "delta = 0\n",
            "problema inviavel / explicação correta\n",
            "problema inviavel / explicação correta\n",
            "problema inviavel / explicação correta\n",
            "delta = 0\n",
            "problema inviavel / explicação correta\n",
            "problema inviavel / explicação correta\n",
            "problema inviavel / explicação correta\n",
            "problema inviavel / explicação correta\n",
            "problema inviavel / explicação correta\n",
            "problema inviavel / explicação correta\n",
            "delta = 0\n",
            "problema inviavel / explicação correta\n",
            "problema inviavel / explicação correta\n"
          ]
        }
      ]
    }
  ]
}