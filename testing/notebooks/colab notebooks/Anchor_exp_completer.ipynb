{
  "cells": [
    {
      "cell_type": "code",
      "execution_count": 20,
      "metadata": {
        "id": "PXUu1DWnwv1u"
      },
      "outputs": [],
      "source": [
        "# set_option(rational_to_decimal=True)"
      ]
    },
    {
      "cell_type": "markdown",
      "metadata": {
        "id": "O_4ySBjnw6sP"
      },
      "source": [
        "# imports"
      ]
    },
    {
      "cell_type": "markdown",
      "metadata": {
        "id": "VcyJasfixBsI"
      },
      "source": [
        "## pip"
      ]
    },
    {
      "cell_type": "code",
      "execution_count": 21,
      "metadata": {
        "colab": {
          "base_uri": "https://localhost:8080/"
        },
        "id": "ksc1AkxNxA9A",
        "outputId": "d6ebe7cc-8ec5-452c-ade0-56f7bd6ae7a3"
      },
      "outputs": [],
      "source": [
        "# !pip install anchor-exp\n",
        "# !pip install pmlb\n",
        "# !pip install z3-solver"
      ]
    },
    {
      "cell_type": "markdown",
      "metadata": {
        "id": "tGABRqaaxD4g"
      },
      "source": [
        "## import"
      ]
    },
    {
      "cell_type": "code",
      "execution_count": 22,
      "metadata": {
        "id": "KMpVdVKryE9p"
      },
      "outputs": [],
      "source": [
        "import numpy as np\n",
        "import pandas as pd\n",
        "\n",
        "from anchor import utils\n",
        "from anchor import anchor_tabular\n",
        "import sklearn\n",
        "from sklearn.datasets import load_iris\n",
        "from sklearn.model_selection import train_test_split\n",
        "from sklearn.ensemble import GradientBoostingClassifier\n",
        "from pmlb import fetch_data\n",
        "from z3 import *"
      ]
    },
    {
      "cell_type": "markdown",
      "metadata": {
        "id": "xh6GqAGew85K"
      },
      "source": [
        "# model"
      ]
    },
    {
      "cell_type": "code",
      "execution_count": 23,
      "metadata": {
        "id": "J4TFZLUjFk32"
      },
      "outputs": [],
      "source": [
        "def feature_constraints_expression(X):\n",
        "    constraints = []\n",
        "\n",
        "    for i in range(X.shape[1]):\n",
        "        feature_values = X[:, i]\n",
        "        min_val, max_val = feature_values.min(), feature_values.max()\n",
        "\n",
        "        x = Real(f'x{i}')\n",
        "        min = RealVal(min_val)\n",
        "        max = RealVal(max_val)\n",
        "\n",
        "        constraint = And(min <= x, x <= max)\n",
        "        constraints.append(constraint)\n",
        "\n",
        "    return And(*constraints)"
      ]
    },
    {
      "cell_type": "code",
      "execution_count": 24,
      "metadata": {
        "id": "16FVq_I_FqrB"
      },
      "outputs": [],
      "source": [
        "def tree_paths_expression(tree, tree_index, class_index):\n",
        "    tree_ = tree.tree_\n",
        "    feature = tree_.feature\n",
        "    threshold = tree_.threshold\n",
        "    value = tree_.value\n",
        "\n",
        "    paths = []\n",
        "    o = Real(f'o_{tree_index}_{class_index}')\n",
        "\n",
        "    def traverse(node, path_conditions):\n",
        "\n",
        "        if feature[node] == -2:\n",
        "            leaf_value = value[node][0][0]\n",
        "            path_formula = And(path_conditions)\n",
        "            implication = Implies(path_formula, o == leaf_value)\n",
        "            paths.append(implication)\n",
        "        else:\n",
        "\n",
        "            x = Real(f'x{feature[node]}')\n",
        "            left_condition = x <= threshold[node]\n",
        "            right_condition = x > threshold[node]\n",
        "            traverse(tree_.children_left[node],\n",
        "                     path_conditions + [left_condition])\n",
        "            traverse(tree_.children_right[node],\n",
        "                     path_conditions + [right_condition])\n",
        "\n",
        "    traverse(0, [])\n",
        "    return And(*paths)"
      ]
    },
    {
      "cell_type": "code",
      "execution_count": 25,
      "metadata": {
        "id": "eUIl378iFnUw"
      },
      "outputs": [],
      "source": [
        "def model_trees_expression(model):\n",
        "    formulas = []\n",
        "    for i, estimators in enumerate(model.estimators_):\n",
        "        for class_index, estimator in enumerate(estimators):\n",
        "            formula = tree_paths_expression(estimator, i, class_index)\n",
        "            formulas.append(formula)\n",
        "    return And(*formulas)"
      ]
    },
    {
      "cell_type": "code",
      "execution_count": 26,
      "metadata": {
        "id": "rWwYgg67FuNZ"
      },
      "outputs": [],
      "source": [
        "def decision_function_expression(model, x):\n",
        "    learning_rate = model.learning_rate\n",
        "    estimators = model.estimators_\n",
        "    n_classes = 1 if model.n_classes_ <= 2 else model.n_classes_\n",
        "\n",
        "    decision = model.decision_function(x)\n",
        "    predicted_class = model.predict(x)[0]\n",
        "\n",
        "    estimator_results = []\n",
        "    for estimator in estimators:\n",
        "        class_predictions = [tree.predict(x) for tree in estimator]\n",
        "        estimator_results.append(class_predictions)\n",
        "\n",
        "    estimator_sum = np.sum(estimator_results, axis=0) * learning_rate\n",
        "    init_value = decision - estimator_sum.T\n",
        "\n",
        "    equation_list = []\n",
        "    for class_number in range(n_classes):\n",
        "        estimator_list = []\n",
        "        for estimator_number in range(len(estimators)):\n",
        "            o = Real(f\"o_{estimator_number}_{class_number}\")\n",
        "            estimator_list.append(o)\n",
        "        equation_o = Sum(estimator_list) * learning_rate + init_value[0][class_number]\n",
        "        equation_list.append(equation_o)\n",
        "\n",
        "    if n_classes <= 2:\n",
        "        if predicted_class == 0:\n",
        "            final_equation = equation_list[0] < 0\n",
        "        else:\n",
        "            final_equation = equation_list[0] > 0\n",
        "    else:\n",
        "        compare_equation = []\n",
        "        for class_number in range(n_classes):\n",
        "            if predicted_class != class_number:\n",
        "                compare_equation.append(\n",
        "                    equation_list[predicted_class] > equation_list[class_number]\n",
        "                )\n",
        "        final_equation = compare_equation\n",
        "\n",
        "    return And(final_equation)"
      ]
    },
    {
      "cell_type": "code",
      "execution_count": 27,
      "metadata": {
        "id": "1FEX-gkeF6Te"
      },
      "outputs": [],
      "source": [
        "def instance_expression(instance):\n",
        "    formula = [Real(f'x{i}') == value for i, value in enumerate(instance)]\n",
        "    return formula"
      ]
    },
    {
      "cell_type": "code",
      "execution_count": 28,
      "metadata": {
        "id": "MxtwGAtaGCeK"
      },
      "outputs": [],
      "source": [
        "def is_proved(f):\n",
        "    s = Solver()\n",
        "    s.add(Not(f))\n",
        "    if s.check() == unsat:\n",
        "        return True\n",
        "    else:\n",
        "        # print(s.model())\n",
        "        return False"
      ]
    },
    {
      "cell_type": "code",
      "execution_count": 29,
      "metadata": {
        "id": "rJH9-8rIF9JJ"
      },
      "outputs": [],
      "source": [
        "def explain(I, T, D, model, reorder):\n",
        "    X = I.copy()\n",
        "    T_s = simplify(T)\n",
        "    D_s = simplify(D)\n",
        "\n",
        "    importances = model.feature_importances_\n",
        "    if reorder == 'asc':\n",
        "        sorted_feature_indices = np.argsort(importances)\n",
        "        X = [X[i] for i in sorted_feature_indices]\n",
        "    elif reorder == 'desc':\n",
        "        sorted_feature_indices = np.argsort(np.flip(importances))\n",
        "        X = [X[i] for i in sorted_feature_indices]\n",
        "\n",
        "    for feature in X.copy():\n",
        "        X.remove(feature)\n",
        "\n",
        "        # prove(Implies(And(And(X), T), D))\n",
        "        if is_proved(Implies(And(And(X), T_s), D_s)):\n",
        "            continue\n",
        "            # print('proved')\n",
        "        else:\n",
        "            # print('not proved')\n",
        "            X.append(feature)\n",
        "\n",
        "    return X"
      ]
    },
    {
      "cell_type": "code",
      "execution_count": 30,
      "metadata": {
        "id": "7q1mncrwyTMx"
      },
      "outputs": [],
      "source": [
        "class Explainer:\n",
        "    def __init__(self, model, data):\n",
        "        self.model = model\n",
        "        self.data = data\n",
        "        self.T_constraints = feature_constraints_expression(self.data)\n",
        "        self.T_model = model_trees_expression(self.model)\n",
        "        self.T = And(self.T_model, self.T_constraints)\n",
        "\n",
        "    def explain(self, instance, reorder='asc'):\n",
        "        self.D = decision_function_expression(self.model, [instance])\n",
        "        self.I = instance_expression(instance)\n",
        "\n",
        "        return explain(self.I, self.T, self.D, self.model, reorder)"
      ]
    },
    {
      "cell_type": "code",
      "execution_count": 31,
      "metadata": {
        "id": "f61bTZqOd6co"
      },
      "outputs": [],
      "source": [
        "class ExplainerCompleter():\n",
        "  def __init__(self, model, anchor_explainer, data, round):\n",
        "    self.model = model\n",
        "\n",
        "    # anchor\n",
        "    # explain instance > matriz > expressions\n",
        "    self.anchor_explainer = anchor_explainer\n",
        "\n",
        "    # model\n",
        "    # T\n",
        "    self.T_constraints = feature_constraints_expression(data)\n",
        "    self.T_model = model_trees_expression(self.model)\n",
        "    self.T = And(self.T_model, self.T_constraints)\n",
        "\n",
        "  def explain_instance(self, instance, verbose=False):\n",
        "    opt = Optimize()\n",
        "\n",
        "    # anchor matrix > expressions\n",
        "    exp = anchor_explainer.explain_instance(instance, gb_iris.predict, threshold=0.95)\n",
        "    anchor_matrix = []\n",
        "    for name in exp.names():\n",
        "      tokens = name.split(' ')\n",
        "      for operator in ['<=', '>=', '==', '<', '>']:\n",
        "        if operator in name:\n",
        "          parts = name.split(operator)\n",
        "          if len(parts) == 2:\n",
        "            anchor_matrix.append([parts[0].strip(), operator, parts[1].strip()])\n",
        "            break\n",
        "    # unir com o código de cima para simplificar\n",
        "    anchor_expressions = []\n",
        "    for row in anchor_matrix:\n",
        "      feature = Real(row[0])\n",
        "      if row[1] == '<=':\n",
        "        expression = feature <= float(row[2])\n",
        "      elif row[1] == '>=':\n",
        "        expression = feature >= float(row[2])\n",
        "      elif row[1] == '<':\n",
        "        expression = feature < float(row[2])\n",
        "      elif row[1] == '>':\n",
        "        expression = feature > float(row[2])\n",
        "      anchor_expressions.append(expression)\n",
        "    # print(anchor_expressions, len(anchor_expressions) == len(anchor_matrix))\n",
        "    self.anchor_expressions = anchor_expressions\n",
        "    opt.add(anchor_expressions)\n",
        "\n",
        "    # delta\n",
        "    # delta >= 0\n",
        "    # todas as features que não estao no anchor > fazer as igualdades delta\n",
        "    anchor_variables = []\n",
        "    for formula in anchor_expressions:\n",
        "      anchor_variables.append(str(formula.arg(0)))\n",
        "\n",
        "    feature_names = [f'x{i}' for i in range(instance.shape[0])]\n",
        "    opt.add(delta >= 0)\n",
        "    for i, var in enumerate(feature_names):\n",
        "      if var not in anchor_variables: # and importance_dic[var] != 0:\n",
        "        z3_var = Real(var)\n",
        "        opt.add((instance[i]) - delta <= z3_var, z3_var <= (instance[i]) + delta)\n",
        "        # print(f'{instance[i]} - {delta} <= {var}, {var} <= {instance[i]} + {delta}')\n",
        "\n",
        "    # not D\n",
        "    self.D = decision_function_expression(self.model, [instance])\n",
        "\n",
        "    # model\n",
        "    opt.add(self.T)\n",
        "    opt.add(Not(self.D))\n",
        "\n",
        "    # minimize delta\n",
        "    opt.minimize(delta)\n",
        "    if opt.check() == sat:\n",
        "      if verbose:\n",
        "        for var in opt.model():\n",
        "          print(var, '=', opt.model()[var])\n",
        "      if opt.model().eval(delta) == 0:\n",
        "        print('delta = 0')\n",
        "      else:\n",
        "        print(f\"\\ndelta: {opt.model().eval(delta)}\")\n",
        "    else:\n",
        "      print(\"problema inviavel / explicação correta\")"
      ]
    },
    {
      "cell_type": "code",
      "execution_count": 32,
      "metadata": {
        "id": "3I6K4UyYywLY"
      },
      "outputs": [],
      "source": [
        "def complete_anchor_explainer(anchor_exp_expressions, delta_round, explainer, instance, feature_names, x_values_dic):\n",
        "  opt = Optimize()\n",
        "\n",
        "  delta = Real('delta')\n",
        "\n",
        "  # anchor\n",
        "  opt.add(anchor_exp_expressions)\n",
        "  anchor_variables = []\n",
        "  for formula in anchor_exp_expressions:\n",
        "    anchor_variables.append(str(formula.arg(0)))\n",
        "\n",
        "  # delta\n",
        "  opt.add(delta >= 0)\n",
        "  for var in feature_names:\n",
        "    if var not in anchor_variables: # and importance_dic[var] != 0:\n",
        "      z3_var = Real(var)\n",
        "      opt.add((x_values_dic[var]) - delta <= z3_var, z3_var <= (x_values_dic[var]) + delta)\n",
        "      # print(f'{x_values_dic[var]} - {delta} <= {var}, {var} <= {x_values_dic[var]} + {delta}')\n",
        "\n",
        "  # model\n",
        "  explainer.explain(instance)\n",
        "  opt.add(explainer.T_constraints)\n",
        "  opt.add(explainer.T_model)\n",
        "  opt.add(Not(explainer.D))\n",
        "\n",
        "  opt.minimize(delta)\n",
        "  if opt.check() == sat:\n",
        "    for var in opt.model():\n",
        "      print(var, '=', opt.model()[var])\n",
        "    if opt.model().eval(delta) == 0:\n",
        "      print('delta == 0')\n",
        "    else:\n",
        "      print(f\"\\ndelta: {opt.model().eval(delta)}\")\n",
        "  else:\n",
        "    print(\"problema inviavel / explicação correta\")\n",
        "\n",
        "  return"
      ]
    },
    {
      "cell_type": "code",
      "execution_count": 33,
      "metadata": {
        "id": "en5yNquN2epA"
      },
      "outputs": [],
      "source": [
        "def complete_anchor_explainer_d(anchor_exp_expressions, delta_round, explainer, instance, feature_names, x_values_dic):\n",
        "  opt = Optimize()\n",
        "\n",
        "\n",
        "  # anchor\n",
        "  opt.add(anchor_exp_expressions)\n",
        "  anchor_variables = []\n",
        "  for formula in anchor_exp_expressions:\n",
        "    anchor_variables.append(str(formula.arg(0)))\n",
        "\n",
        "  # delta\n",
        "  for i, var in enumerate(feature_names):\n",
        "    if var not in anchor_variables: # and importance_dic[var] != 0:\n",
        "      z3_var = Real(var)\n",
        "      delta = Real(f'delta{i}')\n",
        "      opt.add(delta >= 0)\n",
        "      opt.add((x_values_dic[var]) - delta <= z3_var, z3_var <= (x_values_dic[var]) + delta)\n",
        "      # print(f'{x_values_dic[var]} - {delta} <= {var}, {var} <= {x_values_dic[var]} + {delta}')\n",
        "\n",
        "  # model\n",
        "  explainer.explain(instance)\n",
        "  opt.add(explainer.T_constraints)\n",
        "  opt.add(explainer.T_model)\n",
        "  opt.add(Not(explainer.D))\n",
        "\n",
        "  for i in range(len(feature_names)):\n",
        "    delta = Real(f'delta{i}')\n",
        "    opt.minimize(delta)\n",
        "  # opt.minimize(delta)\n",
        "  if opt.check() == sat:\n",
        "    for var in opt.model():\n",
        "      print(var, '=', opt.model()[var])\n",
        "    if opt.model().eval(delta) == 0:\n",
        "      print('anchor correct')\n",
        "    else:\n",
        "      print(f\"\\ndelta: {opt.model().eval(delta)}\")\n",
        "  else:\n",
        "    print(\"Problema inviável!\")\n",
        "\n",
        "  return"
      ]
    },
    {
      "cell_type": "markdown",
      "metadata": {
        "id": "N_j9ygB0w-9r"
      },
      "source": [
        "# tests"
      ]
    },
    {
      "cell_type": "code",
      "execution_count": 34,
      "metadata": {
        "colab": {
          "base_uri": "https://localhost:8080/"
        },
        "id": "jV8I54NUzB86",
        "outputId": "668c253f-9c71-4362-d0ca-359e020c2ba7"
      },
      "outputs": [
        {
          "name": "stdout",
          "output_type": "stream",
          "text": [
            "Train 1.0\n",
            "Test 1.0\n"
          ]
        },
        {
          "data": {
            "text/plain": [
              "array([0, 0, 0, 0, 0, 0, 0, 0, 0, 0, 0, 0, 0, 0, 0, 0, 0, 0, 0, 0, 0, 0,\n",
              "       0, 0, 0, 0, 0, 0, 0, 0, 0, 0, 0, 0, 0, 0, 0, 0, 0, 0, 0, 0, 0, 0,\n",
              "       0, 0, 0, 0, 0, 0, 1, 1, 1, 1, 1, 1, 1, 1, 1, 1, 1, 1, 1, 1, 1, 1,\n",
              "       1, 1, 1, 1, 1, 1, 1, 1, 1, 1, 1, 1, 1, 1, 1, 1, 1, 1, 1, 1, 1, 1,\n",
              "       1, 1, 1, 1, 1, 1, 1, 1, 1, 1, 1, 1])"
            ]
          },
          "execution_count": 34,
          "metadata": {},
          "output_type": "execute_result"
        }
      ],
      "source": [
        "gb_iris = GradientBoostingClassifier(n_estimators=1, max_depth=1, random_state = 101)\n",
        "\n",
        "iris = load_iris()\n",
        "X_iris, y_iris = iris.data, iris.target\n",
        "\n",
        "# deixa binario\n",
        "filter_indices = np.where(np.isin(y_iris, [0, 1]))[0]\n",
        "X_iris = X_iris[filter_indices]\n",
        "y_iris = y_iris[filter_indices]\n",
        "\n",
        "X_iris_train, X_iris_test, y_iris_train, y_iris_test = train_test_split(\n",
        "    X_iris, y_iris, test_size=0.2, random_state=101)\n",
        "\n",
        "gb_iris.fit(X_iris_train, y_iris_train)\n",
        "\n",
        "print('Train', sklearn.metrics.accuracy_score(y_iris_train, gb_iris.predict(X_iris_train)))\n",
        "print('Test', sklearn.metrics.accuracy_score(y_iris_test, gb_iris.predict(X_iris_test)))\n",
        "\n",
        "gb_iris.predict(X_iris)"
      ]
    },
    {
      "cell_type": "code",
      "execution_count": 35,
      "metadata": {
        "colab": {
          "base_uri": "https://localhost:8080/"
        },
        "id": "7bkq4_YBiCq-",
        "outputId": "1e41206d-3dc0-4c12-eef8-8c00da9ea622"
      },
      "outputs": [
        {
          "data": {
            "text/plain": [
              "range(0, 4)"
            ]
          },
          "execution_count": 35,
          "metadata": {},
          "output_type": "execute_result"
        }
      ],
      "source": [
        "range(len(iris.feature_names))"
      ]
    },
    {
      "cell_type": "code",
      "execution_count": null,
      "metadata": {
        "id": "H9_l7EqLyTXn"
      },
      "outputs": [],
      "source": []
    },
    {
      "cell_type": "code",
      "execution_count": 36,
      "metadata": {
        "colab": {
          "base_uri": "https://localhost:8080/"
        },
        "id": "dRTyXiCwiTV7",
        "outputId": "f101a9e9-cea9-4527-c0fa-145d260a74fb"
      },
      "outputs": [
        {
          "data": {
            "text/plain": [
              "['x0', 'x1', 'x2', 'x3']"
            ]
          },
          "execution_count": 36,
          "metadata": {},
          "output_type": "execute_result"
        }
      ],
      "source": [
        "iris_features_x = [f'x{i}' for i in range(len(iris.feature_names))]\n",
        "iris_features_x"
      ]
    },
    {
      "cell_type": "code",
      "execution_count": 37,
      "metadata": {
        "colab": {
          "base_uri": "https://localhost:8080/"
        },
        "id": "RqwlzQZDyTxR",
        "outputId": "3089ba97-d4e9-4540-d1dc-c72fe99feb55"
      },
      "outputs": [],
      "source": [
        "# for i, var in enumerate(iris_features_x):\n",
        "#   print(var, X_iris[idx][i])"
      ]
    },
    {
      "cell_type": "code",
      "execution_count": 38,
      "metadata": {
        "colab": {
          "base_uri": "https://localhost:8080/"
        },
        "id": "_IvzjWRjzQXl",
        "outputId": "491430cd-c9db-43e8-a19a-3a257a3c5449"
      },
      "outputs": [
        {
          "name": "stdout",
          "output_type": "stream",
          "text": [
            "Prediction:  0\n"
          ]
        },
        {
          "data": {
            "text/plain": [
              "[['x3', '<=', '0.20']]"
            ]
          },
          "execution_count": 38,
          "metadata": {},
          "output_type": "execute_result"
        }
      ],
      "source": [
        "idx = 0\n",
        "iris_features_x = [f'x{i}' for i in range(len(iris.feature_names))]\n",
        "\n",
        "anchor_explainer = anchor_tabular.AnchorTabularExplainer(\n",
        "    gb_iris.classes_,\n",
        "    iris_features_x,\n",
        "    X_iris_train,\n",
        "    categorical_names={})\n",
        "\n",
        "print('Prediction: ', anchor_explainer.class_names[gb_iris.predict(X_iris[idx].reshape(1, -1))[0]])\n",
        "exp = anchor_explainer.explain_instance(X_iris[idx], gb_iris.predict, threshold=0.95)\n",
        "\n",
        "anchor_matrix = []\n",
        "\n",
        "for name in exp.names():\n",
        "  tokens = name.split(' ')\n",
        "\n",
        "  for operator in ['<=', '>=', '==', '<', '>']:\n",
        "    if operator in name:\n",
        "      parts = name.split(operator)\n",
        "      if len(parts) == 2:\n",
        "        anchor_matrix.append([parts[0].strip(), operator, parts[1].strip()])\n",
        "        break\n",
        "anchor_matrix"
      ]
    },
    {
      "cell_type": "code",
      "execution_count": 39,
      "metadata": {
        "colab": {
          "base_uri": "https://localhost:8080/"
        },
        "id": "FSAQyCip0KmY",
        "outputId": "cfe45931-f5ec-4ac1-c1a0-3a1ec4a42201"
      },
      "outputs": [
        {
          "name": "stdout",
          "output_type": "stream",
          "text": [
            "[x3 <= 1/5] True\n"
          ]
        }
      ],
      "source": [
        "anchor_expressions = []\n",
        "for row in anchor_matrix:\n",
        "  feature = Real(row[0])\n",
        "  if row[1] == '<=':\n",
        "    expression = feature <= float(row[2])\n",
        "  elif row[1] == '>=':\n",
        "    expression = feature >= float(row[2])\n",
        "  anchor_expressions.append(expression)\n",
        "print(anchor_expressions, len(anchor_expressions) == len(anchor_matrix))"
      ]
    },
    {
      "cell_type": "code",
      "execution_count": 40,
      "metadata": {
        "id": "PVjok8gnGYqf"
      },
      "outputs": [],
      "source": [
        "explainer = Explainer(gb_iris, X_iris_train)"
      ]
    },
    {
      "cell_type": "code",
      "execution_count": 41,
      "metadata": {
        "colab": {
          "base_uri": "https://localhost:8080/"
        },
        "id": "SVqGdTCqGbD5",
        "outputId": "3cb3375b-7a1a-48c9-9319-b7cd8ae2f0f2"
      },
      "outputs": [
        {
          "data": {
            "text/plain": [
              "[x3 == 3/2]"
            ]
          },
          "execution_count": 41,
          "metadata": {},
          "output_type": "execute_result"
        }
      ],
      "source": [
        "instance_explanation = explainer.explain(X_iris_train[idx], 'asc')\n",
        "instance_explanation"
      ]
    },
    {
      "cell_type": "code",
      "execution_count": 42,
      "metadata": {
        "colab": {
          "base_uri": "https://localhost:8080/"
        },
        "id": "baPwMZMVOjT-",
        "outputId": "bf2fe455-e3a4-45e0-e03b-0d639bb35b85"
      },
      "outputs": [
        {
          "name": "stdout",
          "output_type": "stream",
          "text": [
            "[x3 <= 1/5]\n"
          ]
        }
      ],
      "source": [
        "print(anchor_expressions)"
      ]
    },
    {
      "cell_type": "code",
      "execution_count": 43,
      "metadata": {
        "colab": {
          "base_uri": "https://localhost:8080/"
        },
        "id": "4jJqV8-mQe9r",
        "outputId": "130eb8e0-c6a0-41cd-8317-deda84cf4aee"
      },
      "outputs": [
        {
          "data": {
            "text/plain": [
              "{'x0': np.float64(0.0),\n",
              " 'x1': np.float64(0.0),\n",
              " 'x2': np.float64(0.0),\n",
              " 'x3': np.float64(1.0)}"
            ]
          },
          "execution_count": 43,
          "metadata": {},
          "output_type": "execute_result"
        }
      ],
      "source": [
        "importances = gb_iris.feature_importances_\n",
        "importance_dic = {feature: importance for feature, importance in zip(iris_features_x, importances)}\n",
        "importance_dic"
      ]
    },
    {
      "cell_type": "code",
      "execution_count": 44,
      "metadata": {
        "colab": {
          "base_uri": "https://localhost:8080/"
        },
        "id": "H_77Vo1Za5ZU",
        "outputId": "48328db8-8a61-46fc-d582-aa55ff50731d"
      },
      "outputs": [
        {
          "data": {
            "text/plain": [
              "{'x0': np.float64(5.9),\n",
              " 'x1': np.float64(3.0),\n",
              " 'x2': np.float64(4.2),\n",
              " 'x3': np.float64(1.5)}"
            ]
          },
          "execution_count": 44,
          "metadata": {},
          "output_type": "execute_result"
        }
      ],
      "source": [
        "x_values_dic = {feature: value for feature, value in zip(iris_features_x, X_iris_train[idx])}\n",
        "x_values_dic"
      ]
    },
    {
      "cell_type": "code",
      "execution_count": 45,
      "metadata": {
        "id": "S8quClGWM__h"
      },
      "outputs": [],
      "source": [
        "opt = Optimize()\n",
        "delta = Real('delta')\n",
        "\n",
        "# Adiciona a restrição delta > 0\n",
        "opt.add(delta >= 0)\n",
        "\n",
        "anchor_variables = []\n",
        "for formula in anchor_expressions:\n",
        "  anchor_variables.append(str(formula.arg(0)))"
      ]
    },
    {
      "cell_type": "code",
      "execution_count": 46,
      "metadata": {
        "id": "AFT_noivPB7D"
      },
      "outputs": [],
      "source": [
        "instance = X_iris_train[idx]\n",
        "\n",
        "for var in iris_features_x:\n",
        "  if var not in anchor_variables and importance_dic[var] != 0:\n",
        "    print(f'{x_values_dic[var]} - {delta} <= {var}, {var} <= {x_values_dic[var]} + {delta}')"
      ]
    },
    {
      "cell_type": "code",
      "execution_count": 47,
      "metadata": {
        "colab": {
          "base_uri": "https://localhost:8080/"
        },
        "id": "QzxTASCTaHHp",
        "outputId": "463d13c6-db5f-4b73-89b8-42ad4361cb61"
      },
      "outputs": [
        {
          "name": "stdout",
          "output_type": "stream",
          "text": [
            "[x0 == 59/10, x1 == 3, x2 == 21/5, x3 == 3/2]\n"
          ]
        }
      ],
      "source": [
        "instance = X_iris_train[idx]\n",
        "formula = [Real(f'x{i}') == value for i, value in enumerate(instance)]\n",
        "print(formula)"
      ]
    },
    {
      "cell_type": "code",
      "execution_count": 48,
      "metadata": {
        "colab": {
          "base_uri": "https://localhost:8080/"
        },
        "id": "WD-NcUKtgQ4A",
        "outputId": "38e00f85-f397-46e1-92c6-72689547e61d"
      },
      "outputs": [
        {
          "name": "stdout",
          "output_type": "stream",
          "text": [
            "x2 = 21/5\n",
            "x1 = 3\n",
            "o_0_0 = -5405405405405409/2500000000000000\n",
            "delta = 0\n",
            "x3 = 1/10\n",
            "x0 = 59/10\n",
            "delta == 0\n"
          ]
        }
      ],
      "source": [
        "complete_anchor_explainer(anchor_expressions, 0, explainer, X_iris_train[idx], iris_features_x, x_values_dic)"
      ]
    },
    {
      "cell_type": "code",
      "execution_count": 49,
      "metadata": {
        "colab": {
          "base_uri": "https://localhost:8080/"
        },
        "id": "x65Mk6L127TV",
        "outputId": "2030dbd6-3c6c-4392-f33d-3655d6d235e1"
      },
      "outputs": [
        {
          "name": "stdout",
          "output_type": "stream",
          "text": [
            "o_0_0 = -5405405405405409/2500000000000000\n",
            "delta1 = 0\n",
            "x2 = 21/5\n",
            "x1 = 3\n",
            "delta0 = 0\n",
            "x0 = 59/10\n",
            "x3 = 1/10\n",
            "delta2 = 0\n",
            "\n",
            "delta: delta3\n"
          ]
        }
      ],
      "source": [
        "complete_anchor_explainer_d(anchor_expressions, 0, explainer, X_iris_train[idx], iris_features_x, x_values_dic)"
      ]
    },
    {
      "cell_type": "code",
      "execution_count": 50,
      "metadata": {
        "colab": {
          "base_uri": "https://localhost:8080/"
        },
        "id": "9ORjbJDWhPhI",
        "outputId": "d21b4745-f4fb-4662-b811-6cccb50c148a"
      },
      "outputs": [
        {
          "name": "stdout",
          "output_type": "stream",
          "text": [
            "And(And(Implies(And(x3 <= 3/4),\n",
            "                o_0_0 == -5405405405405409/2500000000000000),\n",
            "        Implies(And(x3 > 3/4),\n",
            "                o_0_0 == 18604651162790697/10000000000000000)))\n"
          ]
        }
      ],
      "source": [
        "print(explainer.T_model)"
      ]
    },
    {
      "cell_type": "code",
      "execution_count": 51,
      "metadata": {
        "id": "V0MmM99Iexcu"
      },
      "outputs": [],
      "source": [
        "expcomp = ExplainerCompleter(gb_iris, anchor_explainer, X_iris, 0)"
      ]
    },
    {
      "cell_type": "code",
      "execution_count": 52,
      "metadata": {
        "colab": {
          "base_uri": "https://localhost:8080/"
        },
        "id": "Rk2K7vfV2Opa",
        "outputId": "2343da5f-d268-494a-8bf0-112293573fc5"
      },
      "outputs": [
        {
          "name": "stdout",
          "output_type": "stream",
          "text": [
            "x2 = 33/10\n",
            "x1 = 2\n",
            "o_0_0 = -5405405405405409/2500000000000000\n",
            "delta = 0\n",
            "x3 = 3/4\n",
            "x0 = 49/10\n",
            "delta = 0\n"
          ]
        }
      ],
      "source": [
        "expcomp.explain_instance(X_iris_train[3], verbose=True)"
      ]
    },
    {
      "cell_type": "code",
      "execution_count": 53,
      "metadata": {
        "colab": {
          "base_uri": "https://localhost:8080/"
        },
        "id": "Aa--OVlQ216S",
        "outputId": "6f0afcd6-8734-4230-e50c-9e514d03734a"
      },
      "outputs": [
        {
          "data": {
            "text/plain": [
              "[x3 > 1/5, x1 <= 14/5]"
            ]
          },
          "execution_count": 53,
          "metadata": {},
          "output_type": "execute_result"
        }
      ],
      "source": [
        "expcomp.anchor_expressions"
      ]
    },
    {
      "cell_type": "code",
      "execution_count": 54,
      "metadata": {
        "colab": {
          "base_uri": "https://localhost:8080/"
        },
        "id": "E_Fo1Nen31y8",
        "outputId": "9644ab05-c22f-456b-afd3-8b50663e9bd4"
      },
      "outputs": [
        {
          "name": "stdout",
          "output_type": "stream",
          "text": [
            "And((o_0_0)*1/10 + 15028220304933793/100000000000000000 > 0)\n"
          ]
        }
      ],
      "source": [
        "print(expcomp.D)"
      ]
    },
    {
      "cell_type": "code",
      "execution_count": 55,
      "metadata": {
        "colab": {
          "base_uri": "https://localhost:8080/"
        },
        "id": "F8vz5ZFg2a-7",
        "outputId": "57c8aa10-8076-451f-9b5d-3cbac77b0877"
      },
      "outputs": [
        {
          "name": "stdout",
          "output_type": "stream",
          "text": [
            "And(And(And(Implies(And(x3 <= 3/4),\n",
            "                    o_0_0 ==\n",
            "                    -5405405405405409/2500000000000000),\n",
            "            Implies(And(x3 > 3/4),\n",
            "                    o_0_0 ==\n",
            "                    18604651162790697/10000000000000000))),\n",
            "    And(And(43/10 <= x0, 7 >= x0),\n",
            "        And(2 <= x1, 22/5 >= x1),\n",
            "        And(1 <= x2, 51/10 >= x2),\n",
            "        And(1/10 <= x3, 9/5 >= x3)))\n"
          ]
        }
      ],
      "source": [
        "print(expcomp.T)"
      ]
    },
    {
      "cell_type": "code",
      "execution_count": 56,
      "metadata": {
        "colab": {
          "base_uri": "https://localhost:8080/"
        },
        "id": "up4dqFgW0Ve7",
        "outputId": "1aa956ec-78ea-4703-8c6b-a76e0f99e8ab"
      },
      "outputs": [
        {
          "name": "stdout",
          "output_type": "stream",
          "text": [
            "problema inviavel / explicação correta\n",
            "problema inviavel / explicação correta\n",
            "problema inviavel / explicação correta\n",
            "delta = 0\n",
            "problema inviavel / explicação correta\n",
            "problema inviavel / explicação correta\n",
            "problema inviavel / explicação correta\n",
            "problema inviavel / explicação correta\n",
            "problema inviavel / explicação correta\n",
            "problema inviavel / explicação correta\n",
            "problema inviavel / explicação correta\n",
            "problema inviavel / explicação correta\n",
            "delta = 0\n",
            "delta = 0\n",
            "problema inviavel / explicação correta\n",
            "problema inviavel / explicação correta\n",
            "problema inviavel / explicação correta\n",
            "problema inviavel / explicação correta\n",
            "problema inviavel / explicação correta\n",
            "problema inviavel / explicação correta\n",
            "problema inviavel / explicação correta\n",
            "problema inviavel / explicação correta\n",
            "problema inviavel / explicação correta\n",
            "problema inviavel / explicação correta\n",
            "delta = 0\n",
            "problema inviavel / explicação correta\n",
            "problema inviavel / explicação correta\n",
            "problema inviavel / explicação correta\n",
            "delta = 0\n",
            "problema inviavel / explicação correta\n",
            "problema inviavel / explicação correta\n",
            "delta = 0\n",
            "problema inviavel / explicação correta\n",
            "delta = 0\n",
            "problema inviavel / explicação correta\n",
            "problema inviavel / explicação correta\n",
            "problema inviavel / explicação correta\n",
            "delta = 0\n",
            "problema inviavel / explicação correta\n",
            "problema inviavel / explicação correta\n",
            "problema inviavel / explicação correta\n",
            "problema inviavel / explicação correta\n",
            "problema inviavel / explicação correta\n",
            "problema inviavel / explicação correta\n",
            "problema inviavel / explicação correta\n",
            "problema inviavel / explicação correta\n",
            "problema inviavel / explicação correta\n",
            "problema inviavel / explicação correta\n",
            "problema inviavel / explicação correta\n",
            "problema inviavel / explicação correta\n",
            "delta = 0\n",
            "problema inviavel / explicação correta\n",
            "problema inviavel / explicação correta\n",
            "problema inviavel / explicação correta\n",
            "delta = 0\n",
            "problema inviavel / explicação correta\n",
            "delta = 0\n",
            "problema inviavel / explicação correta\n",
            "problema inviavel / explicação correta\n",
            "problema inviavel / explicação correta\n",
            "problema inviavel / explicação correta\n",
            "problema inviavel / explicação correta\n",
            "problema inviavel / explicação correta\n",
            "problema inviavel / explicação correta\n",
            "delta = 0\n",
            "problema inviavel / explicação correta\n",
            "delta = 0\n",
            "problema inviavel / explicação correta\n",
            "problema inviavel / explicação correta\n",
            "problema inviavel / explicação correta\n",
            "delta = 0\n",
            "problema inviavel / explicação correta\n",
            "problema inviavel / explicação correta\n",
            "problema inviavel / explicação correta\n",
            "problema inviavel / explicação correta\n",
            "problema inviavel / explicação correta\n",
            "problema inviavel / explicação correta\n",
            "delta = 0\n",
            "problema inviavel / explicação correta\n",
            "problema inviavel / explicação correta\n"
          ]
        }
      ],
      "source": [
        "expcomp = ExplainerCompleter(gb_iris, anchor_explainer, X_iris, 0)\n",
        "\n",
        "for i in range(len(X_iris_train)):\n",
        "  expcomp.explain_instance(X_iris_train[i])"
      ]
    }
  ],
  "metadata": {
    "colab": {
      "collapsed_sections": [
        "VcyJasfixBsI"
      ],
      "provenance": []
    },
    "kernelspec": {
      "display_name": "env",
      "language": "python",
      "name": "python3"
    },
    "language_info": {
      "codemirror_mode": {
        "name": "ipython",
        "version": 3
      },
      "file_extension": ".py",
      "mimetype": "text/x-python",
      "name": "python",
      "nbconvert_exporter": "python",
      "pygments_lexer": "ipython3",
      "version": "3.9.2"
    }
  },
  "nbformat": 4,
  "nbformat_minor": 0
}
