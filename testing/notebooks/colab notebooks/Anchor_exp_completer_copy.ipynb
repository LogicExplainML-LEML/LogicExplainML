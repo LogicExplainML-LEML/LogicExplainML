{
  "nbformat": 4,
  "nbformat_minor": 0,
  "metadata": {
    "colab": {
      "provenance": [],
      "collapsed_sections": [
        "VcyJasfixBsI"
      ]
    },
    "kernelspec": {
      "name": "python3",
      "display_name": "Python 3"
    },
    "language_info": {
      "name": "python"
    }
  },
  "cells": [
    {
      "cell_type": "code",
      "execution_count": null,
      "metadata": {
        "id": "PXUu1DWnwv1u"
      },
      "outputs": [],
      "source": [
        "set_option(rational_to_decimal=True)"
      ]
    },
    {
      "cell_type": "markdown",
      "source": [
        "# imports"
      ],
      "metadata": {
        "id": "O_4ySBjnw6sP"
      }
    },
    {
      "cell_type": "markdown",
      "source": [
        "## pip"
      ],
      "metadata": {
        "id": "VcyJasfixBsI"
      }
    },
    {
      "cell_type": "code",
      "source": [
        "!pip install anchor-exp\n",
        "!pip install pmlb\n",
        "!pip install z3-solver"
      ],
      "metadata": {
        "id": "ksc1AkxNxA9A"
      },
      "execution_count": null,
      "outputs": []
    },
    {
      "cell_type": "markdown",
      "source": [
        "## import"
      ],
      "metadata": {
        "id": "tGABRqaaxD4g"
      }
    },
    {
      "cell_type": "code",
      "source": [
        "import numpy as np\n",
        "import pandas as pd\n",
        "\n",
        "from anchor import utils\n",
        "from anchor import anchor_tabular\n",
        "import sklearn\n",
        "from sklearn.datasets import load_iris, load_breast_cancer\n",
        "from sklearn.model_selection import train_test_split\n",
        "from sklearn.ensemble import GradientBoostingClassifier\n",
        "from pmlb import fetch_data\n",
        "from z3 import *"
      ],
      "metadata": {
        "id": "KMpVdVKryE9p"
      },
      "execution_count": null,
      "outputs": []
    },
    {
      "cell_type": "markdown",
      "source": [
        "# model"
      ],
      "metadata": {
        "id": "xh6GqAGew85K"
      }
    },
    {
      "cell_type": "code",
      "source": [
        "def feature_constraints_expression(X):\n",
        "    constraints = []\n",
        "\n",
        "    for i in range(X.shape[1]):\n",
        "        feature_values = X[:, i]\n",
        "        min_val, max_val = feature_values.min(), feature_values.max()\n",
        "\n",
        "        x = Real(f'x{i}')\n",
        "        min = RealVal(min_val)\n",
        "        max = RealVal(max_val)\n",
        "\n",
        "        constraint = And(min <= x, x <= max)\n",
        "        constraints.append(constraint)\n",
        "\n",
        "    return And(*constraints)"
      ],
      "metadata": {
        "id": "J4TFZLUjFk32"
      },
      "execution_count": null,
      "outputs": []
    },
    {
      "cell_type": "code",
      "source": [
        "def tree_paths_expression(tree, tree_index, class_index):\n",
        "    tree_ = tree.tree_\n",
        "    feature = tree_.feature\n",
        "    threshold = tree_.threshold\n",
        "    value = tree_.value\n",
        "\n",
        "    paths = []\n",
        "    o = Real(f'o_{tree_index}_{class_index}')\n",
        "\n",
        "    def traverse(node, path_conditions):\n",
        "\n",
        "        if feature[node] == -2:\n",
        "            leaf_value = value[node][0][0]\n",
        "            path_formula = And(path_conditions)\n",
        "            implication = Implies(path_formula, o == leaf_value)\n",
        "            paths.append(implication)\n",
        "        else:\n",
        "\n",
        "            x = Real(f'x{feature[node]}')\n",
        "            left_condition = x <= threshold[node]\n",
        "            right_condition = x > threshold[node]\n",
        "            traverse(tree_.children_left[node],\n",
        "                     path_conditions + [left_condition])\n",
        "            traverse(tree_.children_right[node],\n",
        "                     path_conditions + [right_condition])\n",
        "\n",
        "    traverse(0, [])\n",
        "    return And(*paths)"
      ],
      "metadata": {
        "id": "16FVq_I_FqrB"
      },
      "execution_count": null,
      "outputs": []
    },
    {
      "cell_type": "code",
      "source": [
        "def model_trees_expression(model):\n",
        "    formulas = []\n",
        "    for i, estimators in enumerate(model.estimators_):\n",
        "        for class_index, estimator in enumerate(estimators):\n",
        "            formula = tree_paths_expression(estimator, i, class_index)\n",
        "            formulas.append(formula)\n",
        "    return And(*formulas)"
      ],
      "metadata": {
        "id": "eUIl378iFnUw"
      },
      "execution_count": null,
      "outputs": []
    },
    {
      "cell_type": "code",
      "source": [
        "def decision_function_expression(model, x):\n",
        "    learning_rate = model.learning_rate\n",
        "    estimators = model.estimators_\n",
        "    n_classes = 1 if model.n_classes_ <= 2 else model.n_classes_\n",
        "\n",
        "    decision = model.decision_function(x)\n",
        "    predicted_class = model.predict(x)[0]\n",
        "\n",
        "    estimator_results = []\n",
        "    for estimator in estimators:\n",
        "        class_predictions = [tree.predict(x) for tree in estimator]\n",
        "        estimator_results.append(class_predictions)\n",
        "\n",
        "    estimator_sum = np.sum(estimator_results, axis=0) * learning_rate\n",
        "    init_value = decision - estimator_sum.T\n",
        "\n",
        "    equation_list = []\n",
        "    for class_number in range(n_classes):\n",
        "        estimator_list = []\n",
        "        for estimator_number in range(len(estimators)):\n",
        "            o = Real(f\"o_{estimator_number}_{class_number}\")\n",
        "            estimator_list.append(o)\n",
        "        equation_o = Sum(estimator_list) * learning_rate + init_value[0][class_number]\n",
        "        equation_list.append(equation_o)\n",
        "\n",
        "    if n_classes <= 2:\n",
        "        if predicted_class == 0:\n",
        "            final_equation = equation_list[0] < 0\n",
        "        else:\n",
        "            final_equation = equation_list[0] > 0\n",
        "    else:\n",
        "        compare_equation = []\n",
        "        for class_number in range(n_classes):\n",
        "            if predicted_class != class_number:\n",
        "                compare_equation.append(\n",
        "                    equation_list[predicted_class] > equation_list[class_number]\n",
        "                )\n",
        "        final_equation = compare_equation\n",
        "\n",
        "    return And(final_equation)"
      ],
      "metadata": {
        "id": "rWwYgg67FuNZ"
      },
      "execution_count": null,
      "outputs": []
    },
    {
      "cell_type": "code",
      "source": [
        "def instance_expression(instance):\n",
        "    formula = [Real(f'x{i}') == value for i, value in enumerate(instance)]\n",
        "    return formula"
      ],
      "metadata": {
        "id": "1FEX-gkeF6Te"
      },
      "execution_count": null,
      "outputs": []
    },
    {
      "cell_type": "code",
      "source": [
        "def is_proved(f):\n",
        "    s = Solver()\n",
        "    s.add(Not(f))\n",
        "    if s.check() == unsat:\n",
        "        return True\n",
        "    else:\n",
        "        # print(s.model())\n",
        "        return False"
      ],
      "metadata": {
        "id": "MxtwGAtaGCeK"
      },
      "execution_count": null,
      "outputs": []
    },
    {
      "cell_type": "code",
      "source": [
        "def explain(I, T, D, model, reorder):\n",
        "    X = I.copy()\n",
        "    T_s = simplify(T)\n",
        "    D_s = simplify(D)\n",
        "\n",
        "    importances = model.feature_importances_\n",
        "    if reorder == 'asc':\n",
        "        sorted_feature_indices = np.argsort(importances)\n",
        "        X = [X[i] for i in sorted_feature_indices]\n",
        "    elif reorder == 'desc':\n",
        "        sorted_feature_indices = np.argsort(np.flip(importances))\n",
        "        X = [X[i] for i in sorted_feature_indices]\n",
        "\n",
        "    for feature in X.copy():\n",
        "        X.remove(feature)\n",
        "\n",
        "        # prove(Implies(And(And(X), T), D))\n",
        "        if is_proved(Implies(And(And(X), T_s), D_s)):\n",
        "            continue\n",
        "            # print('proved')\n",
        "        else:\n",
        "            # print('not proved')\n",
        "            X.append(feature)\n",
        "\n",
        "    return X"
      ],
      "metadata": {
        "id": "rJH9-8rIF9JJ"
      },
      "execution_count": null,
      "outputs": []
    },
    {
      "cell_type": "code",
      "source": [
        "class Explainer:\n",
        "    def __init__(self, model, data):\n",
        "        self.model = model\n",
        "        self.data = data\n",
        "        self.T_constraints = feature_constraints_expression(self.data)\n",
        "        self.T_model = model_trees_expression(self.model)\n",
        "        self.T = And(self.T_model, self.T_constraints)\n",
        "\n",
        "    def explain(self, instance, reorder='asc'):\n",
        "        self.D = decision_function_expression(self.model, [instance])\n",
        "        self.I = instance_expression(instance)\n",
        "\n",
        "        return explain(self.I, self.T, self.D, self.model, reorder)"
      ],
      "metadata": {
        "id": "7q1mncrwyTMx"
      },
      "execution_count": null,
      "outputs": []
    },
    {
      "cell_type": "code",
      "source": [
        "class ExplainerCompleter():\n",
        "  def __init__(self, model, anchor_explainer, data, round):\n",
        "    self.model = model\n",
        "\n",
        "    # anchor\n",
        "    # explain instance > matriz > expressions\n",
        "    self.anchor_explainer = anchor_explainer\n",
        "\n",
        "    # model\n",
        "    # T\n",
        "    self.T_constraints = feature_constraints_expression(data)\n",
        "    self.T_model = model_trees_expression(self.model)\n",
        "    self.T = And(self.T_model, self.T_constraints)\n",
        "\n",
        "  def explain_instance(self, instance, verbose=False):\n",
        "    opt = Optimize()\n",
        "\n",
        "    # anchor matrix > expressions\n",
        "    exp = anchor_explainer.explain_instance(instance, self.model.predict, threshold=0.95)\n",
        "    anchor_matrix = []\n",
        "    for name in exp.names():\n",
        "      tokens = name.split(' ')\n",
        "      for operator in ['<=', '>=', '==', '<', '>']:\n",
        "        if operator in name:\n",
        "          parts = name.split(operator)\n",
        "          if len(parts) == 2:\n",
        "            anchor_matrix.append([parts[0].strip(), operator, parts[1].strip()])\n",
        "            break\n",
        "    # unir com o código de cima para simplificar\n",
        "    anchor_expressions = []\n",
        "    for row in anchor_matrix:\n",
        "      feature = Real(row[0])\n",
        "      if row[1] == '<=':\n",
        "        expression = feature <= float(row[2])\n",
        "      elif row[1] == '>=':\n",
        "        expression = feature >= float(row[2])\n",
        "      elif row[1] == '<':\n",
        "        expression = feature < float(row[2])\n",
        "      elif row[1] == '>':\n",
        "        expression = feature > float(row[2])\n",
        "      anchor_expressions.append(expression)\n",
        "    # print(anchor_expressions, len(anchor_expressions) == len(anchor_matrix))\n",
        "    self.anchor_expressions = anchor_expressions\n",
        "    opt.add(anchor_expressions)\n",
        "\n",
        "    # delta\n",
        "    # delta >= 0\n",
        "    # todas as features que não estao no anchor > fazer as igualdades delta\n",
        "    anchor_variables = []\n",
        "    for formula in anchor_expressions:\n",
        "      anchor_variables.append(str(formula.arg(0)))\n",
        "\n",
        "    feature_names = [f'x{i}' for i in range(instance.shape[0])]\n",
        "    opt.add(delta >= 0)\n",
        "    for i, var in enumerate(feature_names):\n",
        "      if var not in anchor_variables: # and importance_dic[var] != 0:\n",
        "        z3_var = Real(var)\n",
        "        opt.add((instance[i]) - delta <= z3_var, z3_var <= (instance[i]) + delta)\n",
        "        # print(f'{instance[i]} - {delta} <= {var}, {var} <= {instance[i]} + {delta}')\n",
        "\n",
        "    # not D\n",
        "    self.D = decision_function_expression(self.model, [instance])\n",
        "\n",
        "    # model\n",
        "    opt.add(self.T)\n",
        "    opt.add(Not(self.D))\n",
        "\n",
        "    # minimize delta\n",
        "    opt.minimize(delta)\n",
        "    if opt.check() == sat:\n",
        "      if verbose:\n",
        "        for var in opt.model():\n",
        "          print(var, '=', opt.model()[var])\n",
        "\n",
        "      if opt.model().eval(delta) == 0:\n",
        "        print('delta =', opt.model().eval(delta))\n",
        "    else:\n",
        "      print(\"problema inviavel / explicação correta\")"
      ],
      "metadata": {
        "id": "f61bTZqOd6co"
      },
      "execution_count": null,
      "outputs": []
    },
    {
      "cell_type": "code",
      "source": [
        "def complete_anchor_explainer(anchor_exp_expressions, delta_round, explainer, instance, feature_names, x_values_dic):\n",
        "  opt = Optimize()\n",
        "\n",
        "  delta = Real('delta')\n",
        "\n",
        "  # anchor\n",
        "  opt.add(anchor_exp_expressions)\n",
        "  anchor_variables = []\n",
        "  for formula in anchor_exp_expressions:\n",
        "    anchor_variables.append(str(formula.arg(0)))\n",
        "\n",
        "  # delta\n",
        "  opt.add(delta >= 0)\n",
        "  for var in feature_names:\n",
        "    if var not in anchor_variables: # and importance_dic[var] != 0:\n",
        "      z3_var = Real(var)\n",
        "      opt.add((x_values_dic[var]) - delta <= z3_var, z3_var <= (x_values_dic[var]) + delta)\n",
        "      # print(f'{x_values_dic[var]} - {delta} <= {var}, {var} <= {x_values_dic[var]} + {delta}')\n",
        "\n",
        "  # model\n",
        "  explainer.explain(instance)\n",
        "  opt.add(explainer.T_constraints)\n",
        "  opt.add(explainer.T_model)\n",
        "  opt.add(Not(explainer.D))\n",
        "\n",
        "  opt.minimize(delta)\n",
        "  if opt.check() == sat:\n",
        "    for var in opt.model():\n",
        "      print(var, '=', opt.model()[var])\n",
        "    if opt.model().eval(delta) == 0:\n",
        "      print('delta == 0')\n",
        "    else:\n",
        "      print(f\"\\ndelta: {opt.model().eval(delta)}\")\n",
        "  else:\n",
        "    print(\"problema inviavel / explicação correta\")\n",
        "\n",
        "  return"
      ],
      "metadata": {
        "id": "3I6K4UyYywLY"
      },
      "execution_count": null,
      "outputs": []
    },
    {
      "cell_type": "code",
      "source": [
        "def complete_anchor_explainer_d(anchor_exp_expressions, delta_round, explainer, instance, feature_names, x_values_dic):\n",
        "  opt = Optimize()\n",
        "\n",
        "\n",
        "  # anchor\n",
        "  opt.add(anchor_exp_expressions)\n",
        "  anchor_variables = []\n",
        "  for formula in anchor_exp_expressions:\n",
        "    anchor_variables.append(str(formula.arg(0)))\n",
        "\n",
        "  # delta\n",
        "  for i, var in enumerate(feature_names):\n",
        "    if var not in anchor_variables: # and importance_dic[var] != 0:\n",
        "      z3_var = Real(var)\n",
        "      delta = Real(f'delta{i}')\n",
        "      opt.add(delta >= 0)\n",
        "      opt.add((x_values_dic[var]) - delta <= z3_var, z3_var <= (x_values_dic[var]) + delta)\n",
        "      # print(f'{x_values_dic[var]} - {delta} <= {var}, {var} <= {x_values_dic[var]} + {delta}')\n",
        "\n",
        "  # model\n",
        "  explainer.explain(instance)\n",
        "  opt.add(explainer.T_constraints)\n",
        "  opt.add(explainer.T_model)\n",
        "  opt.add(Not(explainer.D))\n",
        "\n",
        "  for i in range(len(feature_names)):\n",
        "    delta = Real(f'delta{i}')\n",
        "    opt.minimize(delta)\n",
        "  # opt.minimize(delta)\n",
        "  if opt.check() == sat:\n",
        "    for var in opt.model():\n",
        "      print(var, '=', opt.model()[var])\n",
        "    if opt.model().eval(delta) == 0:\n",
        "      print('anchor correct')\n",
        "    else:\n",
        "      print(f\"\\ndelta: {opt.model().eval(delta)}\")\n",
        "  else:\n",
        "    print(\"Problema inviável!\")\n",
        "\n",
        "  return"
      ],
      "metadata": {
        "id": "en5yNquN2epA"
      },
      "execution_count": null,
      "outputs": []
    },
    {
      "cell_type": "markdown",
      "source": [
        "# tests"
      ],
      "metadata": {
        "id": "N_j9ygB0w-9r"
      }
    },
    {
      "cell_type": "code",
      "source": [
        "gb_iris = GradientBoostingClassifier(n_estimators=100, max_depth=3, random_state = 101)\n",
        "\n",
        "iris = load_iris()\n",
        "X_iris, y_iris = iris.data, iris.target\n",
        "\n",
        "# deixa binario\n",
        "filter_indices = np.where(np.isin(y_iris, [0, 1]))[0]\n",
        "X_iris = X_iris[filter_indices]\n",
        "y_iris = y_iris[filter_indices]\n",
        "\n",
        "X_iris_train, X_iris_test, y_iris_train, y_iris_test = train_test_split(\n",
        "    X_iris, y_iris, test_size=0.2, random_state=101)\n",
        "\n",
        "gb_iris.fit(X_iris_train, y_iris_train)\n",
        "\n",
        "print('Train', sklearn.metrics.accuracy_score(y_iris_train, gb_iris.predict(X_iris_train)))\n",
        "print('Test', sklearn.metrics.accuracy_score(y_iris_test, gb_iris.predict(X_iris_test)))\n",
        "\n",
        "gb_iris.predict(X_iris)"
      ],
      "metadata": {
        "colab": {
          "base_uri": "https://localhost:8080/"
        },
        "id": "jV8I54NUzB86",
        "outputId": "b78fea09-58e3-48ae-d9d7-9f8141fbde57"
      },
      "execution_count": null,
      "outputs": [
        {
          "output_type": "stream",
          "name": "stdout",
          "text": [
            "Train 1.0\n",
            "Test 1.0\n"
          ]
        },
        {
          "output_type": "execute_result",
          "data": {
            "text/plain": [
              "array([0, 0, 0, 0, 0, 0, 0, 0, 0, 0, 0, 0, 0, 0, 0, 0, 0, 0, 0, 0, 0, 0,\n",
              "       0, 0, 0, 0, 0, 0, 0, 0, 0, 0, 0, 0, 0, 0, 0, 0, 0, 0, 0, 0, 0, 0,\n",
              "       0, 0, 0, 0, 0, 0, 1, 1, 1, 1, 1, 1, 1, 1, 1, 1, 1, 1, 1, 1, 1, 1,\n",
              "       1, 1, 1, 1, 1, 1, 1, 1, 1, 1, 1, 1, 1, 1, 1, 1, 1, 1, 1, 1, 1, 1,\n",
              "       1, 1, 1, 1, 1, 1, 1, 1, 1, 1, 1, 1])"
            ]
          },
          "metadata": {},
          "execution_count": 15
        }
      ]
    },
    {
      "cell_type": "code",
      "source": [
        "range(len(iris.feature_names))"
      ],
      "metadata": {
        "colab": {
          "base_uri": "https://localhost:8080/"
        },
        "id": "7bkq4_YBiCq-",
        "outputId": "1410027f-9588-497c-80ee-ab9e6e991289"
      },
      "execution_count": null,
      "outputs": [
        {
          "output_type": "execute_result",
          "data": {
            "text/plain": [
              "range(0, 4)"
            ]
          },
          "metadata": {},
          "execution_count": 16
        }
      ]
    },
    {
      "cell_type": "code",
      "source": [],
      "metadata": {
        "id": "H9_l7EqLyTXn"
      },
      "execution_count": null,
      "outputs": []
    },
    {
      "cell_type": "code",
      "source": [
        "iris_features_x = [f'x{i}' for i in range(len(iris.feature_names))]\n",
        "iris_features_x"
      ],
      "metadata": {
        "colab": {
          "base_uri": "https://localhost:8080/"
        },
        "id": "dRTyXiCwiTV7",
        "outputId": "763409c6-2d66-4d1d-bb0c-8865428a43fb"
      },
      "execution_count": null,
      "outputs": [
        {
          "output_type": "execute_result",
          "data": {
            "text/plain": [
              "['x0', 'x1', 'x2', 'x3']"
            ]
          },
          "metadata": {},
          "execution_count": 17
        }
      ]
    },
    {
      "cell_type": "code",
      "source": [
        "# for i, var in enumerate(iris_features_x):\n",
        "#   print(var, X_iris[idx][i])"
      ],
      "metadata": {
        "colab": {
          "base_uri": "https://localhost:8080/",
          "height": 158
        },
        "id": "RqwlzQZDyTxR",
        "outputId": "2d5407eb-3469-4f35-ead9-bc4002485d3c"
      },
      "execution_count": null,
      "outputs": [
        {
          "output_type": "error",
          "ename": "NameError",
          "evalue": "name 'idx' is not defined",
          "traceback": [
            "\u001b[0;31m---------------------------------------------------------------------------\u001b[0m",
            "\u001b[0;31mNameError\u001b[0m                                 Traceback (most recent call last)",
            "\u001b[0;32m<ipython-input-18-9a372f87eff9>\u001b[0m in \u001b[0;36m<cell line: 1>\u001b[0;34m()\u001b[0m\n\u001b[1;32m      1\u001b[0m \u001b[0;32mfor\u001b[0m \u001b[0mi\u001b[0m\u001b[0;34m,\u001b[0m \u001b[0mvar\u001b[0m \u001b[0;32min\u001b[0m \u001b[0menumerate\u001b[0m\u001b[0;34m(\u001b[0m\u001b[0miris_features_x\u001b[0m\u001b[0;34m)\u001b[0m\u001b[0;34m:\u001b[0m\u001b[0;34m\u001b[0m\u001b[0;34m\u001b[0m\u001b[0m\n\u001b[0;32m----> 2\u001b[0;31m   \u001b[0mprint\u001b[0m\u001b[0;34m(\u001b[0m\u001b[0mvar\u001b[0m\u001b[0;34m,\u001b[0m \u001b[0mX_iris\u001b[0m\u001b[0;34m[\u001b[0m\u001b[0midx\u001b[0m\u001b[0;34m]\u001b[0m\u001b[0;34m[\u001b[0m\u001b[0mi\u001b[0m\u001b[0;34m]\u001b[0m\u001b[0;34m)\u001b[0m\u001b[0;34m\u001b[0m\u001b[0;34m\u001b[0m\u001b[0m\n\u001b[0m",
            "\u001b[0;31mNameError\u001b[0m: name 'idx' is not defined"
          ]
        }
      ]
    },
    {
      "cell_type": "code",
      "source": [
        "idx = 0\n",
        "iris_features_x = [f'x{i}' for i in range(len(iris.feature_names))]\n",
        "\n",
        "anchor_explainer = anchor_tabular.AnchorTabularExplainer(\n",
        "    gb_iris.classes_,\n",
        "    iris_features_x,\n",
        "    X_iris_train,\n",
        "    categorical_names={})\n",
        "\n",
        "print('Prediction: ', anchor_explainer.class_names[gb_iris.predict(X_iris[idx].reshape(1, -1))[0]])\n",
        "exp = anchor_explainer.explain_instance(X_iris[idx], gb_iris.predict, threshold=0.95)\n",
        "\n",
        "anchor_matrix = []\n",
        "\n",
        "for name in exp.names():\n",
        "  tokens = name.split(' ')\n",
        "\n",
        "  for operator in ['<=', '>=', '==', '<', '>']:\n",
        "    if operator in name:\n",
        "      parts = name.split(operator)\n",
        "      if len(parts) == 2:\n",
        "        anchor_matrix.append([parts[0].strip(), operator, parts[1].strip()])\n",
        "        break\n",
        "anchor_matrix"
      ],
      "metadata": {
        "colab": {
          "base_uri": "https://localhost:8080/"
        },
        "id": "_IvzjWRjzQXl",
        "outputId": "28f74ffc-2c8b-4f28-b14e-7926736c5d95"
      },
      "execution_count": null,
      "outputs": [
        {
          "output_type": "stream",
          "name": "stdout",
          "text": [
            "Prediction:  0\n"
          ]
        },
        {
          "output_type": "execute_result",
          "data": {
            "text/plain": [
              "[['x2', '<=', '1.50']]"
            ]
          },
          "metadata": {},
          "execution_count": 19
        }
      ]
    },
    {
      "cell_type": "code",
      "source": [
        "anchor_expressions = []\n",
        "for row in anchor_matrix:\n",
        "  feature = Real(row[0])\n",
        "  if row[1] == '<=':\n",
        "    expression = feature <= float(row[2])\n",
        "  elif row[1] == '>=':\n",
        "    expression = feature >= float(row[2])\n",
        "  anchor_expressions.append(expression)\n",
        "print(anchor_expressions, len(anchor_expressions) == len(anchor_matrix))"
      ],
      "metadata": {
        "colab": {
          "base_uri": "https://localhost:8080/"
        },
        "id": "FSAQyCip0KmY",
        "outputId": "32ed1d77-62e4-4deb-a1fe-e722c5ebb9a6"
      },
      "execution_count": null,
      "outputs": [
        {
          "output_type": "stream",
          "name": "stdout",
          "text": [
            "[x2 <= 3/2] True\n"
          ]
        }
      ]
    },
    {
      "cell_type": "code",
      "source": [
        "explainer = Explainer(gb_iris, X_iris_train)"
      ],
      "metadata": {
        "id": "PVjok8gnGYqf"
      },
      "execution_count": null,
      "outputs": []
    },
    {
      "cell_type": "code",
      "source": [
        "instance_explanation = explainer.explain(X_iris_train[idx], 'asc')\n",
        "instance_explanation"
      ],
      "metadata": {
        "colab": {
          "base_uri": "https://localhost:8080/"
        },
        "id": "SVqGdTCqGbD5",
        "outputId": "dac0647d-fa84-4ad4-8b23-1501cb71627e"
      },
      "execution_count": null,
      "outputs": [
        {
          "output_type": "execute_result",
          "data": {
            "text/plain": [
              "[x2 == 21/5]"
            ]
          },
          "metadata": {},
          "execution_count": 22
        }
      ]
    },
    {
      "cell_type": "code",
      "source": [
        "print(anchor_expressions)"
      ],
      "metadata": {
        "colab": {
          "base_uri": "https://localhost:8080/"
        },
        "id": "baPwMZMVOjT-",
        "outputId": "fc865f67-a3f7-4dd7-d6fa-d72358f1eb1e"
      },
      "execution_count": null,
      "outputs": [
        {
          "output_type": "stream",
          "name": "stdout",
          "text": [
            "[x2 <= 3/2]\n"
          ]
        }
      ]
    },
    {
      "cell_type": "code",
      "source": [
        "importances = gb_iris.feature_importances_\n",
        "importance_dic = {feature: importance for feature, importance in zip(iris_features_x, importances)}\n",
        "importance_dic"
      ],
      "metadata": {
        "colab": {
          "base_uri": "https://localhost:8080/"
        },
        "id": "4jJqV8-mQe9r",
        "outputId": "501ce5e4-3303-4652-d38f-b33b6db35e32"
      },
      "execution_count": null,
      "outputs": [
        {
          "output_type": "execute_result",
          "data": {
            "text/plain": [
              "{'x0': 1.8779019967875804e-16,\n",
              " 'x1': 7.844071964451581e-17,\n",
              " 'x2': 0.4781893319649887,\n",
              " 'x3': 0.5218106680350111}"
            ]
          },
          "metadata": {},
          "execution_count": 24
        }
      ]
    },
    {
      "cell_type": "code",
      "source": [
        "x_values_dic = {feature: value for feature, value in zip(iris_features_x, X_iris_train[idx])}\n",
        "x_values_dic"
      ],
      "metadata": {
        "colab": {
          "base_uri": "https://localhost:8080/"
        },
        "id": "H_77Vo1Za5ZU",
        "outputId": "b98d7435-623d-4dcf-92ce-6c644bb70e01"
      },
      "execution_count": null,
      "outputs": [
        {
          "output_type": "execute_result",
          "data": {
            "text/plain": [
              "{'x0': 5.9, 'x1': 3.0, 'x2': 4.2, 'x3': 1.5}"
            ]
          },
          "metadata": {},
          "execution_count": 25
        }
      ]
    },
    {
      "cell_type": "code",
      "source": [
        "opt = Optimize()\n",
        "delta = Real('delta')\n",
        "\n",
        "# Adiciona a restrição delta > 0\n",
        "opt.add(delta >= 0)\n",
        "\n",
        "anchor_variables = []\n",
        "for formula in anchor_expressions:\n",
        "  anchor_variables.append(str(formula.arg(0)))"
      ],
      "metadata": {
        "id": "S8quClGWM__h"
      },
      "execution_count": null,
      "outputs": []
    },
    {
      "cell_type": "code",
      "source": [
        "instance = X_iris_train[idx]\n",
        "\n",
        "for var in iris_features_x:\n",
        "  if var not in anchor_variables and importance_dic[var] != 0:\n",
        "    print(f'{x_values_dic[var]} - {delta} <= {var}, {var} <= {x_values_dic[var]} + {delta}')"
      ],
      "metadata": {
        "id": "AFT_noivPB7D",
        "colab": {
          "base_uri": "https://localhost:8080/"
        },
        "outputId": "f4fda8ba-ccaa-438d-afb3-2eea960b30e8"
      },
      "execution_count": null,
      "outputs": [
        {
          "output_type": "stream",
          "name": "stdout",
          "text": [
            "5.9 - delta <= x0, x0 <= 5.9 + delta\n",
            "3.0 - delta <= x1, x1 <= 3.0 + delta\n",
            "1.5 - delta <= x3, x3 <= 1.5 + delta\n"
          ]
        }
      ]
    },
    {
      "cell_type": "code",
      "source": [
        "instance = X_iris_train[idx]\n",
        "formula = [Real(f'x{i}') == value for i, value in enumerate(instance)]\n",
        "print(formula)"
      ],
      "metadata": {
        "colab": {
          "base_uri": "https://localhost:8080/"
        },
        "id": "QzxTASCTaHHp",
        "outputId": "45330012-68d1-4467-9543-ed60093da280"
      },
      "execution_count": null,
      "outputs": [
        {
          "output_type": "stream",
          "name": "stdout",
          "text": [
            "[x0 == 59/10, x1 == 3, x2 == 21/5, x3 == 3/2]\n"
          ]
        }
      ]
    },
    {
      "cell_type": "code",
      "source": [
        "complete_anchor_explainer(anchor_expressions, 0, explainer, X_iris_train[idx], iris_features_x, x_values_dic)"
      ],
      "metadata": {
        "colab": {
          "base_uri": "https://localhost:8080/"
        },
        "id": "WD-NcUKtgQ4A",
        "outputId": "b8a52726-0616-44f1-cdb3-a64b73b819c0"
      },
      "execution_count": null,
      "outputs": [
        {
          "output_type": "stream",
          "name": "stdout",
          "text": [
            "o_54_0 = -1252922982135947/1250000000000000\n",
            "o_3_0 = 1512757987505581/1000000000000000\n",
            "o_8_0 = -1307641982365609/1000000000000000\n",
            "o_7_0 = 12909203961986737/10000000000000000\n",
            "o_27_0 = -10360244289932437/10000000000000000\n",
            "o_99_0 = -5000129570723073/5000000000000000\n",
            "o_2_0 = 8009188298210599/5000000000000000\n",
            "o_29_0 = -10292929521146237/10000000000000000\n",
            "o_70_0 = -1250588984747267/1250000000000000\n",
            "o_73_0 = 2000605388901477/2000000000000000\n",
            "o_89_0 = 5000305487229937/5000000000000000\n",
            "o_40_0 = 5041377987204111/5000000000000000\n",
            "o_58_0 = -5007830989488763/5000000000000000\n",
            "o_62_0 = 10009099244687583/10000000000000000\n",
            "o_9_0 = -2539865316345887/2000000000000000\n",
            "o_30_0 = -64151739421477/62500000000000\n",
            "o_53_0 = 1002241181198809/1000000000000000\n",
            "o_24_0 = -10492820571035313/10000000000000000\n",
            "o_75_0 = 5001239054835981/5000000000000000\n",
            "o_82_0 = 2500307607886103/2500000000000000\n",
            "delta = 0\n",
            "o_76_0 = 500112111539463/500000000000000\n",
            "o_36_0 = -5071621127513253/5000000000000000\n",
            "o_12_0 = -2965303410892421/2500000000000000\n",
            "o_20_0 = 5323767190778469/5000000000000000\n",
            "o_51_0 = -10031592068804709/10000000000000000\n",
            "o_50_0 = 10030277732750377/10000000000000000\n",
            "o_67_0 = 100055168951981/100000000000000\n",
            "o_16_0 = 10999606179891273/10000000000000000\n",
            "x1 = 3\n",
            "o_26_0 = 10344762204263551/10000000000000000\n",
            "o_72_0 = 2500836350738857/2500000000000000\n",
            "o_56_0 = -1001913655808061/1000000000000000\n",
            "o_44_0 = 1005531434558263/1000000000000000\n",
            "o_63_0 = -10009493322379857/10000000000000000\n",
            "o_47_0 = -2511801730495709/2500000000000000\n",
            "o_34_0 = 10151877715640483/10000000000000000\n",
            "o_64_0 = -10008589097881317/10000000000000000\n",
            "o_78_0 = 2000367140979367/2000000000000000\n",
            "o_81_0 = -10001567929998423/10000000000000000\n",
            "o_96_0 = -62502186298101/62500000000000\n",
            "o_19_0 = 2144162640578167/2000000000000000\n",
            "o_48_0 = 5018503690072963/5000000000000000\n",
            "o_31_0 = -2559624442467413/2500000000000000\n",
            "o_65_0 = -40031084278627/40000000000000\n",
            "o_32_0 = -5107643818652271/5000000000000000\n",
            "o_95_0 = -1000038659878731/1000000000000000\n",
            "o_37_0 = -10129425427447791/10000000000000000\n",
            "o_79_0 = -156279924123249/156250000000000\n",
            "o_84_0 = -10001161501510887/10000000000000000\n",
            "o_39_0 = -404228152816681/400000000000000\n",
            "o_55_0 = -1252644205219387/1250000000000000\n",
            "o_52_0 = 1253096877510817/1250000000000000\n",
            "o_91_0 = 10000500217750383/10000000000000000\n",
            "o_33_0 = 10168133284931473/10000000000000000\n",
            "o_87_0 = -10000860434263241/10000000000000000\n",
            "o_66_0 = 5003048741956867/5000000000000000\n",
            "o_4_0 = -7740466166626049/5000000000000000\n",
            "o_60_0 = 1251389524498773/1250000000000000\n",
            "o_28_0 = -2581197591097707/2500000000000000\n",
            "o_0_0 = 186046511627907/100000000000000\n",
            "o_18_0 = 10803044774052013/10000000000000000\n",
            "o_92_0 = 2500113153369249/2500000000000000\n",
            "o_23_0 = 10471367696039777/10000000000000000\n",
            "o_59_0 = -156471395707013/156250000000000\n",
            "o_85_0 = -5000525478910597/5000000000000000\n",
            "o_94_0 = -50002136297811/50000000000000\n",
            "o_6_0 = -7026621718929349/5000000000000000\n",
            "o_43_0 = 1006116921137303/1000000000000000\n",
            "o_98_0 = 5000124197107473/5000000000000000\n",
            "o_21_0 = 5291065802406739/5000000000000000\n",
            "o_45_0 = 2512505703048027/2500000000000000\n",
            "o_69_0 = -10005207701705463/10000000000000000\n",
            "o_88_0 = 5000337617876457/5000000000000000\n",
            "o_22_0 = -10608934628525573/10000000000000000\n",
            "o_38_0 = -5058478749428771/5000000000000000\n",
            "o_46_0 = 5022619938153653/5000000000000000\n",
            "o_5_0 = -14694848749730411/10000000000000000\n",
            "x3 = 3/2\n",
            "o_49_0 = 10033473272425881/10000000000000000\n",
            "o_61_0 = -10011597731861743/10000000000000000\n",
            "o_35_0 = -5079279191447057/5000000000000000\n",
            "o_25_0 = -2610932575374073/2500000000000000\n",
            "o_10_0 = -6188701911841751/5000000000000000\n",
            "o_17_0 = 435819394575699/400000000000000\n",
            "o_68_0 = -125071946646873/125000000000000\n",
            "o_15_0 = 2223429277621023/2000000000000000\n",
            "o_83_0 = -10001283674169223/10000000000000000\n",
            "o_90_0 = 10000552829163483/10000000000000000\n",
            "x2 = 1\n",
            "o_11_0 = 5884767367619007/5000000000000000\n",
            "o_57_0 = -5008656080267543/5000000000000000\n",
            "o_77_0 = -50011696331297/50000000000000\n",
            "o_86_0 = -10000950935967403/10000000000000000\n",
            "o_93_0 = 200008190795239/200000000000000\n",
            "o_42_0 = -5039041207480831/5000000000000000\n",
            "o_71_0 = 250092434468963/250000000000000\n",
            "o_74_0 = -2500789487689019/2500000000000000\n",
            "o_14_0 = 1406271206344907/1250000000000000\n",
            "o_41_0 = 10074818759590047/10000000000000000\n",
            "o_80_0 = 19534185342777/19531250000000\n",
            "o_97_0 = 100002745188241/100000000000000\n",
            "o_13_0 = -5826520510852107/5000000000000000\n",
            "o_1_0 = -19361926386408657/10000000000000000\n",
            "x0 = 59/10\n",
            "delta == 0\n"
          ]
        }
      ]
    },
    {
      "cell_type": "code",
      "source": [
        "complete_anchor_explainer_d(anchor_expressions, 0, explainer, X_iris_train[idx], iris_features_x, x_values_dic)"
      ],
      "metadata": {
        "colab": {
          "base_uri": "https://localhost:8080/"
        },
        "id": "x65Mk6L127TV",
        "outputId": "dc46f86f-a760-48a0-8c49-31b611d506d2"
      },
      "execution_count": null,
      "outputs": [
        {
          "output_type": "stream",
          "name": "stdout",
          "text": [
            "o_54_0 = -1252922982135947/1250000000000000\n",
            "o_3_0 = -16461698474866577/10000000000000000\n",
            "o_8_0 = -1307641982365609/1000000000000000\n",
            "o_7_0 = -13521844912185201/10000000000000000\n",
            "o_27_0 = -10360244289932437/10000000000000000\n",
            "o_99_0 = -5000129570723073/5000000000000000\n",
            "o_2_0 = -17713961092047843/10000000000000000\n",
            "o_29_0 = -10292929521146237/10000000000000000\n",
            "o_70_0 = -1250588984747267/1250000000000000\n",
            "o_73_0 = -2000698039429793/2000000000000000\n",
            "o_89_0 = -500035222622319/500000000000000\n",
            "o_40_0 = -504777186258963/500000000000000\n",
            "o_58_0 = -5007830989488763/5000000000000000\n",
            "o_62_0 = -10010492844750287/10000000000000000\n",
            "o_9_0 = -2539865316345887/2000000000000000\n",
            "o_30_0 = -64151739421477/62500000000000\n",
            "o_53_0 = -250646246002109/250000000000000\n",
            "o_24_0 = -10492820571035313/10000000000000000\n",
            "o_75_0 = -5001428670886773/5000000000000000\n",
            "o_82_0 = -5000709349743523/5000000000000000\n",
            "o_76_0 = -2000517071175861/2000000000000000\n",
            "o_36_0 = -5071621127513253/5000000000000000\n",
            "o_12_0 = -2965303410892421/2500000000000000\n",
            "o_20_0 = -5377240938991087/5000000000000000\n",
            "o_51_0 = -10031592068804709/10000000000000000\n",
            "o_50_0 = -10034926832390931/10000000000000000\n",
            "o_67_0 = -125079518400157/125000000000000\n",
            "o_16_0 = -11171466581605987/10000000000000000\n",
            "x1 = 3\n",
            "o_26_0 = -5199863066635697/5000000000000000\n",
            "o_72_0 = -5001928706590443/5000000000000000\n",
            "o_56_0 = -1001913655808061/1000000000000000\n",
            "o_44_0 = -1006383349670813/1000000000000000\n",
            "o_63_0 = -10009493322379857/10000000000000000\n",
            "o_47_0 = -2511801730495709/2500000000000000\n",
            "o_34_0 = -81404335945579/80000000000000\n",
            "o_64_0 = -10008589097881317/10000000000000000\n",
            "o_78_0 = -500105830306431/500000000000000\n",
            "delta1 = 0\n",
            "o_81_0 = -10001567929998423/10000000000000000\n",
            "o_96_0 = -62502186298101/62500000000000\n",
            "o_19_0 = -10840872450046377/10000000000000000\n",
            "o_48_0 = -2008538885983239/2000000000000000\n",
            "o_31_0 = -2559624442467413/2500000000000000\n",
            "o_65_0 = -40031084278627/40000000000000\n",
            "o_32_0 = -5107643818652271/5000000000000000\n",
            "o_95_0 = -1000038659878731/1000000000000000\n",
            "o_37_0 = -10129425427447791/10000000000000000\n",
            "o_79_0 = -156279924123249/156250000000000\n",
            "o_84_0 = -10001161501510887/10000000000000000\n",
            "o_39_0 = -404228152816681/400000000000000\n",
            "o_55_0 = -1252644205219387/1250000000000000\n",
            "o_52_0 = -10028576656584451/10000000000000000\n",
            "o_91_0 = -10000576749142707/10000000000000000\n",
            "o_33_0 = -1019438138000303/1000000000000000\n",
            "o_87_0 = -10000860434263241/10000000000000000\n",
            "o_66_0 = -10007031008197809/10000000000000000\n",
            "o_4_0 = -7740466166626049/5000000000000000\n",
            "o_60_0 = -62580119494763/62500000000000\n",
            "o_28_0 = -2581197591097707/2500000000000000\n",
            "o_0_0 = -5405405405405409/2500000000000000\n",
            "o_18_0 = -1367258289634169/1250000000000000\n",
            "o_92_0 = -5000260930597651/5000000000000000\n",
            "o_23_0 = -1054764188200913/1000000000000000\n",
            "o_59_0 = -156471395707013/156250000000000\n",
            "o_85_0 = -5000525478910597/5000000000000000\n",
            "o_94_0 = -50002136297811/50000000000000\n",
            "o_6_0 = -7026621718929349/5000000000000000\n",
            "o_43_0 = -5035298372788777/5000000000000000\n",
            "o_98_0 = -156254474943909/156250000000000\n",
            "o_21_0 = -1067755209349177/1000000000000000\n",
            "o_45_0 = -10057722078561921/10000000000000000\n",
            "o_69_0 = -10005207701705463/10000000000000000\n",
            "o_88_0 = -10000778546418239/10000000000000000\n",
            "o_22_0 = -10608934628525573/10000000000000000\n",
            "o_38_0 = -5058478749428771/5000000000000000\n",
            "o_46_0 = -5026099478754391/5000000000000000\n",
            "x3 = 3/4\n",
            "o_5_0 = -14694848749730411/10000000000000000\n",
            "o_49_0 = -5019307513872011/5000000000000000\n",
            "o_61_0 = -10011597731861743/10000000000000000\n",
            "o_35_0 = -5079279191447057/5000000000000000\n",
            "o_25_0 = -2610932575374073/2500000000000000\n",
            "o_10_0 = -6188701911841751/5000000000000000\n",
            "o_17_0 = -11047641855529173/10000000000000000\n",
            "o_68_0 = -125071946646873/125000000000000\n",
            "o_15_0 = -1131176572278757/1000000000000000\n",
            "o_83_0 = -10001283674169223/10000000000000000\n",
            "o_90_0 = -10000637410442457/10000000000000000\n",
            "x2 = 1\n",
            "delta3 = 3/4\n",
            "o_11_0 = -6050312609417099/5000000000000000\n",
            "o_57_0 = -5008656080267543/5000000000000000\n",
            "o_77_0 = -50011696331297/50000000000000\n",
            "o_86_0 = -10000950935967403/10000000000000000\n",
            "o_93_0 = -2500118049268077/2500000000000000\n",
            "o_42_0 = -5039041207480831/5000000000000000\n",
            "o_71_0 = -5002131641309213/5000000000000000\n",
            "o_74_0 = -2500789487689019/2500000000000000\n",
            "o_14_0 = -1147121152031191/1000000000000000\n",
            "delta0 = 0\n",
            "o_41_0 = -10086368978027769/10000000000000000\n",
            "o_80_0 = -250043321516591/250000000000000\n",
            "o_97_0 = -2500079129496351/2500000000000000\n",
            "o_13_0 = -5826520510852107/5000000000000000\n",
            "x0 = 59/10\n",
            "o_1_0 = -19361926386408657/10000000000000000\n",
            "\n",
            "delta: 3/4\n"
          ]
        }
      ]
    },
    {
      "cell_type": "code",
      "source": [
        "print(explainer.T_model)"
      ],
      "metadata": {
        "colab": {
          "base_uri": "https://localhost:8080/"
        },
        "id": "9ORjbJDWhPhI",
        "outputId": "48702fe6-695b-4c95-a391-7c747bad772b"
      },
      "execution_count": null,
      "outputs": [
        {
          "output_type": "stream",
          "name": "stdout",
          "text": [
            "And(And(Implies(And(x3 <= 3/4),\n",
            "                o_0_0 == -5405405405405409/2500000000000000),\n",
            "        Implies(And(x3 > 3/4,\n",
            "                    x0 <= 2540000057220459/400000000000000),\n",
            "                o_0_0 == 186046511627907/100000000000000),\n",
            "        Implies(And(x3 > 3/4,\n",
            "                    x0 > 2540000057220459/400000000000000,\n",
            "                    x2 <= 9/2),\n",
            "                o_0_0 == 186046511627907/100000000000000),\n",
            "        Implies(And(x3 > 3/4,\n",
            "                    x0 > 2540000057220459/400000000000000,\n",
            "                    x2 > 9/2),\n",
            "                o_0_0 == 18604651162790697/10000000000000000)),\n",
            "    And(Implies(And(x2 <= 2449999988079071/1000000000000000),\n",
            "                o_1_0 ==\n",
            "                -19361926386408657/10000000000000000),\n",
            "        Implies(And(x2 > 2449999988079071/1000000000000000),\n",
            "                o_1_0 == 4285970593292383/2500000000000000)),\n",
            "    And(Implies(And(x3 <= 3/4),\n",
            "                o_2_0 ==\n",
            "                -17713961092047843/10000000000000000),\n",
            "        Implies(And(x3 > 3/4,\n",
            "                    x0 <= 2340000057220459/400000000000000),\n",
            "                o_2_0 == 16018376596421207/10000000000000000),\n",
            "        Implies(And(x3 > 3/4,\n",
            "                    x0 > 2340000057220459/400000000000000,\n",
            "                    x1 <= 737500011920929/250000000000000),\n",
            "                o_2_0 == 8009188298210599/5000000000000000),\n",
            "        Implies(And(x3 > 3/4,\n",
            "                    x0 > 2340000057220459/400000000000000,\n",
            "                    x1 > 737500011920929/250000000000000),\n",
            "                o_2_0 == 8009188298210599/5000000000000000)),\n",
            "    And(Implies(And(x3 <= 3/4),\n",
            "                o_3_0 ==\n",
            "                -16461698474866577/10000000000000000),\n",
            "        Implies(And(x3 > 3/4),\n",
            "                o_3_0 == 1512757987505581/1000000000000000)),\n",
            "    And(Implies(And(x2 <= 2449999988079071/1000000000000000),\n",
            "                o_4_0 == -7740466166626049/5000000000000000),\n",
            "        Implies(And(x2 > 2449999988079071/1000000000000000),\n",
            "                o_4_0 == 1440772194340121/1000000000000000)),\n",
            "    And(Implies(And(x2 <= 2449999988079071/1000000000000000),\n",
            "                o_5_0 ==\n",
            "                -14694848749730411/10000000000000000),\n",
            "        Implies(And(x2 > 2449999988079071/1000000000000000),\n",
            "                o_5_0 == 1381629772391427/1000000000000000)),\n",
            "    And(Implies(And(x2 <= 2449999988079071/1000000000000000),\n",
            "                o_6_0 == -7026621718929349/5000000000000000),\n",
            "        Implies(And(x2 > 2449999988079071/1000000000000000),\n",
            "                o_6_0 == 1332383020179903/1000000000000000)),\n",
            "    And(Implies(And(x3 <= 3/4),\n",
            "                o_7_0 ==\n",
            "                -13521844912185201/10000000000000000),\n",
            "        Implies(And(x3 > 3/4),\n",
            "                o_7_0 == 12909203961986737/10000000000000000)),\n",
            "    And(Implies(And(x2 <= 2449999988079071/1000000000000000),\n",
            "                o_8_0 == -1307641982365609/1000000000000000),\n",
            "        Implies(And(x2 > 2449999988079071/1000000000000000),\n",
            "                o_8_0 == 62784395990143/50000000000000)),\n",
            "    And(Implies(And(x2 <= 2449999988079071/1000000000000000),\n",
            "                o_9_0 == -2539865316345887/2000000000000000),\n",
            "        Implies(And(x2 > 2449999988079071/1000000000000000),\n",
            "                o_9_0 == 1225515489365751/1000000000000000)),\n",
            "    And(Implies(And(x2 <= 2449999988079071/1000000000000000),\n",
            "                o_10_0 == -6188701911841751/5000000000000000),\n",
            "        Implies(And(x2 > 2449999988079071/1000000000000000),\n",
            "                o_10_0 == 599752300291511/500000000000000)),\n",
            "    And(Implies(And(x3 <= 3/4),\n",
            "                o_11_0 == -6050312609417099/5000000000000000),\n",
            "        Implies(And(x3 > 3/4),\n",
            "                o_11_0 == 5884767367619007/5000000000000000)),\n",
            "    And(Implies(And(x2 <= 2449999988079071/1000000000000000),\n",
            "                o_12_0 == -2965303410892421/2500000000000000),\n",
            "        Implies(And(x2 > 2449999988079071/1000000000000000),\n",
            "                o_12_0 == 289326442434249/250000000000000)),\n",
            "    And(Implies(And(x2 <= 2449999988079071/1000000000000000),\n",
            "                o_13_0 == -5826520510852107/5000000000000000),\n",
            "        Implies(And(x2 > 2449999988079071/1000000000000000),\n",
            "                o_13_0 ==\n",
            "                11401146354567289/10000000000000000)),\n",
            "    And(Implies(And(x3 <= 3/4),\n",
            "                o_14_0 == -1147121152031191/1000000000000000),\n",
            "        Implies(And(x3 > 3/4),\n",
            "                o_14_0 == 1406271206344907/1250000000000000)),\n",
            "    And(Implies(And(x3 <= 3/4),\n",
            "                o_15_0 == -1131176572278757/1000000000000000),\n",
            "        Implies(And(x3 > 3/4),\n",
            "                o_15_0 == 2223429277621023/2000000000000000)),\n",
            "    And(Implies(And(x3 <= 3/4),\n",
            "                o_16_0 ==\n",
            "                -11171466581605987/10000000000000000),\n",
            "        Implies(And(x3 > 3/4),\n",
            "                o_16_0 ==\n",
            "                10999606179891273/10000000000000000)),\n",
            "    And(Implies(And(x3 <= 3/4),\n",
            "                o_17_0 ==\n",
            "                -11047641855529173/10000000000000000),\n",
            "        Implies(And(x3 > 3/4),\n",
            "                o_17_0 == 435819394575699/400000000000000)),\n",
            "    And(Implies(And(x3 <= 3/4),\n",
            "                o_18_0 == -1367258289634169/1250000000000000),\n",
            "        Implies(And(x3 > 3/4),\n",
            "                o_18_0 ==\n",
            "                10803044774052013/10000000000000000)),\n",
            "    And(Implies(And(x3 <= 3/4),\n",
            "                o_19_0 ==\n",
            "                -10840872450046377/10000000000000000),\n",
            "        Implies(And(x3 > 3/4),\n",
            "                o_19_0 == 2144162640578167/2000000000000000)),\n",
            "    And(Implies(And(x3 <= 3/4),\n",
            "                o_20_0 == -5377240938991087/5000000000000000),\n",
            "        Implies(And(x3 > 3/4),\n",
            "                o_20_0 == 5323767190778469/5000000000000000)),\n",
            "    And(Implies(And(x3 <= 3/4),\n",
            "                o_21_0 == -1067755209349177/1000000000000000),\n",
            "        Implies(And(x3 > 3/4),\n",
            "                o_21_0 == 5291065802406739/5000000000000000)),\n",
            "    And(Implies(And(x2 <= 2449999988079071/1000000000000000),\n",
            "                o_22_0 ==\n",
            "                -10608934628525573/10000000000000000),\n",
            "        Implies(And(x2 > 2449999988079071/1000000000000000),\n",
            "                o_22_0 == 5261838539061793/5000000000000000)),\n",
            "    And(Implies(And(x3 <= 3/4),\n",
            "                o_23_0 == -1054764188200913/1000000000000000),\n",
            "        Implies(And(x3 > 3/4),\n",
            "                o_23_0 ==\n",
            "                10471367696039777/10000000000000000)),\n",
            "    And(Implies(And(x2 <= 2449999988079071/1000000000000000),\n",
            "                o_24_0 ==\n",
            "                -10492820571035313/10000000000000000),\n",
            "        Implies(And(x2 > 2449999988079071/1000000000000000),\n",
            "                o_24_0 ==\n",
            "                10424505424183959/10000000000000000)),\n",
            "    And(Implies(And(x2 <= 2449999988079071/1000000000000000),\n",
            "                o_25_0 == -2610932575374073/2500000000000000),\n",
            "        Implies(And(x2 > 2449999988079071/1000000000000000),\n",
            "                o_25_0 == 324452540219377/312500000000000)),\n",
            "    And(Implies(And(x3 <= 3/4),\n",
            "                o_26_0 == -5199863066635697/5000000000000000),\n",
            "        Implies(And(x3 > 3/4),\n",
            "                o_26_0 ==\n",
            "                10344762204263551/10000000000000000)),\n",
            "    And(Implies(And(x2 <= 2449999988079071/1000000000000000),\n",
            "                o_27_0 ==\n",
            "                -10360244289932437/10000000000000000),\n",
            "        Implies(And(x2 > 2449999988079071/1000000000000000),\n",
            "                o_27_0 == 2062176019194013/2000000000000000)),\n",
            "    And(Implies(And(x2 <= 2449999988079071/1000000000000000),\n",
            "                o_28_0 == -2581197591097707/2500000000000000),\n",
            "        Implies(And(x2 > 2449999988079071/1000000000000000),\n",
            "                o_28_0 == 514021140408131/500000000000000)),\n",
            "    And(Implies(And(x2 <= 2449999988079071/1000000000000000),\n",
            "                o_29_0 ==\n",
            "                -10292929521146237/10000000000000000),\n",
            "        Implies(And(x2 > 2449999988079071/1000000000000000),\n",
            "                o_29_0 == 5126513254929831/5000000000000000)),\n",
            "    And(Implies(And(x2 <= 2449999988079071/1000000000000000),\n",
            "                o_30_0 == -64151739421477/62500000000000),\n",
            "        Implies(And(x2 > 2449999988079071/1000000000000000),\n",
            "                o_30_0 == 511418464369199/500000000000000)),\n",
            "    And(Implies(And(x2 <= 2449999988079071/1000000000000000),\n",
            "                o_31_0 == -2559624442467413/2500000000000000),\n",
            "        Implies(And(x2 > 2449999988079071/1000000000000000),\n",
            "                o_31_0 ==\n",
            "                10206165719158913/10000000000000000)),\n",
            "    And(Implies(And(x2 <= 2449999988079071/1000000000000000),\n",
            "                o_32_0 == -5107643818652271/5000000000000000),\n",
            "        Implies(And(x2 > 2449999988079071/1000000000000000),\n",
            "                o_32_0 ==\n",
            "                10186162258345661/10000000000000000)),\n",
            "    And(Implies(And(x3 <= 3/4),\n",
            "                o_33_0 == -1019438138000303/1000000000000000),\n",
            "        Implies(And(x3 > 3/4),\n",
            "                o_33_0 ==\n",
            "                10168133284931473/10000000000000000)),\n",
            "    And(Implies(And(x3 <= 3/4),\n",
            "                o_34_0 == -81404335945579/80000000000000),\n",
            "        Implies(And(x3 > 3/4),\n",
            "                o_34_0 ==\n",
            "                10151877715640483/10000000000000000)),\n",
            "    And(Implies(And(x2 <= 2449999988079071/1000000000000000),\n",
            "                o_35_0 == -5079279191447057/5000000000000000),\n",
            "        Implies(And(x2 > 2449999988079071/1000000000000000),\n",
            "                o_35_0 == 1013721608109071/1000000000000000)),\n",
            "    And(Implies(And(x2 <= 2449999988079071/1000000000000000),\n",
            "                o_36_0 == -5071621127513253/5000000000000000),\n",
            "        Implies(And(x2 > 2449999988079071/1000000000000000),\n",
            "                o_36_0 == 506199399814017/500000000000000)),\n",
            "    And(Implies(And(x2 <= 2449999988079071/1000000000000000),\n",
            "                o_37_0 ==\n",
            "                -10129425427447791/10000000000000000),\n",
            "        Implies(And(x2 > 2449999988079071/1000000000000000),\n",
            "                o_37_0 == 1264006245469243/1250000000000000)),\n",
            "    And(Implies(And(x2 <= 2449999988079071/1000000000000000),\n",
            "                o_38_0 == -5058478749428771/5000000000000000),\n",
            "        Implies(And(x2 > 2449999988079071/1000000000000000),\n",
            "                o_38_0 == 2525318364855093/2500000000000000)),\n",
            "    And(Implies(And(x2 <= 2449999988079071/1000000000000000),\n",
            "                o_39_0 == -404228152816681/400000000000000),\n",
            "        Implies(And(x2 > 2449999988079071/1000000000000000),\n",
            "...\n"
          ]
        }
      ]
    },
    {
      "cell_type": "code",
      "source": [
        "expcomp = ExplainerCompleter(gb_iris, anchor_explainer, X_iris, 0)"
      ],
      "metadata": {
        "id": "V0MmM99Iexcu"
      },
      "execution_count": null,
      "outputs": []
    },
    {
      "cell_type": "code",
      "source": [
        "X_iris_train[3]"
      ],
      "metadata": {
        "colab": {
          "base_uri": "https://localhost:8080/"
        },
        "id": "J83N1L15722n",
        "outputId": "e986b035-9400-4768-9afe-e25d5abebaf8"
      },
      "execution_count": null,
      "outputs": [
        {
          "output_type": "execute_result",
          "data": {
            "text/plain": [
              "array([4.9, 2.4, 3.3, 1. ])"
            ]
          },
          "metadata": {},
          "execution_count": 33
        }
      ]
    },
    {
      "cell_type": "code",
      "source": [
        "gb_iris.predict([[4.9, 2.4, 3.3, 0.]])"
      ],
      "metadata": {
        "colab": {
          "base_uri": "https://localhost:8080/"
        },
        "id": "sDVSgzbS8EjP",
        "outputId": "ed7da97c-a4c3-4606-e0b1-e8416263cc77"
      },
      "execution_count": null,
      "outputs": [
        {
          "output_type": "execute_result",
          "data": {
            "text/plain": [
              "array([1])"
            ]
          },
          "metadata": {},
          "execution_count": 34
        }
      ]
    },
    {
      "cell_type": "code",
      "source": [
        "expcomp.explain_instance(X_iris_train[3], verbose=True)"
      ],
      "metadata": {
        "colab": {
          "base_uri": "https://localhost:8080/"
        },
        "id": "Rk2K7vfV2Opa",
        "outputId": "540d5e95-9bdd-4002-aa6a-8246f0d5da18"
      },
      "execution_count": null,
      "outputs": [
        {
          "output_type": "stream",
          "name": "stdout",
          "text": [
            "o_54_0 = -1252922982135947/1250000000000000\n",
            "o_3_0 = 1512757987505581/1000000000000000\n",
            "o_8_0 = -1307641982365609/1000000000000000\n",
            "o_7_0 = 12909203961986737/10000000000000000\n",
            "o_27_0 = -10360244289932437/10000000000000000\n",
            "o_99_0 = -5000129570723073/5000000000000000\n",
            "o_2_0 = 16018376596421207/10000000000000000\n",
            "o_29_0 = -10292929521146237/10000000000000000\n",
            "o_70_0 = -1250588984747267/1250000000000000\n",
            "o_73_0 = 2000605388901477/2000000000000000\n",
            "o_89_0 = 5000305487229937/5000000000000000\n",
            "o_40_0 = 5041377987204111/5000000000000000\n",
            "o_58_0 = -5007830989488763/5000000000000000\n",
            "o_62_0 = 10009099244687583/10000000000000000\n",
            "o_9_0 = -2539865316345887/2000000000000000\n",
            "o_30_0 = -64151739421477/62500000000000\n",
            "o_53_0 = 1002241181198809/1000000000000000\n",
            "o_24_0 = -10492820571035313/10000000000000000\n",
            "o_75_0 = 5001239054835981/5000000000000000\n",
            "o_82_0 = 2500307607886103/2500000000000000\n",
            "delta = 0\n",
            "o_76_0 = 500112111539463/500000000000000\n",
            "o_36_0 = -5071621127513253/5000000000000000\n",
            "o_12_0 = -2965303410892421/2500000000000000\n",
            "o_20_0 = 5323767190778469/5000000000000000\n",
            "o_51_0 = -10031592068804709/10000000000000000\n",
            "o_50_0 = 10030277732750377/10000000000000000\n",
            "o_67_0 = 100055168951981/100000000000000\n",
            "o_16_0 = 10999606179891273/10000000000000000\n",
            "x1 = 2\n",
            "o_26_0 = 10344762204263551/10000000000000000\n",
            "o_72_0 = 2500836350738857/2500000000000000\n",
            "o_56_0 = -1001913655808061/1000000000000000\n",
            "o_44_0 = 1005531434558263/1000000000000000\n",
            "o_63_0 = -10009493322379857/10000000000000000\n",
            "o_47_0 = -2511801730495709/2500000000000000\n",
            "o_34_0 = 10151877715640483/10000000000000000\n",
            "o_64_0 = -10008589097881317/10000000000000000\n",
            "o_78_0 = 2000367140979367/2000000000000000\n",
            "o_81_0 = -10001567929998423/10000000000000000\n",
            "o_96_0 = -62502186298101/62500000000000\n",
            "o_19_0 = 2144162640578167/2000000000000000\n",
            "o_48_0 = 5018503690072963/5000000000000000\n",
            "o_31_0 = -2559624442467413/2500000000000000\n",
            "o_65_0 = -40031084278627/40000000000000\n",
            "o_32_0 = -5107643818652271/5000000000000000\n",
            "o_95_0 = -1000038659878731/1000000000000000\n",
            "o_37_0 = -10129425427447791/10000000000000000\n",
            "o_79_0 = -156279924123249/156250000000000\n",
            "o_84_0 = -10001161501510887/10000000000000000\n",
            "o_39_0 = -404228152816681/400000000000000\n",
            "o_55_0 = -1252644205219387/1250000000000000\n",
            "o_52_0 = 1253096877510817/1250000000000000\n",
            "o_91_0 = 10000500217750383/10000000000000000\n",
            "o_33_0 = 10168133284931473/10000000000000000\n",
            "o_87_0 = -10000860434263241/10000000000000000\n",
            "o_66_0 = 5003048741956867/5000000000000000\n",
            "o_4_0 = -7740466166626049/5000000000000000\n",
            "o_60_0 = 1251389524498773/1250000000000000\n",
            "o_28_0 = -2581197591097707/2500000000000000\n",
            "o_0_0 = 186046511627907/100000000000000\n",
            "o_18_0 = 10803044774052013/10000000000000000\n",
            "o_92_0 = 2500113153369249/2500000000000000\n",
            "o_23_0 = 10471367696039777/10000000000000000\n",
            "o_59_0 = -156471395707013/156250000000000\n",
            "o_85_0 = -5000525478910597/5000000000000000\n",
            "o_94_0 = -50002136297811/50000000000000\n",
            "o_6_0 = -7026621718929349/5000000000000000\n",
            "o_43_0 = 1006116921137303/1000000000000000\n",
            "o_98_0 = 5000124197107473/5000000000000000\n",
            "o_21_0 = 5291065802406739/5000000000000000\n",
            "o_45_0 = 2512505703048027/2500000000000000\n",
            "o_69_0 = -10005207701705463/10000000000000000\n",
            "o_88_0 = 5000337617876457/5000000000000000\n",
            "o_22_0 = -10608934628525573/10000000000000000\n",
            "o_38_0 = -5058478749428771/5000000000000000\n",
            "o_46_0 = 5022619938153653/5000000000000000\n",
            "o_5_0 = -14694848749730411/10000000000000000\n",
            "x3 = 1\n",
            "o_49_0 = 10033473272425881/10000000000000000\n",
            "o_61_0 = -10011597731861743/10000000000000000\n",
            "o_35_0 = -5079279191447057/5000000000000000\n",
            "o_25_0 = -2610932575374073/2500000000000000\n",
            "o_10_0 = -6188701911841751/5000000000000000\n",
            "o_17_0 = 435819394575699/400000000000000\n",
            "o_68_0 = -125071946646873/125000000000000\n",
            "o_15_0 = 2223429277621023/2000000000000000\n",
            "o_83_0 = -10001283674169223/10000000000000000\n",
            "o_90_0 = 10000552829163483/10000000000000000\n",
            "x2 = 7/4\n",
            "o_11_0 = 5884767367619007/5000000000000000\n",
            "o_57_0 = -5008656080267543/5000000000000000\n",
            "o_77_0 = -50011696331297/50000000000000\n",
            "o_86_0 = -10000950935967403/10000000000000000\n",
            "o_93_0 = 200008190795239/200000000000000\n",
            "o_42_0 = -5039041207480831/5000000000000000\n",
            "o_71_0 = 250092434468963/250000000000000\n",
            "o_74_0 = -2500789487689019/2500000000000000\n",
            "o_14_0 = 1406271206344907/1250000000000000\n",
            "o_41_0 = 10074818759590047/10000000000000000\n",
            "o_80_0 = 19534185342777/19531250000000\n",
            "o_97_0 = 100002745188241/100000000000000\n",
            "o_13_0 = -5826520510852107/5000000000000000\n",
            "o_1_0 = -19361926386408657/10000000000000000\n",
            "x0 = 49/10\n",
            "delta = 0\n"
          ]
        }
      ]
    },
    {
      "cell_type": "code",
      "source": [
        "expcomp.anchor_expressions"
      ],
      "metadata": {
        "colab": {
          "base_uri": "https://localhost:8080/"
        },
        "id": "Aa--OVlQ216S",
        "outputId": "35ca1f21-edc3-44ca-d327-badda4195479"
      },
      "execution_count": null,
      "outputs": [
        {
          "output_type": "execute_result",
          "data": {
            "text/plain": [
              "[x2 > 3/2, x1 <= 14/5]"
            ]
          },
          "metadata": {},
          "execution_count": 36
        }
      ]
    },
    {
      "cell_type": "code",
      "source": [
        "print(expcomp.D)"
      ],
      "metadata": {
        "colab": {
          "base_uri": "https://localhost:8080/"
        },
        "id": "E_Fo1Nen31y8",
        "outputId": "91db87b7-c9e0-42c8-fe0b-61d1d92a8ef4"
      },
      "execution_count": null,
      "outputs": [
        {
          "output_type": "stream",
          "name": "stdout",
          "text": [
            "And((o_0_0 +\n",
            "     o_1_0 +\n",
            "     o_2_0 +\n",
            "     o_3_0 +\n",
            "     o_4_0 +\n",
            "     o_5_0 +\n",
            "     o_6_0 +\n",
            "     o_7_0 +\n",
            "     o_8_0 +\n",
            "     o_9_0 +\n",
            "     o_10_0 +\n",
            "     o_11_0 +\n",
            "     o_12_0 +\n",
            "     o_13_0 +\n",
            "     o_14_0 +\n",
            "     o_15_0 +\n",
            "     o_16_0 +\n",
            "     o_17_0 +\n",
            "     o_18_0 +\n",
            "     o_19_0 +\n",
            "     o_20_0 +\n",
            "     o_21_0 +\n",
            "     o_22_0 +\n",
            "     o_23_0 +\n",
            "     o_24_0 +\n",
            "     o_25_0 +\n",
            "     o_26_0 +\n",
            "     o_27_0 +\n",
            "     o_28_0 +\n",
            "     o_29_0 +\n",
            "     o_30_0 +\n",
            "     o_31_0 +\n",
            "     o_32_0 +\n",
            "     o_33_0 +\n",
            "     o_34_0 +\n",
            "     o_35_0 +\n",
            "     o_36_0 +\n",
            "     o_37_0 +\n",
            "     o_38_0 +\n",
            "     o_39_0 +\n",
            "     o_40_0 +\n",
            "     o_41_0 +\n",
            "     o_42_0 +\n",
            "     o_43_0 +\n",
            "     o_44_0 +\n",
            "     o_45_0 +\n",
            "     o_46_0 +\n",
            "     o_47_0 +\n",
            "     o_48_0 +\n",
            "     o_49_0 +\n",
            "     o_50_0 +\n",
            "     o_51_0 +\n",
            "     o_52_0 +\n",
            "     o_53_0 +\n",
            "     o_54_0 +\n",
            "     o_55_0 +\n",
            "     o_56_0 +\n",
            "     o_57_0 +\n",
            "     o_58_0 +\n",
            "     o_59_0 +\n",
            "     o_60_0 +\n",
            "     o_61_0 +\n",
            "     o_62_0 +\n",
            "     o_63_0 +\n",
            "     o_64_0 +\n",
            "     o_65_0 +\n",
            "     o_66_0 +\n",
            "     o_67_0 +\n",
            "     o_68_0 +\n",
            "     o_69_0 +\n",
            "     o_70_0 +\n",
            "     o_71_0 +\n",
            "     o_72_0 +\n",
            "     o_73_0 +\n",
            "     o_74_0 +\n",
            "     o_75_0 +\n",
            "     o_76_0 +\n",
            "     o_77_0 +\n",
            "     o_78_0 +\n",
            "     o_79_0 +\n",
            "     o_80_0 +\n",
            "     o_81_0 +\n",
            "     o_82_0 +\n",
            "     o_83_0 +\n",
            "     o_84_0 +\n",
            "     o_85_0 +\n",
            "     o_86_0 +\n",
            "     o_87_0 +\n",
            "     o_88_0 +\n",
            "     o_89_0 +\n",
            "     o_90_0 +\n",
            "     o_91_0 +\n",
            "     o_92_0 +\n",
            "     o_93_0 +\n",
            "     o_94_0 +\n",
            "     o_95_0 +\n",
            "     o_96_0 +\n",
            "     o_97_0 +\n",
            "     o_98_0 +\n",
            "     o_99_0)*\n",
            "    1/10 +\n",
            "    7514110152466813/50000000000000000 >\n",
            "    0)\n"
          ]
        }
      ]
    },
    {
      "cell_type": "code",
      "source": [
        "print(expcomp.T)"
      ],
      "metadata": {
        "colab": {
          "base_uri": "https://localhost:8080/"
        },
        "id": "F8vz5ZFg2a-7",
        "outputId": "5ae723b8-f55f-4bb7-96c2-0653e6bb9ff8"
      },
      "execution_count": null,
      "outputs": [
        {
          "output_type": "stream",
          "name": "stdout",
          "text": [
            "And(And(And(Implies(And(x3 <= 3/4),\n",
            "                    o_0_0 ==\n",
            "                    -5405405405405409/2500000000000000),\n",
            "            Implies(And(x3 > 3/4,\n",
            "                        x0 <=\n",
            "                        2540000057220459/400000000000000),\n",
            "                    o_0_0 == 186046511627907/100000000000000),\n",
            "            Implies(And(x3 > 3/4,\n",
            "                        x0 >\n",
            "                        2540000057220459/400000000000000,\n",
            "                        x2 <= 9/2),\n",
            "                    o_0_0 == 186046511627907/100000000000000),\n",
            "            Implies(And(x3 > 3/4,\n",
            "                        x0 >\n",
            "                        2540000057220459/400000000000000,\n",
            "                        x2 > 9/2),\n",
            "                    o_0_0 ==\n",
            "                    18604651162790697/10000000000000000)),\n",
            "        And(Implies(And(x2 <=\n",
            "                        2449999988079071/1000000000000000),\n",
            "                    o_1_0 ==\n",
            "                    -19361926386408657/10000000000000000),\n",
            "            Implies(And(x2 >\n",
            "                        2449999988079071/1000000000000000),\n",
            "                    o_1_0 ==\n",
            "                    4285970593292383/2500000000000000)),\n",
            "        And(Implies(And(x3 <= 3/4),\n",
            "                    o_2_0 ==\n",
            "                    -17713961092047843/10000000000000000),\n",
            "            Implies(And(x3 > 3/4,\n",
            "                        x0 <=\n",
            "                        2340000057220459/400000000000000),\n",
            "                    o_2_0 ==\n",
            "                    16018376596421207/10000000000000000),\n",
            "            Implies(And(x3 > 3/4,\n",
            "                        x0 >\n",
            "                        2340000057220459/400000000000000,\n",
            "                        x1 <=\n",
            "                        737500011920929/250000000000000),\n",
            "                    o_2_0 ==\n",
            "                    8009188298210599/5000000000000000),\n",
            "            Implies(And(x3 > 3/4,\n",
            "                        x0 >\n",
            "                        2340000057220459/400000000000000,\n",
            "                        x1 > 737500011920929/250000000000000),\n",
            "                    o_2_0 ==\n",
            "                    8009188298210599/5000000000000000)),\n",
            "        And(Implies(And(x3 <= 3/4),\n",
            "                    o_3_0 ==\n",
            "                    -16461698474866577/10000000000000000),\n",
            "            Implies(And(x3 > 3/4),\n",
            "                    o_3_0 ==\n",
            "                    1512757987505581/1000000000000000)),\n",
            "        And(Implies(And(x2 <=\n",
            "                        2449999988079071/1000000000000000),\n",
            "                    o_4_0 ==\n",
            "                    -7740466166626049/5000000000000000),\n",
            "            Implies(And(x2 >\n",
            "                        2449999988079071/1000000000000000),\n",
            "                    o_4_0 ==\n",
            "                    1440772194340121/1000000000000000)),\n",
            "        And(Implies(And(x2 <=\n",
            "                        2449999988079071/1000000000000000),\n",
            "                    o_5_0 ==\n",
            "                    -14694848749730411/10000000000000000),\n",
            "            Implies(And(x2 >\n",
            "                        2449999988079071/1000000000000000),\n",
            "                    o_5_0 ==\n",
            "                    1381629772391427/1000000000000000)),\n",
            "        And(Implies(And(x2 <=\n",
            "                        2449999988079071/1000000000000000),\n",
            "                    o_6_0 ==\n",
            "                    -7026621718929349/5000000000000000),\n",
            "            Implies(And(x2 >\n",
            "                        2449999988079071/1000000000000000),\n",
            "                    o_6_0 ==\n",
            "                    1332383020179903/1000000000000000)),\n",
            "        And(Implies(And(x3 <= 3/4),\n",
            "                    o_7_0 ==\n",
            "                    -13521844912185201/10000000000000000),\n",
            "            Implies(And(x3 > 3/4),\n",
            "                    o_7_0 ==\n",
            "                    12909203961986737/10000000000000000)),\n",
            "        And(Implies(And(x2 <=\n",
            "                        2449999988079071/1000000000000000),\n",
            "                    o_8_0 ==\n",
            "                    -1307641982365609/1000000000000000),\n",
            "            Implies(And(x2 >\n",
            "                        2449999988079071/1000000000000000),\n",
            "                    o_8_0 == 62784395990143/50000000000000)),\n",
            "        And(Implies(And(x2 <=\n",
            "                        2449999988079071/1000000000000000),\n",
            "                    o_9_0 ==\n",
            "                    -2539865316345887/2000000000000000),\n",
            "            Implies(And(x2 >\n",
            "                        2449999988079071/1000000000000000),\n",
            "                    o_9_0 ==\n",
            "                    1225515489365751/1000000000000000)),\n",
            "        And(Implies(And(x2 <=\n",
            "                        2449999988079071/1000000000000000),\n",
            "                    o_10_0 ==\n",
            "                    -6188701911841751/5000000000000000),\n",
            "            Implies(And(x2 >\n",
            "                        2449999988079071/1000000000000000),\n",
            "                    o_10_0 ==\n",
            "                    599752300291511/500000000000000)),\n",
            "        And(Implies(And(x3 <= 3/4),\n",
            "                    o_11_0 ==\n",
            "                    -6050312609417099/5000000000000000),\n",
            "            Implies(And(x3 > 3/4),\n",
            "                    o_11_0 ==\n",
            "                    5884767367619007/5000000000000000)),\n",
            "        And(Implies(And(x2 <=\n",
            "                        2449999988079071/1000000000000000),\n",
            "                    o_12_0 ==\n",
            "                    -2965303410892421/2500000000000000),\n",
            "            Implies(And(x2 >\n",
            "                        2449999988079071/1000000000000000),\n",
            "                    o_12_0 ==\n",
            "                    289326442434249/250000000000000)),\n",
            "        And(Implies(And(x2 <=\n",
            "                        2449999988079071/1000000000000000),\n",
            "                    o_13_0 ==\n",
            "                    -5826520510852107/5000000000000000),\n",
            "            Implies(And(x2 >\n",
            "                        2449999988079071/1000000000000000),\n",
            "                    o_13_0 ==\n",
            "                    11401146354567289/10000000000000000)),\n",
            "        And(Implies(And(x3 <= 3/4),\n",
            "                    o_14_0 ==\n",
            "                    -1147121152031191/1000000000000000),\n",
            "            Implies(And(x3 > 3/4),\n",
            "                    o_14_0 ==\n",
            "                    1406271206344907/1250000000000000)),\n",
            "        And(Implies(And(x3 <= 3/4),\n",
            "                    o_15_0 ==\n",
            "                    -1131176572278757/1000000000000000),\n",
            "            Implies(And(x3 > 3/4),\n",
            "                    o_15_0 ==\n",
            "                    2223429277621023/2000000000000000)),\n",
            "        And(Implies(And(x3 <= 3/4),\n",
            "                    o_16_0 ==\n",
            "                    -11171466581605987/10000000000000000),\n",
            "            Implies(And(x3 > 3/4),\n",
            "                    o_16_0 ==\n",
            "                    10999606179891273/10000000000000000)),\n",
            "        And(Implies(And(x3 <= 3/4),\n",
            "                    o_17_0 ==\n",
            "                    -11047641855529173/10000000000000000),\n",
            "            Implies(And(x3 > 3/4),\n",
            "                    o_17_0 ==\n",
            "                    435819394575699/400000000000000)),\n",
            "        And(Implies(And(x3 <= 3/4),\n",
            "                    o_18_0 ==\n",
            "                    -1367258289634169/1250000000000000),\n",
            "            Implies(And(x3 > 3/4),\n",
            "                    o_18_0 ==\n",
            "                    10803044774052013/10000000000000000)),\n",
            "        And(Implies(And(x3 <= 3/4),\n",
            "                    o_19_0 ==\n",
            "                    -10840872450046377/10000000000000000),\n",
            "            Implies(And(x3 > 3/4),\n",
            "                    o_19_0 ==\n",
            "                    2144162640578167/2000000000000000)),\n",
            "        And(Implies(And(x3 <= 3/4),\n",
            "                    o_20_0 ==\n",
            "                    -5377240938991087/5000000000000000),\n",
            "            Implies(And(x3 > 3/4),\n",
            "                    o_20_0 ==\n",
            "                    5323767190778469/5000000000000000)),\n",
            "        And(Implies(And(x3 <= 3/4),\n",
            "                    o_21_0 ==\n",
            "                    -1067755209349177/1000000000000000),\n",
            "            Implies(And(x3 > 3/4),\n",
            "                    o_21_0 ==\n",
            "                    5291065802406739/5000000000000000)),\n",
            "        And(Implies(And(x2 <=\n",
            "                        2449999988079071/1000000000000000),\n",
            "                    o_22_0 ==\n",
            "                    -10608934628525573/10000000000000000),\n",
            "            Implies(And(x2 >\n",
            "                        2449999988079071/1000000000000000),\n",
            "                    o_22_0 ==\n",
            "                    5261838539061793/5000000000000000)),\n",
            "        And(Implies(And(x3 <= 3/4),\n",
            "                    o_23_0 ==\n",
            "                    -1054764188200913/1000000000000000),\n",
            "            Implies(And(x3 > 3/4),\n",
            "                    o_23_0 ==\n",
            "                    10471367696039777/10000000000000000)),\n",
            "        And(Implies(And(x2 <=\n",
            "                        2449999988079071/1000000000000000),\n",
            "                    o_24_0 ==\n",
            "                    -10492820571035313/10000000000000000),\n",
            "            Implies(And(x2 >\n",
            "                        2449999988079071/1000000000000000),\n",
            "                    o_24_0 ==\n",
            "                    10424505424183959/10000000000000000)),\n",
            "        And(Implies(And(x2 <=\n",
            "                        2449999988079071/1000000000000000),\n",
            "...\n"
          ]
        }
      ]
    },
    {
      "cell_type": "code",
      "source": [
        "expcomp = ExplainerCompleter(gb_iris, anchor_explainer, X_iris, 0)\n",
        "\n",
        "for i in range(len(X_iris_train)):\n",
        "  expcomp.explain_instance(X_iris_train[i])"
      ],
      "metadata": {
        "colab": {
          "base_uri": "https://localhost:8080/"
        },
        "id": "up4dqFgW0Ve7",
        "outputId": "b1268a38-0668-4a44-eb79-5822d7ea5312"
      },
      "execution_count": null,
      "outputs": [
        {
          "output_type": "stream",
          "name": "stdout",
          "text": [
            "problema inviavel / explicação correta\n",
            "problema inviavel / explicação correta\n",
            "problema inviavel / explicação correta\n",
            "delta = 0\n",
            "problema inviavel / explicação correta\n",
            "problema inviavel / explicação correta\n",
            "problema inviavel / explicação correta\n",
            "problema inviavel / explicação correta\n",
            "problema inviavel / explicação correta\n",
            "problema inviavel / explicação correta\n",
            "problema inviavel / explicação correta\n",
            "problema inviavel / explicação correta\n",
            "delta = 0\n",
            "delta = 0\n",
            "problema inviavel / explicação correta\n",
            "problema inviavel / explicação correta\n",
            "problema inviavel / explicação correta\n",
            "delta = 0\n",
            "problema inviavel / explicação correta\n",
            "delta = 0\n",
            "problema inviavel / explicação correta\n",
            "problema inviavel / explicação correta\n",
            "problema inviavel / explicação correta\n",
            "delta = 0\n",
            "problema inviavel / explicação correta\n",
            "problema inviavel / explicação correta\n",
            "problema inviavel / explicação correta\n",
            "delta = 0\n",
            "problema inviavel / explicação correta\n",
            "problema inviavel / explicação correta\n",
            "problema inviavel / explicação correta\n",
            "delta = 0\n",
            "problema inviavel / explicação correta\n",
            "problema inviavel / explicação correta\n",
            "problema inviavel / explicação correta\n",
            "problema inviavel / explicação correta\n",
            "problema inviavel / explicação correta\n",
            "delta = 0\n",
            "problema inviavel / explicação correta\n",
            "problema inviavel / explicação correta\n",
            "delta = 0\n",
            "problema inviavel / explicação correta\n",
            "problema inviavel / explicação correta\n",
            "problema inviavel / explicação correta\n",
            "problema inviavel / explicação correta\n",
            "problema inviavel / explicação correta\n",
            "problema inviavel / explicação correta\n",
            "problema inviavel / explicação correta\n",
            "problema inviavel / explicação correta\n",
            "problema inviavel / explicação correta\n",
            "problema inviavel / explicação correta\n",
            "problema inviavel / explicação correta\n",
            "problema inviavel / explicação correta\n",
            "problema inviavel / explicação correta\n",
            "problema inviavel / explicação correta\n",
            "problema inviavel / explicação correta\n",
            "delta = 0\n",
            "problema inviavel / explicação correta\n",
            "problema inviavel / explicação correta\n",
            "delta = 0\n",
            "problema inviavel / explicação correta\n",
            "problema inviavel / explicação correta\n",
            "problema inviavel / explicação correta\n",
            "problema inviavel / explicação correta\n",
            "delta = 0\n",
            "problema inviavel / explicação correta\n",
            "problema inviavel / explicação correta\n",
            "problema inviavel / explicação correta\n",
            "problema inviavel / explicação correta\n",
            "problema inviavel / explicação correta\n",
            "problema inviavel / explicação correta\n",
            "problema inviavel / explicação correta\n",
            "problema inviavel / explicação correta\n",
            "problema inviavel / explicação correta\n",
            "problema inviavel / explicação correta\n",
            "problema inviavel / explicação correta\n",
            "problema inviavel / explicação correta\n",
            "problema inviavel / explicação correta\n",
            "delta = 0\n",
            "problema inviavel / explicação correta\n"
          ]
        }
      ]
    },
    {
      "cell_type": "markdown",
      "source": [
        "# test breast cancer"
      ],
      "metadata": {
        "id": "VVVOt5jBwAyb"
      }
    },
    {
      "cell_type": "code",
      "source": [
        "gb_cancer = GradientBoostingClassifier(n_estimators=100, max_depth=3, random_state = 101)\n",
        "\n",
        "cancer = load_breast_cancer()\n",
        "X_cancer, y_cancer = cancer.data, cancer.target\n",
        "\n",
        "X_cancer_train, X_cancer_test, y_cancer_train, y_cancer_test = train_test_split(\n",
        "    X_cancer, y_cancer, test_size=0.2, random_state=101)\n",
        "\n",
        "gb_cancer.fit(X_cancer_train, y_cancer_train)\n",
        "\n",
        "print('Train', sklearn.metrics.accuracy_score(y_cancer_train, gb_cancer.predict(X_cancer_train)))\n",
        "print('Test', sklearn.metrics.accuracy_score(y_cancer_test, gb_cancer.predict(X_cancer_test)))\n",
        "\n",
        "gb_cancer.predict(X_cancer)"
      ],
      "metadata": {
        "colab": {
          "base_uri": "https://localhost:8080/"
        },
        "id": "1vjzblX8wDQ3",
        "outputId": "3962dd4a-4bc6-4f0d-d0f2-66a6531f8495"
      },
      "execution_count": null,
      "outputs": [
        {
          "output_type": "stream",
          "name": "stdout",
          "text": [
            "Train 1.0\n",
            "Test 0.9736842105263158\n"
          ]
        },
        {
          "output_type": "execute_result",
          "data": {
            "text/plain": [
              "array([0, 0, 0, 0, 0, 0, 0, 0, 0, 0, 0, 0, 0, 0, 0, 0, 0, 0, 0, 1, 1, 1,\n",
              "       0, 0, 0, 0, 0, 0, 0, 0, 0, 0, 0, 0, 0, 0, 0, 1, 0, 0, 0, 0, 0, 0,\n",
              "       0, 0, 1, 0, 1, 1, 1, 1, 1, 0, 0, 1, 0, 0, 1, 1, 1, 1, 0, 1, 0, 0,\n",
              "       1, 1, 1, 1, 0, 1, 0, 0, 1, 0, 1, 0, 0, 1, 1, 1, 0, 0, 1, 0, 0, 0,\n",
              "       1, 1, 1, 0, 1, 1, 0, 0, 1, 1, 1, 0, 0, 1, 1, 1, 1, 0, 1, 1, 0, 1,\n",
              "       1, 1, 1, 1, 1, 1, 1, 0, 0, 0, 1, 0, 0, 1, 1, 1, 0, 0, 1, 0, 1, 0,\n",
              "       0, 1, 0, 0, 1, 1, 0, 1, 1, 0, 1, 1, 1, 1, 0, 1, 1, 1, 1, 1, 1, 1,\n",
              "       1, 1, 0, 1, 1, 1, 1, 0, 0, 1, 0, 1, 1, 0, 0, 1, 1, 0, 0, 1, 1, 1,\n",
              "       1, 0, 1, 1, 0, 0, 0, 1, 0, 1, 0, 1, 1, 1, 0, 1, 1, 0, 0, 1, 0, 0,\n",
              "       0, 0, 1, 0, 0, 0, 1, 0, 1, 0, 1, 1, 0, 1, 0, 0, 0, 0, 1, 1, 0, 0,\n",
              "       1, 1, 1, 0, 1, 1, 1, 1, 1, 0, 0, 1, 1, 0, 1, 1, 0, 0, 1, 0, 1, 1,\n",
              "       1, 1, 0, 1, 1, 1, 1, 1, 0, 1, 0, 0, 0, 0, 0, 0, 0, 0, 0, 1, 0, 0,\n",
              "       0, 0, 1, 1, 1, 1, 1, 1, 0, 1, 0, 1, 1, 0, 1, 1, 0, 1, 0, 0, 1, 1,\n",
              "       1, 1, 1, 1, 1, 1, 1, 1, 1, 1, 1, 0, 1, 1, 0, 1, 0, 1, 1, 1, 1, 1,\n",
              "       1, 1, 1, 1, 1, 1, 1, 1, 1, 0, 1, 1, 1, 0, 1, 0, 1, 1, 1, 1, 0, 0,\n",
              "       0, 1, 1, 1, 1, 0, 1, 0, 1, 0, 1, 1, 1, 0, 1, 1, 1, 1, 1, 1, 1, 0,\n",
              "       0, 0, 1, 1, 1, 1, 1, 1, 1, 1, 1, 1, 1, 0, 0, 1, 0, 0, 0, 1, 0, 0,\n",
              "       1, 1, 1, 1, 1, 0, 1, 1, 1, 1, 1, 1, 1, 1, 1, 0, 1, 1, 0, 0, 1, 1,\n",
              "       1, 1, 1, 1, 0, 1, 1, 1, 1, 1, 1, 1, 0, 1, 1, 1, 1, 1, 0, 1, 1, 0,\n",
              "       1, 1, 1, 1, 1, 1, 1, 1, 1, 1, 1, 1, 0, 1, 0, 0, 1, 0, 1, 1, 1, 1,\n",
              "       1, 0, 1, 1, 0, 1, 0, 1, 1, 0, 1, 0, 1, 1, 1, 1, 1, 1, 1, 1, 0, 0,\n",
              "       1, 1, 1, 1, 1, 1, 0, 1, 1, 1, 1, 1, 1, 1, 1, 1, 1, 0, 1, 1, 1, 1,\n",
              "       1, 1, 1, 0, 1, 1, 1, 1, 0, 1, 1, 1, 1, 1, 0, 0, 1, 0, 1, 0, 1, 1,\n",
              "       1, 1, 1, 0, 1, 1, 0, 1, 0, 1, 0, 0, 1, 1, 1, 0, 1, 1, 1, 1, 1, 1,\n",
              "       1, 1, 1, 1, 1, 0, 1, 0, 0, 1, 1, 1, 1, 1, 1, 1, 1, 1, 1, 1, 1, 1,\n",
              "       1, 1, 1, 1, 1, 1, 1, 1, 1, 1, 1, 1, 0, 0, 0, 0, 0, 0, 1])"
            ]
          },
          "metadata": {},
          "execution_count": 62
        }
      ]
    },
    {
      "cell_type": "code",
      "source": [
        "idx = 0\n",
        "cancer_features_x = [f'x{i}' for i in range(len(cancer.feature_names))]\n",
        "\n",
        "anchor_explainer = anchor_tabular.AnchorTabularExplainer(\n",
        "    gb_cancer.classes_,\n",
        "    cancer_features_x,\n",
        "    X_cancer_train,\n",
        "    categorical_names={})"
      ],
      "metadata": {
        "id": "jzCiF6_AwkrA"
      },
      "execution_count": null,
      "outputs": []
    },
    {
      "cell_type": "code",
      "source": [
        "expcomp = ExplainerCompleter(gb_cancer, anchor_explainer, X_cancer, 0)\n",
        "\n",
        "for i in range(len(X_cancer_train)):\n",
        "  expcomp.explain_instance(X_cancer_train[i])"
      ],
      "metadata": {
        "colab": {
          "base_uri": "https://localhost:8080/"
        },
        "id": "yUK1pIYtwW3U",
        "outputId": "67549f04-cbd3-468e-ead0-07c862b48aad"
      },
      "execution_count": null,
      "outputs": [
        {
          "metadata": {
            "tags": null
          },
          "name": "stdout",
          "output_type": "stream",
          "text": [
            "delta = 0\n"
          ]
        }
      ]
    }
  ]
}