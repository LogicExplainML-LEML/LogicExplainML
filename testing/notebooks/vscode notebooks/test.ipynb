{
 "cells": [
  {
   "cell_type": "code",
   "execution_count": 8,
   "metadata": {},
   "outputs": [],
   "source": [
    "from z3 import *"
   ]
  },
  {
   "cell_type": "markdown",
   "metadata": {},
   "source": [
    "# auto 1 feature"
   ]
  },
  {
   "cell_type": "code",
   "execution_count": 16,
   "metadata": {},
   "outputs": [],
   "source": [
    "import sys\n",
    "import os\n",
    "sys.path.append(os.path.abspath('../../../'))\n",
    "\n",
    "from model.xai_gb_z3 import Explainer"
   ]
  },
  {
   "cell_type": "code",
   "execution_count": 9,
   "metadata": {},
   "outputs": [],
   "source": [
    "x8 = Real(\"x8\")\n",
    "x0 = Real(\"x0\")\n",
    "o_0_0 = Real(\"o_0_0\")"
   ]
  },
  {
   "cell_type": "code",
   "execution_count": 21,
   "metadata": {},
   "outputs": [
    {
     "data": {
      "text/html": [
       "<b>sat</b>"
      ],
      "text/plain": [
       "sat"
      ]
     },
     "execution_count": 21,
     "metadata": {},
     "output_type": "execute_result"
    }
   ],
   "source": [
    "lista_formulas = []\n",
    "s = Solver()\n",
    "\n",
    "lista_formulas.append(And(\n",
    "    x0 == 51, \n",
    "    x8 == 94.5\n",
    "    ))\n",
    "\n",
    "lista_formulas.append(And(\n",
    "                        And(94.3 <= x8, 120.9 >= x8), \n",
    "                        And(1 <= x0, 51 >= x0)\n",
    "                        ))\n",
    "\n",
    "lista_formulas.append(\n",
    "    And(\n",
    "        And(\n",
    "            Implies(And(x8 <= 102.2000007629), o_0_0 == 1.2121212121),\n",
    "            Implies(And(x8 > 102.2000007629), o_0_0 == -1.4814814814),\n",
    "        )\n",
    "    )\n",
    ")\n",
    "\n",
    "lista_formulas.append(Not(And((o_0_0) * 0.1 + 1.0986122886 < 0)))\n",
    "\n",
    "s.add(And(lista_formulas))\n",
    "s.check()"
   ]
  },
  {
   "cell_type": "code",
   "execution_count": 37,
   "metadata": {},
   "outputs": [
    {
     "data": {
      "text/html": [
       "<b>sat</b>"
      ],
      "text/plain": [
       "sat"
      ]
     },
     "execution_count": 37,
     "metadata": {},
     "output_type": "execute_result"
    }
   ],
   "source": [
    "lista_formulas = []\n",
    "s = Solver()\n",
    "\n",
    "lista_formulas.append(And(\n",
    "    x0 == 51, \n",
    "    x8 == 95\n",
    "    ))\n",
    "\n",
    "lista_formulas.append(And(\n",
    "                        And(94.3 <= x8, 120.9 >= x8), \n",
    "                        And(1 <= x0, 51 >= x0)\n",
    "                        ))\n",
    "\n",
    "lista_formulas.append(\n",
    "And(And(Implies(And(x8 <= 102.2000007629),\n",
    "                o_0_0 == 1.2121212121),\n",
    "        Implies(And(x8 > 102.2000007629),\n",
    "                o_0_0 == -1.4814814814)))\n",
    "\n",
    ")\n",
    "\n",
    "lista_formulas.append(Not(And((o_0_0) * 0.1 + 1.0986122886 < 0)))\n",
    "\n",
    "s.add(And(lista_formulas))\n",
    "s.check()"
   ]
  },
  {
   "cell_type": "code",
   "execution_count": 12,
   "metadata": {},
   "outputs": [
    {
     "name": "stdout",
     "output_type": "stream",
     "text": [
      "1.21982440981\n"
     ]
    }
   ],
   "source": [
    "print(1.2121212121 * 0.1 + 1.0986122886)"
   ]
  },
  {
   "cell_type": "code",
   "execution_count": 13,
   "metadata": {},
   "outputs": [],
   "source": [
    "set_option(rational_to_decimal=True)"
   ]
  },
  {
   "cell_type": "markdown",
   "metadata": {},
   "source": [
    "# iris 1 feature multiclass"
   ]
  },
  {
   "cell_type": "code",
   "execution_count": 14,
   "metadata": {},
   "outputs": [],
   "source": [
    "x0 = Real(\"x0\")\n",
    "x1 = Real(\"x1\")\n",
    "x2 = Real(\"x2\")\n",
    "x3 = Real(\"x3\")\n",
    "o_0_0 = Real(\"o_0_0\")\n",
    "o_0_1 = Real(\"o_0_1\")\n",
    "o_0_2 = Real(\"o_0_2\")"
   ]
  },
  {
   "cell_type": "code",
   "execution_count": 15,
   "metadata": {},
   "outputs": [
    {
     "data": {
      "text/html": [
       "<b>unsat</b>"
      ],
      "text/plain": [
       "unsat"
      ]
     },
     "execution_count": 15,
     "metadata": {},
     "output_type": "execute_result"
    }
   ],
   "source": [
    "siris = Solver()\n",
    "lista_formulas = []\n",
    "\n",
    "lista_formulas.append(\n",
    "    And(\n",
    "        #   x0 == 6.1,\n",
    "        #   x1 == 3,\n",
    "        #   x2 == 4.9,\n",
    "        x3\n",
    "        == 1.8\n",
    "    )\n",
    ")\n",
    "\n",
    "lista_formulas.append(\n",
    "    And(\n",
    "        And(4.3 <= x0, 7.9 >= x0),\n",
    "        And(2 <= x1, 4.4 >= x1),\n",
    "        And(1 <= x2, 6.9 >= x2),\n",
    "        And(0.1 <= x3, 2.5 >= x3),\n",
    "    )\n",
    ")\n",
    "\n",
    "lista_formulas.append(\n",
    "    And(\n",
    "        And(\n",
    "            Implies(And(x3 <= 0.75), o_0_0 == 2.0454545454),\n",
    "            Implies(And(x3 > 0.75), o_0_0 == -0.9890109890),\n",
    "        ),\n",
    "        And(\n",
    "            Implies(And(x3 <= 0.75), o_0_1 == -1.0227272727),\n",
    "            Implies(And(x3 > 0.75), o_0_1 == 0.4945054945),\n",
    "        ),\n",
    "        And(\n",
    "            Implies(And(x3 <= 1.75), o_0_2 == -0.8598847960),\n",
    "            Implies(And(x3 > 1.75), o_0_2 == 1.9714431909),\n",
    "        ),\n",
    "    )\n",
    ")\n",
    "\n",
    "lista_formulas.append(\n",
    "    Not(\n",
    "        And(\n",
    "            (o_0_2) * 0.1 + -0.0219859892 > (o_0_0) * 0.1 + -0.0219859892,\n",
    "            (o_0_2) * 0.1 + -0.0219859892 > (o_0_1) * 0.1 + 0.0439719785,\n",
    "        )\n",
    "    )\n",
    ")\n",
    "\n",
    "siris.add(And(lista_formulas))\n",
    "siris.check()"
   ]
  },
  {
   "cell_type": "code",
   "execution_count": 16,
   "metadata": {},
   "outputs": [],
   "source": [
    "# print(siris.model())"
   ]
  },
  {
   "cell_type": "code",
   "execution_count": null,
   "metadata": {},
   "outputs": [],
   "source": []
  },
  {
   "cell_type": "markdown",
   "metadata": {},
   "source": [
    "# iris 1 feature binary"
   ]
  },
  {
   "cell_type": "code",
   "execution_count": 17,
   "metadata": {},
   "outputs": [],
   "source": [
    "x0 = Real(\"x0\")\n",
    "x1 = Real(\"x1\")\n",
    "x2 = Real(\"x2\")\n",
    "x3 = Real(\"x3\")\n",
    "o_0_0 = Real(\"o_0_0\")"
   ]
  },
  {
   "cell_type": "code",
   "execution_count": 35,
   "metadata": {},
   "outputs": [
    {
     "data": {
      "text/html": [
       "<b>unsat</b>"
      ],
      "text/plain": [
       "unsat"
      ]
     },
     "execution_count": 35,
     "metadata": {},
     "output_type": "execute_result"
    }
   ],
   "source": [
    "siris = Solver()\n",
    "lista_formulas = []\n",
    "\n",
    "lista_formulas.append(\n",
    "    And(\n",
    "        # x0 == 4.5,\n",
    "        # x1 == 2.3,\n",
    "        # x2 == 1.3,\n",
    "        x3\n",
    "        == 0.3\n",
    "    )\n",
    ")\n",
    "\n",
    "lista_formulas.append(\n",
    "    And(\n",
    "        And(4.3 <= x0, 7 >= x0),\n",
    "        And(2 <= x1, 4.4 >= x1),\n",
    "        And(1 <= x2, 5.1 >= x2),\n",
    "        And(0.1 <= x3, 1.8 >= x3),\n",
    "    )\n",
    ")\n",
    "\n",
    "lista_formulas.append(\n",
    "    And(\n",
    "        And(\n",
    "            Implies(And(x3 <= 0.75), o_0_0 == -2.0454545454),\n",
    "            Implies(And(x3 > 0.75), o_0_0 == 1.9565217391),\n",
    "        )\n",
    "    )\n",
    ")\n",
    "\n",
    "lista_formulas.append(Not(And((o_0_0) * 0.1 + 0.0444517625 < 0)))\n",
    "\n",
    "siris.add(And(lista_formulas))\n",
    "siris.check()"
   ]
  },
  {
   "cell_type": "code",
   "execution_count": 19,
   "metadata": {},
   "outputs": [
    {
     "data": {
      "text/html": [
       "&not;(o_0_0&middot;1/10 + 3556141/80000000 &lt; 0)"
      ],
      "text/plain": [
       "Not(And(o_0_0*1/10 + 3556141/80000000 < 0))"
      ]
     },
     "execution_count": 19,
     "metadata": {},
     "output_type": "execute_result"
    }
   ],
   "source": [
    "Not(And((o_0_0) * 0.1 + 0.0444517625 < 0))"
   ]
  }
 ],
 "metadata": {
  "kernelspec": {
   "display_name": "env",
   "language": "python",
   "name": "python3"
  },
  "language_info": {
   "codemirror_mode": {
    "name": "ipython",
    "version": 3
   },
   "file_extension": ".py",
   "mimetype": "text/x-python",
   "name": "python",
   "nbconvert_exporter": "python",
   "pygments_lexer": "ipython3",
   "version": "3.9.2"
  }
 },
 "nbformat": 4,
 "nbformat_minor": 2
}
