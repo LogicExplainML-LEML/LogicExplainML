{
 "cells": [
  {
   "cell_type": "code",
   "execution_count": 1,
   "metadata": {},
   "outputs": [],
   "source": [
    "from z3 import *"
   ]
  },
  {
   "cell_type": "markdown",
   "metadata": {},
   "source": [
    "# delta example"
   ]
  },
  {
   "cell_type": "code",
   "execution_count": 2,
   "metadata": {},
   "outputs": [
    {
     "name": "stdout",
     "output_type": "stream",
     "text": [
      "['x0 == 10', 'x1 == 5']\n"
     ]
    }
   ],
   "source": [
    "x0 = Real(\"x0\")\n",
    "x1 = Real(\"x1\")\n",
    "\n",
    "exp = list([x0 == 10, x1 == 5])\n",
    "expstr = []\n",
    "for expression in exp:\n",
    "    expstr.append(str(expression))\n",
    "print(expstr)"
   ]
  },
  {
   "cell_type": "markdown",
   "metadata": {},
   "source": [
    "valor + epsilon == valor=delta\n",
    "\n",
    "epsilon == delta=0\n",
    "\n",
    "unsat== intervalo aberto"
   ]
  },
  {
   "cell_type": "code",
   "execution_count": 6,
   "metadata": {},
   "outputs": [
    {
     "name": "stdout",
     "output_type": "stream",
     "text": [
      "2 + epsilon\n",
      "unsat\n"
     ]
    }
   ],
   "source": [
    "exp = [\"x0 == 10\", \"x1 == 5\"]\n",
    "\n",
    "lista_formulas = []\n",
    "\n",
    "o_0_0 = Real(\"o_0_0\")\n",
    "o_1_0 = Real(\"o_1_0\")\n",
    "o_2_0 = Real(\"o_2_0\")\n",
    "delta_upper = Real(\"delta_upper\")\n",
    "delta_lower = Real(\"delta_lower\")\n",
    "sumest = Real(\"sumest\")\n",
    "\n",
    "lista_formulas.append(And(\n",
    "    # x0 == 10,\n",
    "    # x1 == 5\n",
    "    ))\n",
    "\n",
    "lista_formulas.append(delta_upper >= 0)\n",
    "lista_formulas.append(delta_lower >= 0)\n",
    "\n",
    "# primeiro delta superior, segundo delta inferior\n",
    "lista_formulas.append(And(\n",
    "       8 - delta_lower <= x0,\n",
    "      x0 <= 8 + delta_upper\n",
    "      ))\n",
    "\n",
    "lista_formulas.append(\n",
    "    And(\n",
    "        And(\n",
    "            Implies(And(x0 <= 10), o_0_0 == 3),\n",
    "            Implies(And(x0 > 10), o_0_0 == -1),\n",
    "        ),\n",
    "        And(\n",
    "            Implies(And(x1 <= 10), o_1_0 == 1),\n",
    "            Implies(And(x1 > 10), o_1_0 == -1),\n",
    "        ),\n",
    "        And(\n",
    "            Implies(And(x0 <= 5), o_2_0 == 0),\n",
    "            Implies(And(x0 > 5), o_2_0 == 0),\n",
    "        ),\n",
    "    )\n",
    ")\n",
    "\n",
    "lista_formulas.append(sumest == o_0_0 + o_1_0 + o_2_0)\n",
    "\n",
    "lista_formulas.append(\n",
    "    Not(\n",
    "        And(\n",
    "            sumest + -1 > 0,\n",
    "        )\n",
    "    )\n",
    ")\n",
    "\n",
    "opt_upper = Optimize()\n",
    "opt_upper.add(delta_lower == 0)\n",
    "expmin = opt_upper.minimize(delta_upper)\n",
    "opt_upper.add(And(lista_formulas))\n",
    "if opt_upper.check() == sat:\n",
    "    print(expmin.value())\n",
    "else:\n",
    "    print(\"unsat\")\n",
    "\n",
    "opt_lower = Optimize()\n",
    "opt_lower.add(delta_upper == 0)\n",
    "expmin = opt_lower.minimize(delta_lower)\n",
    "opt_lower.add(And(lista_formulas))\n",
    "if opt_lower.check() == sat:\n",
    "    print(expmin.value())\n",
    "else:\n",
    "    print(\"unsat\")"
   ]
  },
  {
   "cell_type": "code",
   "execution_count": 3,
   "metadata": {},
   "outputs": [
    {
     "name": "stdout",
     "output_type": "stream",
     "text": [
      "unsat\n"
     ]
    }
   ],
   "source": [
    "exp = [\"x0 == 10\", \"x1 == 5\"]\n",
    "\n",
    "lista_formulas = []\n",
    "\n",
    "o_0_0 = Real(\"o_0_0\")\n",
    "o_1_0 = Real(\"o_1_0\")\n",
    "o_2_0 = Real(\"o_2_0\")\n",
    "delta = Real(\"delta\")\n",
    "sumest = Real(\"sumest\")\n",
    "\n",
    "lista_formulas.append(And(\n",
    "    # x0 == 10,\n",
    "    # x1 == 5\n",
    "    ))\n",
    "\n",
    "lista_formulas.append(delta >= 0)\n",
    "# lista_formulas.append(delta_lower >= 0)\n",
    "\n",
    "# primeiro delta superior, segundo delta inferior\n",
    "lista_formulas.append(And(\n",
    "       8 - delta <= x0,\n",
    "      x0 <= 8 + 2\n",
    "      ))\n",
    "\n",
    "lista_formulas.append(\n",
    "    And(\n",
    "        And(\n",
    "            Implies(And(x0 <= 10), o_0_0 == 3),\n",
    "            Implies(And(x0 > 10), o_0_0 == -1),\n",
    "        ),\n",
    "        And(\n",
    "            Implies(And(x1 <= 10), o_1_0 == 1),\n",
    "            Implies(And(x1 > 10), o_1_0 == -1),\n",
    "        ),\n",
    "        And(\n",
    "            Implies(And(x0 <= 5), o_2_0 == 0),\n",
    "            Implies(And(x0 > 5), o_2_0 == 0),\n",
    "        ),\n",
    "    )\n",
    ")\n",
    "\n",
    "lista_formulas.append(sumest == o_0_0 + o_1_0 + o_2_0)\n",
    "\n",
    "lista_formulas.append(\n",
    "    Not(\n",
    "        And(\n",
    "            sumest + -1 > 0,\n",
    "        )\n",
    "    )\n",
    ")\n",
    "\n",
    "opt_upper = Optimize()\n",
    "expmin = opt_upper.minimize(delta)\n",
    "opt_upper.add(And(lista_formulas))\n",
    "if opt_upper.check() == sat:\n",
    "    print(expmin.value())\n",
    "else:\n",
    "    print(\"unsat\")"
   ]
  },
  {
   "cell_type": "code",
   "execution_count": null,
   "metadata": {},
   "outputs": [
    {
     "name": "stdout",
     "output_type": "stream",
     "text": [
      "epsilon\n",
      "-1*oo\n"
     ]
    }
   ],
   "source": [
    "# lista_formulas = []\n",
    "\n",
    "# o_0_0 = Real(\"o_0_0\")\n",
    "# o_1_0 = Real(\"o_1_0\")\n",
    "# delta_upper = Real(\"delta_upper\")\n",
    "# delta_lower = Real(\"delta_lower\")\n",
    "# sumest = Real(\"sumest\")\n",
    "\n",
    "\n",
    "# # lista_formulas.append(And(\n",
    "# #     x0 == 10,\n",
    "# #     # x1 == 5\n",
    "# #     ))\n",
    "\n",
    "# lista_formulas.append(delta_upper >= 0)\n",
    "\n",
    "# lista_formulas.append(And(10 - delta_lower <= x0, x0 <= 10 + delta_upper))\n",
    "\n",
    "# lista_formulas.append(\n",
    "#     And(\n",
    "#         And(\n",
    "#             Implies(And(x0 <= 10), o_0_0 == 3),\n",
    "#             Implies(And(x0 > 10), o_0_0 == -1),\n",
    "#         ),\n",
    "#         And(\n",
    "#             Implies(And(x1 <= 10), o_1_0 == 1),\n",
    "#             Implies(And(x1 > 10), o_1_0 == -1),\n",
    "#         ),\n",
    "#     )\n",
    "# )\n",
    "\n",
    "# lista_formulas.append(sumest == o_0_0 + o_1_0)\n",
    "\n",
    "# lista_formulas.append(\n",
    "#     Not(\n",
    "#         And(\n",
    "#             sumest + -1 > 0,\n",
    "#         )\n",
    "#     )\n",
    "# )\n",
    "\n",
    "# opt_upper = Optimize()\n",
    "# expmin = opt_upper.minimize(delta_upper)\n",
    "# opt_upper.add(And(lista_formulas))\n",
    "# if opt_upper.check() == sat:\n",
    "#     # print(opt_upper.model())\n",
    "\n",
    "#     print(expmin.value())\n",
    "#     # solvermodel = opt_upper.model()\n",
    "#     # print(float(solvermodel.eval(sumest).as_fraction()))\n",
    "\n",
    "#     # variables = [Real(f\"o_{i}_0\") for i in range(2)]\n",
    "#     # total_sum = sum(float(solvermodel.eval(var).as_fraction()) for var in variables)\n",
    "#     # print(total_sum)\n",
    "# else:\n",
    "#     print(\"unsat\")\n",
    "\n",
    "# opt_lower = Optimize()\n",
    "# expmin = opt_lower.minimize(delta_lower)\n",
    "# opt_lower.add(And(lista_formulas))\n",
    "# if opt_lower.check() == sat:\n",
    "#     # print(opt_lower.model())\n",
    "\n",
    "#     print(expmin.value())\n",
    "#     # solvermodel = opt_lower.model()\n",
    "#     # print(float(solvermodel.eval(sumest).as_fraction()))\n",
    "\n",
    "#     # variables = [Real(f\"o_{i}_0\") for i in range(2)]\n",
    "#     # total_sum = sum(float(solvermodel.eval(var).as_fraction()) for var in variables)\n",
    "#     # print(total_sum)\n",
    "# else:\n",
    "#     print(\"unsat\")"
   ]
  },
  {
   "cell_type": "markdown",
   "metadata": {},
   "source": [
    "# estability example"
   ]
  },
  {
   "cell_type": "code",
   "execution_count": null,
   "metadata": {},
   "outputs": [
    {
     "name": "stdout",
     "output_type": "stream",
     "text": [
      "[x1 = 11,\n",
      " conf = 2,\n",
      " sumest = 2,\n",
      " o_0_0 = 3,\n",
      " x0 = 10,\n",
      " o_1_0 = -1]\n",
      "2.0\n",
      "2.0\n"
     ]
    }
   ],
   "source": [
    "lista_formulas = []\n",
    "\n",
    "x0 = Real(\"x0\")\n",
    "x1 = Real(\"x1\")\n",
    "o_0_0 = Real(\"o_0_0\")\n",
    "o_1_0 = Real(\"o_1_0\")\n",
    "sumest = Real(\"sumest\")\n",
    "\n",
    "conf = Real(\"conf\")\n",
    "lista_formulas.append(conf >= 0)\n",
    "# lista_formulas.append(conf >= 1)\n",
    "\n",
    "lista_formulas.append(\n",
    "    And(\n",
    "        x0 == 10,\n",
    "        # x1 == 5\n",
    "    )\n",
    ")\n",
    "\n",
    "lista_formulas.append(\n",
    "    And(\n",
    "        And(\n",
    "            Implies(And(x0 <= 10), o_0_0 == 3),\n",
    "            Implies(And(x0 > 10), o_0_0 == -1),\n",
    "        ),\n",
    "        And(\n",
    "            Implies(And(x1 <= 10), o_1_0 == 1),\n",
    "            Implies(And(x1 > 10), o_1_0 == -1),\n",
    "        ),\n",
    "    )\n",
    ")\n",
    "\n",
    "lista_formulas.append(sumest == o_0_0 + o_1_0)\n",
    "\n",
    "lista_formulas.append(\n",
    "    Not(\n",
    "        And(\n",
    "            (sumest + (sumest * conf)) + -1 > 0,\n",
    "            (sumest - (sumest * conf)) + -1 > 0,\n",
    "        )\n",
    "    )\n",
    ")\n",
    "\n",
    "s = Solver()\n",
    "\n",
    "\n",
    "s.add(And(lista_formulas))\n",
    "if s.check() == sat:\n",
    "    print(s.model())\n",
    "\n",
    "    # print(expmin.value())\n",
    "\n",
    "    solvermodel = s.model()\n",
    "    print(float(solvermodel.eval(sumest).as_fraction()))\n",
    "\n",
    "    variables = [Real(f\"o_{i}_0\") for i in range(2)]\n",
    "    total_sum = sum(float(solvermodel.eval(var).as_fraction()) for var in variables)\n",
    "    print(total_sum)\n",
    "else:\n",
    "    print(\"unsat\")"
   ]
  },
  {
   "cell_type": "code",
   "execution_count": null,
   "metadata": {},
   "outputs": [],
   "source": []
  },
  {
   "cell_type": "markdown",
   "metadata": {},
   "source": [
    "# auto 1 feature"
   ]
  },
  {
   "cell_type": "code",
   "execution_count": null,
   "metadata": {},
   "outputs": [],
   "source": [
    "import sys\n",
    "import os\n",
    "\n",
    "sys.path.append(os.path.abspath(\"../../../\"))\n",
    "\n",
    "from model.xai_gb_z3 import Explainer"
   ]
  },
  {
   "cell_type": "code",
   "execution_count": null,
   "metadata": {},
   "outputs": [],
   "source": [
    "x8 = Real(\"x8\")\n",
    "x0 = Real(\"x0\")\n",
    "\n",
    "\n",
    "o_0_0 = Real(\"o_0_0\")"
   ]
  },
  {
   "cell_type": "code",
   "execution_count": null,
   "metadata": {},
   "outputs": [
    {
     "data": {
      "text/html": [
       "<b>sat</b>"
      ],
      "text/plain": [
       "sat"
      ]
     },
     "execution_count": 68,
     "metadata": {},
     "output_type": "execute_result"
    }
   ],
   "source": [
    "lista_formulas = []\n",
    "s = Solver()\n",
    "\n",
    "lista_formulas.append(And(x0 == 51, x8 == 94.5))\n",
    "\n",
    "lista_formulas.append(And(And(94.3 <= x8, 120.9 >= x8), And(1 <= x0, 51 >= x0)))\n",
    "\n",
    "lista_formulas.append(\n",
    "    And(\n",
    "        And(\n",
    "            Implies(And(x8 <= 102.2000007629), o_0_0 == 1.2121212121),\n",
    "            Implies(And(x8 > 102.2000007629), o_0_0 == -1.4814814814),\n",
    "        )\n",
    "    )\n",
    ")\n",
    "\n",
    "lista_formulas.append(Not(And((o_0_0) * 0.1 + 1.0986122886 < 0)))\n",
    "\n",
    "s.add(And(lista_formulas))\n",
    "s.check()"
   ]
  },
  {
   "cell_type": "code",
   "execution_count": null,
   "metadata": {},
   "outputs": [
    {
     "data": {
      "text/html": [
       "<b>sat</b>"
      ],
      "text/plain": [
       "sat"
      ]
     },
     "execution_count": 37,
     "metadata": {},
     "output_type": "execute_result"
    }
   ],
   "source": [
    "lista_formulas = []\n",
    "s = Solver()\n",
    "\n",
    "lista_formulas.append(And(x0 == 51, x8 == 95))\n",
    "\n",
    "lista_formulas.append(And(And(94.3 <= x8, 120.9 >= x8), And(1 <= x0, 51 >= x0)))\n",
    "\n",
    "lista_formulas.append(\n",
    "    And(\n",
    "        And(\n",
    "            Implies(And(x8 <= 102.2000007629), o_0_0 == 1.2121212121),\n",
    "            Implies(And(x8 > 102.2000007629), o_0_0 == -1.4814814814),\n",
    "        )\n",
    "    )\n",
    ")\n",
    "\n",
    "lista_formulas.append(Not(And((o_0_0) * 0.1 + 1.0986122886 < 0)))\n",
    "\n",
    "s.add(And(lista_formulas))\n",
    "s.check()"
   ]
  },
  {
   "cell_type": "code",
   "execution_count": null,
   "metadata": {},
   "outputs": [
    {
     "name": "stdout",
     "output_type": "stream",
     "text": [
      "1.21982440981\n"
     ]
    }
   ],
   "source": [
    "print(1.2121212121 * 0.1 + 1.0986122886)"
   ]
  },
  {
   "cell_type": "code",
   "execution_count": null,
   "metadata": {},
   "outputs": [],
   "source": [
    "set_option(rational_to_decimal=True)"
   ]
  },
  {
   "cell_type": "markdown",
   "metadata": {},
   "source": [
    "# iris 1 feature multiclass"
   ]
  },
  {
   "cell_type": "code",
   "execution_count": null,
   "metadata": {},
   "outputs": [],
   "source": [
    "x0 = Real(\"x0\")\n",
    "x1 = Real(\"x1\")\n",
    "x2 = Real(\"x2\")\n",
    "x3 = Real(\"x3\")\n",
    "o_0_0 = Real(\"o_0_0\")\n",
    "o_0_1 = Real(\"o_0_1\")\n",
    "o_0_2 = Real(\"o_0_2\")"
   ]
  },
  {
   "cell_type": "code",
   "execution_count": null,
   "metadata": {},
   "outputs": [
    {
     "data": {
      "text/html": [
       "<b>unsat</b>"
      ],
      "text/plain": [
       "unsat"
      ]
     },
     "execution_count": 15,
     "metadata": {},
     "output_type": "execute_result"
    }
   ],
   "source": [
    "siris = Solver()\n",
    "lista_formulas = []\n",
    "\n",
    "lista_formulas.append(\n",
    "    And(\n",
    "        #   x0 == 6.1,\n",
    "        #   x1 == 3,\n",
    "        #   x2 == 4.9,\n",
    "        x3\n",
    "        == 1.8\n",
    "    )\n",
    ")\n",
    "\n",
    "lista_formulas.append(\n",
    "    And(\n",
    "        And(4.3 <= x0, 7.9 >= x0),\n",
    "        And(2 <= x1, 4.4 >= x1),\n",
    "        And(1 <= x2, 6.9 >= x2),\n",
    "        And(0.1 <= x3, 2.5 >= x3),\n",
    "    )\n",
    ")\n",
    "\n",
    "lista_formulas.append(\n",
    "    And(\n",
    "        And(\n",
    "            Implies(And(x3 <= 0.75), o_0_0 == 2.0454545454),\n",
    "            Implies(And(x3 > 0.75), o_0_0 == -0.9890109890),\n",
    "        ),\n",
    "        And(\n",
    "            Implies(And(x3 <= 0.75), o_0_1 == -1.0227272727),\n",
    "            Implies(And(x3 > 0.75), o_0_1 == 0.4945054945),\n",
    "        ),\n",
    "        And(\n",
    "            Implies(And(x3 <= 1.75), o_0_2 == -0.8598847960),\n",
    "            Implies(And(x3 > 1.75), o_0_2 == 1.9714431909),\n",
    "        ),\n",
    "    )\n",
    ")\n",
    "\n",
    "lista_formulas.append(\n",
    "    Not(\n",
    "        And(\n",
    "            (o_0_2) * 0.1 + -0.0219859892 > (o_0_0) * 0.1 + -0.0219859892,\n",
    "            (o_0_2) * 0.1 + -0.0219859892 > (o_0_1) * 0.1 + 0.0439719785,\n",
    "        )\n",
    "    )\n",
    ")\n",
    "\n",
    "siris.add(And(lista_formulas))\n",
    "siris.check()"
   ]
  },
  {
   "cell_type": "code",
   "execution_count": null,
   "metadata": {},
   "outputs": [],
   "source": [
    "# print(siris.model())"
   ]
  },
  {
   "cell_type": "code",
   "execution_count": null,
   "metadata": {},
   "outputs": [],
   "source": []
  },
  {
   "cell_type": "markdown",
   "metadata": {},
   "source": [
    "# iris 1 feature binary"
   ]
  },
  {
   "cell_type": "code",
   "execution_count": null,
   "metadata": {},
   "outputs": [],
   "source": [
    "x0 = Real(\"x0\")\n",
    "x1 = Real(\"x1\")\n",
    "x2 = Real(\"x2\")\n",
    "x3 = Real(\"x3\")\n",
    "o_0_0 = Real(\"o_0_0\")"
   ]
  },
  {
   "cell_type": "code",
   "execution_count": null,
   "metadata": {},
   "outputs": [
    {
     "data": {
      "text/html": [
       "<b>unsat</b>"
      ],
      "text/plain": [
       "unsat"
      ]
     },
     "execution_count": 35,
     "metadata": {},
     "output_type": "execute_result"
    }
   ],
   "source": [
    "siris = Solver()\n",
    "lista_formulas = []\n",
    "\n",
    "lista_formulas.append(\n",
    "    And(\n",
    "        # x0 == 4.5,\n",
    "        # x1 == 2.3,\n",
    "        # x2 == 1.3,\n",
    "        x3\n",
    "        == 0.3\n",
    "    )\n",
    ")\n",
    "\n",
    "lista_formulas.append(\n",
    "    And(\n",
    "        And(4.3 <= x0, 7 >= x0),\n",
    "        And(2 <= x1, 4.4 >= x1),\n",
    "        And(1 <= x2, 5.1 >= x2),\n",
    "        And(0.1 <= x3, 1.8 >= x3),\n",
    "    )\n",
    ")\n",
    "\n",
    "lista_formulas.append(\n",
    "    And(\n",
    "        And(\n",
    "            Implies(And(x3 <= 0.75), o_0_0 == -2.0454545454),\n",
    "            Implies(And(x3 > 0.75), o_0_0 == 1.9565217391),\n",
    "        )\n",
    "    )\n",
    ")\n",
    "\n",
    "lista_formulas.append(Not(And((o_0_0) * 0.1 + 0.0444517625 < 0)))\n",
    "\n",
    "siris.add(And(lista_formulas))\n",
    "siris.check()"
   ]
  },
  {
   "cell_type": "code",
   "execution_count": null,
   "metadata": {},
   "outputs": [
    {
     "data": {
      "text/html": [
       "&not;(o_0_0&middot;1/10 + 3556141/80000000 &lt; 0)"
      ],
      "text/plain": [
       "Not(And(o_0_0*1/10 + 3556141/80000000 < 0))"
      ]
     },
     "execution_count": 19,
     "metadata": {},
     "output_type": "execute_result"
    }
   ],
   "source": [
    "Not(And((o_0_0) * 0.1 + 0.0444517625 < 0))"
   ]
  }
 ],
 "metadata": {
  "kernelspec": {
   "display_name": "env",
   "language": "python",
   "name": "python3"
  },
  "language_info": {
   "codemirror_mode": {
    "name": "ipython",
    "version": 3
   },
   "file_extension": ".py",
   "mimetype": "text/x-python",
   "name": "python",
   "nbconvert_exporter": "python",
   "pygments_lexer": "ipython3",
   "version": "3.12.4"
  }
 },
 "nbformat": 4,
 "nbformat_minor": 2
}
