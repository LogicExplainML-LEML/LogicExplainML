{
 "cells": [
  {
   "cell_type": "code",
   "execution_count": 1,
   "metadata": {},
   "outputs": [],
   "source": [
    "from z3 import *"
   ]
  },
  {
   "cell_type": "code",
   "execution_count": 60,
   "metadata": {},
   "outputs": [],
   "source": [
    "s = Solver()"
   ]
  },
  {
   "cell_type": "code",
   "execution_count": 59,
   "metadata": {},
   "outputs": [],
   "source": [
    "x8 = Real('x8')\n",
    "x0 = Real('x0')\n",
    "o_0_0 = Real('o_0_0')"
   ]
  },
  {
   "cell_type": "code",
   "execution_count": 61,
   "metadata": {},
   "outputs": [
    {
     "data": {
      "text/plain": [
       "[x8 == 94.5,\n",
       " And(x8 >= 94.3, x8 <= 120.9),\n",
       " And(x0 >= 1, x0 <= 51),\n",
       " And(And(Implies(And(x8 <= 102.2000007629),\n",
       "                 o_0_0 == 1.2121212121),\n",
       "         Implies(And(x8 > 102.2000007629),\n",
       "                 o_0_0 == -1.4814814814))),\n",
       " Not(o_0_0*0.1 + 1.0986122886 < 0)]"
      ]
     },
     "execution_count": 61,
     "metadata": {},
     "output_type": "execute_result"
    }
   ],
   "source": [
    "lista_formulas = []\n",
    "# lista_formulas.append(x0==51)\n",
    "lista_formulas.append(x8==94.5)\n",
    "lista_formulas.append(And(94.3 <= x8, 120.9 >= x8))\n",
    "lista_formulas.append(And(1 <= x0, 51 >= x0))\n",
    "lista_formulas.append(And(And(Implies(And(x8 <= 102.2000007629), o_0_0 == 1.2121212121), Implies(And(x8 > 102.2000007629), o_0_0 == -1.4814814814))))\n",
    "lista_formulas.append(Not(((o_0_0)*0.1 + 1.0986122886 < 0)))\n",
    "lista_formulas"
   ]
  },
  {
   "cell_type": "code",
   "execution_count": 62,
   "metadata": {},
   "outputs": [],
   "source": [
    "s.add(And(lista_formulas))"
   ]
  },
  {
   "cell_type": "code",
   "execution_count": 63,
   "metadata": {},
   "outputs": [
    {
     "data": {
      "text/html": [
       "<b>sat</b>"
      ],
      "text/plain": [
       "sat"
      ]
     },
     "execution_count": 63,
     "metadata": {},
     "output_type": "execute_result"
    }
   ],
   "source": [
    "s.check()"
   ]
  },
  {
   "cell_type": "code",
   "execution_count": 64,
   "metadata": {},
   "outputs": [],
   "source": [
    "set_option(rational_to_decimal=True)"
   ]
  },
  {
   "cell_type": "code",
   "execution_count": 65,
   "metadata": {},
   "outputs": [
    {
     "name": "stdout",
     "output_type": "stream",
     "text": [
      "[x8 = 94.5, x0 = 1, o_0_0 = 1.2121212121]\n"
     ]
    }
   ],
   "source": [
    "print(s.model())"
   ]
  }
 ],
 "metadata": {
  "kernelspec": {
   "display_name": "env",
   "language": "python",
   "name": "python3"
  },
  "language_info": {
   "codemirror_mode": {
    "name": "ipython",
    "version": 3
   },
   "file_extension": ".py",
   "mimetype": "text/x-python",
   "name": "python",
   "nbconvert_exporter": "python",
   "pygments_lexer": "ipython3",
   "version": "3.9.2"
  }
 },
 "nbformat": 4,
 "nbformat_minor": 2
}
