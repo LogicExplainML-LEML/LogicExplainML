{
 "cells": [
  {
   "cell_type": "code",
   "execution_count": 25,
   "metadata": {},
   "outputs": [],
   "source": [
    "from xgboost import XGBClassifier\n",
    "from sklearn.datasets import load_iris\n",
    "from sklearn.model_selection import train_test_split\n",
    "from xgboost import plot_tree"
   ]
  },
  {
   "cell_type": "code",
   "execution_count": 26,
   "metadata": {},
   "outputs": [
    {
     "data": {
      "text/plain": [
       "array([0, 0, 0, 1, 1, 2, 1, 1, 2, 0, 2, 0, 0, 2, 2, 1, 1, 1, 0, 1, 1, 0,\n",
       "       1, 1, 1, 1, 1, 2, 0, 0])"
      ]
     },
     "execution_count": 26,
     "metadata": {},
     "output_type": "execute_result"
    }
   ],
   "source": [
    "data = load_iris()\n",
    "X_train, X_test, y_train, y_test = train_test_split(data['data'], data['target'], test_size=.2,  random_state=101)\n",
    "\n",
    "xgbc = XGBClassifier(n_estimators=1, max_depth=1, learning_rate=1, objective='binary:logistic')\n",
    "xgbc.fit(X_train, y_train)\n",
    "\n",
    "preds = xgbc.predict(X_test)\n",
    "preds"
   ]
  },
  {
   "cell_type": "code",
   "execution_count": 27,
   "metadata": {},
   "outputs": [
    {
     "data": {
      "text/plain": [
       "<xgboost.core.Booster at 0x1aba3ec4f70>"
      ]
     },
     "execution_count": 27,
     "metadata": {},
     "output_type": "execute_result"
    }
   ],
   "source": [
    "booster = xgbc.get_booster()\n",
    "booster"
   ]
  },
  {
   "cell_type": "code",
   "execution_count": 28,
   "metadata": {},
   "outputs": [],
   "source": [
    "# for i in range(3):\n",
    "#        plot_tree(xgbc, num_trees=i)"
   ]
  },
  {
   "cell_type": "code",
   "execution_count": 29,
   "metadata": {},
   "outputs": [
    {
     "name": "stdout",
     "output_type": "stream",
     "text": [
      "Tree 0:\n",
      "0:[f2<3] yes=1,no=2,missing=2,gain=57.3227081,cover=53.3333282\n",
      "\t1:leaf=1.42011833,cover=17.7777767\n",
      "\t2:leaf=-0.729483366,cover=35.5555534\n",
      "\n",
      "Tree 1:\n",
      "0:[f2<3] yes=1,no=2,missing=2,gain=12.9075136,cover=53.3333282\n",
      "\t1:leaf=-0.710059226,cover=17.7777767\n",
      "\t2:leaf=0.310030371,cover=35.5555534\n",
      "\n",
      "Tree 2:\n",
      "0:[f3<1.70000005] yes=1,no=2,missing=2,gain=50.4487953,cover=53.3333282\n",
      "\t1:leaf=-0.672897279,cover=34.6666641\n",
      "\t2:leaf=1.32203388,cover=18.666666\n",
      "\n"
     ]
    }
   ],
   "source": [
    "trees = booster.get_dump(with_stats=True)\n",
    "for i, tree in enumerate(trees):\n",
    "  print(f\"Tree {i}:\")\n",
    "  print(tree)"
   ]
  },
  {
   "cell_type": "code",
   "execution_count": 30,
   "metadata": {},
   "outputs": [
    {
     "data": {
      "text/plain": [
       "['0:[f2<3] yes=1,no=2,missing=2\\n\\t1:leaf=1.42011833\\n\\t2:leaf=-0.729483366\\n',\n",
       " '0:[f2<3] yes=1,no=2,missing=2\\n\\t1:leaf=-0.710059226\\n\\t2:leaf=0.310030371\\n',\n",
       " '0:[f3<1.70000005] yes=1,no=2,missing=2\\n\\t1:leaf=-0.672897279\\n\\t2:leaf=1.32203388\\n']"
      ]
     },
     "execution_count": 30,
     "metadata": {},
     "output_type": "execute_result"
    }
   ],
   "source": [
    "booster.get_dump()"
   ]
  },
  {
   "cell_type": "code",
   "execution_count": 31,
   "metadata": {},
   "outputs": [
    {
     "name": "stdout",
     "output_type": "stream",
     "text": [
      "<class 'xgboost.core.Booster'>\n"
     ]
    }
   ],
   "source": [
    "print(type(booster))"
   ]
  },
  {
   "cell_type": "code",
   "execution_count": 32,
   "metadata": {},
   "outputs": [
    {
     "data": {
      "text/plain": [
       "array([5.5, 4.2, 1.4, 0.2])"
      ]
     },
     "execution_count": 32,
     "metadata": {},
     "output_type": "execute_result"
    }
   ],
   "source": [
    "X_test[0]"
   ]
  },
  {
   "cell_type": "code",
   "execution_count": 33,
   "metadata": {},
   "outputs": [
    {
     "name": "stdout",
     "output_type": "stream",
     "text": [
      "0.80506814\n",
      "0.09565514\n",
      "0.09927674\n",
      "1.0\n"
     ]
    }
   ],
   "source": [
    "sum = 0\n",
    "for i in range(3):\n",
    "  print(xgbc.predict_proba(X_test[[0]])[0][i])\n",
    "  sum += xgbc.predict_proba(X_test[[0]])[0][i]\n",
    "print(sum)"
   ]
  },
  {
   "cell_type": "code",
   "execution_count": 34,
   "metadata": {},
   "outputs": [
    {
     "name": "stdout",
     "output_type": "stream",
     "text": [
      "[0.         0.97162088 0.02837912]\n",
      "0.9999999999999999\n"
     ]
    }
   ],
   "source": [
    "import numpy as np\n",
    "\n",
    "vector = np.array([-0.7302, 0.338, -0.699])\n",
    "\n",
    "min_value = np.min(vector)\n",
    "shifted_vector = vector - min_value \n",
    "normalized_vector = shifted_vector / np.sum(shifted_vector)\n",
    "\n",
    "print(normalized_vector)\n",
    "print(np.sum(normalized_vector))"
   ]
  }
 ],
 "metadata": {
  "kernelspec": {
   "display_name": "env",
   "language": "python",
   "name": "python3"
  },
  "language_info": {
   "codemirror_mode": {
    "name": "ipython",
    "version": 3
   },
   "file_extension": ".py",
   "mimetype": "text/x-python",
   "name": "python",
   "nbconvert_exporter": "python",
   "pygments_lexer": "ipython3",
   "version": "3.9.2"
  }
 },
 "nbformat": 4,
 "nbformat_minor": 2
}
