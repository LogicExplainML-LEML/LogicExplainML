{
 "cells": [
  {
   "cell_type": "code",
   "execution_count": 360,
   "metadata": {},
   "outputs": [],
   "source": [
    "from xgboost import XGBClassifier\n",
    "from sklearn.datasets import load_iris\n",
    "from sklearn.model_selection import train_test_split\n",
    "from xgboost import plot_tree\n",
    "from z3 import *\n",
    "import numpy as np\n",
    "import pandas as pd"
   ]
  },
  {
   "cell_type": "code",
   "execution_count": 361,
   "metadata": {},
   "outputs": [],
   "source": [
    "set_option(rational_to_decimal=True)"
   ]
  },
  {
   "cell_type": "markdown",
   "metadata": {},
   "source": [
    "# model"
   ]
  },
  {
   "cell_type": "code",
   "execution_count": 362,
   "metadata": {},
   "outputs": [],
   "source": [
    "# import sys\n",
    "# import os\n",
    "# sys.path.append(os.path.abspath('../../../'))\n",
    "\n",
    "# from model.xai_xgb_z3 import XGBoostExplainer"
   ]
  },
  {
   "cell_type": "code",
   "execution_count": 726,
   "metadata": {},
   "outputs": [],
   "source": [
    "from z3 import *\n",
    "\n",
    "\n",
    "class XGBoostExplainer:\n",
    "    \"\"\"Apenas classificação binária e base_score = None\n",
    "    data = X. labels = y\n",
    "    \"\"\"\n",
    "\n",
    "    def __init__(self, model, data, labels):\n",
    "        \"\"\"_summary_\n",
    "\n",
    "        Args:\n",
    "            model (XGBoost): xgboost model fited\n",
    "            data (DataFrame): dataframe (X or X_train)\n",
    "            labels (array): y (targets)\n",
    "        \"\"\"\n",
    "        self.model = model\n",
    "        self.data = data.values\n",
    "        self.columns = data.columns\n",
    "        self.T_constraints = self.feature_constraints_expression(self.data)\n",
    "        self.T_model = self.model_trees_expression(self.model)\n",
    "        self.T = And(self.T_model, self.T_constraints)\n",
    "        self.label_proportions = labels.mean()\n",
    "\n",
    "    def explain(self, instance, reorder=\"asc\"):\n",
    "        self.D = self.decision_function_expression(\n",
    "            self.model, [instance], self.label_proportions)\n",
    "        self.I = self.instance_expression(instance)\n",
    "\n",
    "        return self.explain_expression(self.I, self.T, self.D, self.model, reorder)\n",
    "\n",
    "    def feature_constraints_expression(self, X):\n",
    "        constraints = []\n",
    "\n",
    "        for i in range(X.shape[1]):\n",
    "            feature_values = X[:, i]\n",
    "            min_val, max_val = feature_values.min(), feature_values.max()\n",
    "\n",
    "            x = Real(self.columns[i])\n",
    "            min = RealVal(min_val)\n",
    "            max = RealVal(max_val)\n",
    "\n",
    "            constraint = And(min <= x, x <= max)\n",
    "            constraints.append(constraint)\n",
    "\n",
    "        return And(*constraints)\n",
    "\n",
    "    def model_trees_expression(self, model):\n",
    "        \"\"\"\n",
    "        Constrói expressões lógicas para todas as árvores de decisão em um dataframe de XGBoost.\n",
    "        Para árvores que são apenas folhas, gera diretamente um And com o valor da folha.\n",
    "\n",
    "        Args:\n",
    "            df (pd.DataFrame): Dataframe contendo informações das árvores.\n",
    "            class_index (int): Índice da classe atual.\n",
    "\n",
    "        Returns:\n",
    "            z3.ExprRef: Fórmula representando todos os caminhos de todas as árvores.\n",
    "        \"\"\"\n",
    "        df = model.get_booster().trees_to_dataframe()\n",
    "        class_index = 0  # if model.n_classes_ == 2:\n",
    "\n",
    "        all_tree_formulas = []\n",
    "\n",
    "        for tree_index in df[\"Tree\"].unique():\n",
    "            tree_df = df[df[\"Tree\"] == tree_index]\n",
    "            o = Real(f'o_{tree_index}_{class_index}')\n",
    "\n",
    "            if len(tree_df) == 1 and tree_df.iloc[0][\"Feature\"] == \"Leaf\":\n",
    "                leaf_value = tree_df.iloc[0][\"Gain\"]\n",
    "                all_tree_formulas.append(And(o == leaf_value))\n",
    "                continue\n",
    "\n",
    "            path_formulas = []\n",
    "\n",
    "            def get_conditions(node_id):\n",
    "                conditions = []\n",
    "                current_node = tree_df[tree_df[\"ID\"] == node_id]\n",
    "                if current_node.empty:\n",
    "                    return conditions\n",
    "\n",
    "                parent_node = tree_df[(tree_df[\"Yes\"] == node_id) | (\n",
    "                    tree_df[\"No\"] == node_id)]\n",
    "                if not parent_node.empty:\n",
    "                    parent_data = parent_node.iloc[0]\n",
    "                    feature = parent_data[\"Feature\"]\n",
    "                    split_value = parent_data[\"Split\"]\n",
    "                    x = Real(feature)\n",
    "                    if parent_data[\"Yes\"] == node_id:\n",
    "                        conditions.append(x < split_value)\n",
    "                    else:\n",
    "                        conditions.append(x >= split_value)\n",
    "                    conditions = get_conditions(parent_data[\"ID\"]) + conditions\n",
    "\n",
    "                return conditions\n",
    "\n",
    "            for _, node in tree_df[tree_df[\"Feature\"] == \"Leaf\"].iterrows():\n",
    "                leaf_value = node[\"Gain\"]\n",
    "                leaf_id = node[\"ID\"]\n",
    "                conditions = get_conditions(leaf_id)\n",
    "                path_formula = And(*conditions)\n",
    "                implication = Implies(path_formula, o == leaf_value)\n",
    "                path_formulas.append(implication)\n",
    "\n",
    "            all_tree_formulas.append(And(*path_formulas))\n",
    "\n",
    "        return And(*all_tree_formulas)\n",
    "\n",
    "    def tree_paths_expression(self, tree, tree_index, class_index):\n",
    "        tree_ = tree.tree_\n",
    "        feature = tree_.feature\n",
    "        threshold = tree_.threshold\n",
    "        value = tree_.value\n",
    "\n",
    "        paths = []\n",
    "        o = Real(f\"o_{tree_index}_{class_index}\")\n",
    "\n",
    "        def traverse(node, path_conditions):\n",
    "\n",
    "            if feature[node] == -2:\n",
    "                leaf_value = value[node][0][0]\n",
    "                path_formula = And(path_conditions)\n",
    "                implication = Implies(path_formula, o == leaf_value)\n",
    "                paths.append(implication)\n",
    "            else:\n",
    "\n",
    "                x = Real(f\"x{feature[node]}\")\n",
    "                left_condition = x <= threshold[node]\n",
    "                right_condition = x > threshold[node]\n",
    "                traverse(tree_.children_left[node],\n",
    "                         path_conditions + [left_condition])\n",
    "                traverse(\n",
    "                    tree_.children_right[node], path_conditions +\n",
    "                    [right_condition]\n",
    "                )\n",
    "\n",
    "        traverse(0, [])\n",
    "        return And(*paths)\n",
    "\n",
    "    def decision_function_expression(self, model, x, label_proportions):\n",
    "        n_classes = 1 if model.n_classes_ <= 2 else model.n_classes_\n",
    "        predicted_class = model.predict(x)[0]\n",
    "        init_value = label_proportions\n",
    "\n",
    "        equation_list = []\n",
    "        for class_number in range(n_classes):\n",
    "            estimator_list = []\n",
    "            for estimator_number in range(int(len(model.get_booster().get_dump()) / n_classes)):\n",
    "                o = Real(f\"o_{estimator_number}_{class_number}\")\n",
    "                estimator_list.append(o)\n",
    "            equation_o = (\n",
    "                Sum(estimator_list) + init_value\n",
    "            )\n",
    "            equation_list.append(equation_o)\n",
    "\n",
    "        if n_classes <= 2:\n",
    "            if predicted_class == 0:\n",
    "                final_equation = equation_list[0] < 0\n",
    "            else:\n",
    "                final_equation = equation_list[0] > 0\n",
    "        else:\n",
    "            compare_equation = []\n",
    "            for class_number in range(n_classes):\n",
    "                if predicted_class != class_number:\n",
    "                    compare_equation.append(\n",
    "                        equation_list[predicted_class] > equation_list[class_number]\n",
    "                    )\n",
    "            final_equation = compare_equation\n",
    "\n",
    "        return And(final_equation)\n",
    "\n",
    "    def instance_expression(self, instance):\n",
    "        formula = [Real(self.columns[i]) == value for i,\n",
    "                   value in enumerate(instance)]\n",
    "        return formula\n",
    "\n",
    "    def explain_expression(self, I, T, D, model, reorder):\n",
    "        X = I.copy()\n",
    "        T_s = simplify(T)\n",
    "        D_s = simplify(D)\n",
    "\n",
    "        importances = model.feature_importances_\n",
    "        non_zero_indices = np.where(importances != 0)[0]\n",
    "\n",
    "        if reorder == \"asc\":\n",
    "            sorted_feature_indices = non_zero_indices[np.argsort(importances[non_zero_indices])]\n",
    "            X = [X[i] for i in sorted_feature_indices]\n",
    "        elif reorder == \"desc\":\n",
    "            sorted_feature_indices = non_zero_indices[np.argsort(-importances[non_zero_indices])]\n",
    "            X = [X[i] for i in sorted_feature_indices]\n",
    "            \n",
    "        for feature in X.copy():\n",
    "            X.remove(feature)\n",
    "\n",
    "            # prove(Implies(And(And(X), T), D))\n",
    "            if self.is_proved(Implies(And(And(X), T_s), D_s)):\n",
    "                continue\n",
    "                # print('proved')\n",
    "            else:\n",
    "                # print('not proved')\n",
    "                X.append(feature)\n",
    "\n",
    "        return X\n",
    "\n",
    "    def is_proved(self, f):\n",
    "        s = Solver()\n",
    "        s.add(Not(f))\n",
    "        if s.check() == unsat:\n",
    "            return True\n",
    "        else:\n",
    "            return False\n"
   ]
  },
  {
   "cell_type": "markdown",
   "metadata": {},
   "source": [
    "# pred"
   ]
  },
  {
   "cell_type": "code",
   "execution_count": 727,
   "metadata": {},
   "outputs": [
    {
     "data": {
      "text/plain": [
       "array([0, 0, 0, 1, 1, 1, 1, 1, 1, 0, 1, 0, 0, 1, 1, 1, 1, 1, 0, 1, 1, 0,\n",
       "       1, 1, 1, 1, 1, 1, 0, 0])"
      ]
     },
     "execution_count": 727,
     "metadata": {},
     "output_type": "execute_result"
    }
   ],
   "source": [
    "iris = load_iris()\n",
    "X = pd.DataFrame(iris.data, columns=iris.feature_names)\n",
    "y = iris.target\n",
    "\n",
    "y = np.where(y == 0, 0, 1) # converte em binario\n",
    "# X = X.iloc[:, :2] # corta colunas do df\n",
    "\n",
    "X_train, X_test, y_train, y_test = train_test_split(X, y, test_size=.2,  random_state=101)\n",
    "\n",
    "xgbc = XGBClassifier(n_estimators=3, max_depth=3, learning_rate=0.1)\n",
    "xgbc.fit(X_train, y_train)\n",
    "\n",
    "preds = xgbc.predict(X_test)\n",
    "preds"
   ]
  },
  {
   "cell_type": "code",
   "execution_count": 728,
   "metadata": {},
   "outputs": [
    {
     "data": {
      "text/plain": [
       "<xgboost.core.Booster at 0x27698e64260>"
      ]
     },
     "execution_count": 728,
     "metadata": {},
     "output_type": "execute_result"
    }
   ],
   "source": [
    "booster = xgbc.get_booster()\n",
    "booster"
   ]
  },
  {
   "cell_type": "code",
   "execution_count": 729,
   "metadata": {},
   "outputs": [],
   "source": [
    "# for i in range(3):\n",
    "#        plot_tree(xgbc, num_trees=i)"
   ]
  },
  {
   "cell_type": "code",
   "execution_count": 730,
   "metadata": {},
   "outputs": [
    {
     "name": "stdout",
     "output_type": "stream",
     "text": [
      "Tree 0:\n",
      "0:[petal length (cm)<3] yes=1,no=2,missing=2,gain=108.977974,cover=26.8988876\n",
      "\t1:leaf=-0.265196383,cover=8.96629524\n",
      "\t2:leaf=0.143348008,cover=17.9325905\n",
      "\n",
      "Tree 1:\n",
      "0:[petal length (cm)<3] yes=1,no=2,missing=2,gain=87.7270432,cover=26.6550579\n",
      "\t1:leaf=-0.225890428,cover=9.60763645\n",
      "\t2:leaf=0.136479303,cover=17.0474205\n",
      "\n",
      "Tree 2:\n",
      "0:[petal length (cm)<3] yes=1,no=2,missing=2,gain=72.5324249,cover=26.0368938\n",
      "\t1:leaf=-0.199127138,cover=9.92332363\n",
      "\t2:leaf=0.13069883,cover=16.1135693\n",
      "\n"
     ]
    }
   ],
   "source": [
    "trees = booster.get_dump(with_stats=True)\n",
    "for i, tree in enumerate(trees):\n",
    "  print(f\"Tree {i}:\")\n",
    "  print(tree)"
   ]
  },
  {
   "cell_type": "code",
   "execution_count": 731,
   "metadata": {},
   "outputs": [
    {
     "data": {
      "text/plain": [
       "['0:[petal length (cm)<3] yes=1,no=2,missing=2\\n\\t1:leaf=-0.265196383\\n\\t2:leaf=0.143348008\\n',\n",
       " '0:[petal length (cm)<3] yes=1,no=2,missing=2\\n\\t1:leaf=-0.225890428\\n\\t2:leaf=0.136479303\\n',\n",
       " '0:[petal length (cm)<3] yes=1,no=2,missing=2\\n\\t1:leaf=-0.199127138\\n\\t2:leaf=0.13069883\\n']"
      ]
     },
     "execution_count": 731,
     "metadata": {},
     "output_type": "execute_result"
    }
   ],
   "source": [
    "booster.get_dump()"
   ]
  },
  {
   "cell_type": "code",
   "execution_count": 732,
   "metadata": {},
   "outputs": [
    {
     "name": "stdout",
     "output_type": "stream",
     "text": [
      "<class 'xgboost.core.Booster'>\n"
     ]
    }
   ],
   "source": [
    "print(type(booster))"
   ]
  },
  {
   "cell_type": "code",
   "execution_count": 733,
   "metadata": {},
   "outputs": [
    {
     "data": {
      "text/plain": [
       "array([5.5, 4.2, 1.4, 0.2])"
      ]
     },
     "execution_count": 733,
     "metadata": {},
     "output_type": "execute_result"
    }
   ],
   "source": [
    "X_test.values[0]"
   ]
  },
  {
   "cell_type": "markdown",
   "metadata": {},
   "source": [
    "# explain"
   ]
  },
  {
   "cell_type": "code",
   "execution_count": 734,
   "metadata": {},
   "outputs": [],
   "source": [
    "explainer = XGBoostExplainer(xgbc, X, y)"
   ]
  },
  {
   "cell_type": "code",
   "execution_count": 735,
   "metadata": {},
   "outputs": [
    {
     "name": "stdout",
     "output_type": "stream",
     "text": [
      "[2]\n",
      "[2]\n"
     ]
    },
    {
     "data": {
      "text/plain": [
       "[petal length (cm) == 1.4]"
      ]
     },
     "execution_count": 735,
     "metadata": {},
     "output_type": "execute_result"
    }
   ],
   "source": [
    "explainer.explain(X_test.values[0])"
   ]
  },
  {
   "cell_type": "code",
   "execution_count": 736,
   "metadata": {},
   "outputs": [
    {
     "data": {
      "text/plain": [
       "Index(['sepal length (cm)', 'sepal width (cm)', 'petal length (cm)',\n",
       "       'petal width (cm)'],\n",
       "      dtype='object')"
      ]
     },
     "execution_count": 736,
     "metadata": {},
     "output_type": "execute_result"
    }
   ],
   "source": [
    "X.columns"
   ]
  },
  {
   "cell_type": "code",
   "execution_count": 737,
   "metadata": {},
   "outputs": [
    {
     "name": "stdout",
     "output_type": "stream",
     "text": [
      "[5.5 4.2 1.4 0.2]\n",
      "0\n",
      "[0]\n"
     ]
    }
   ],
   "source": [
    "print(X_test.values[0])\n",
    "print(y_test[0])\n",
    "print(xgbc.predict([X_test.values[0]]))"
   ]
  },
  {
   "cell_type": "code",
   "execution_count": 738,
   "metadata": {},
   "outputs": [
    {
     "name": "stdout",
     "output_type": "stream",
     "text": [
      "Entradas em X:\n",
      "    sepal length (cm)  sepal width (cm)  petal length (cm)  petal width (cm)\n",
      "0                 5.1               3.5                1.4               0.2\n",
      "1                 4.9               3.0                1.4               0.2\n",
      "4                 5.0               3.6                1.4               0.2\n",
      "6                 4.6               3.4                1.4               0.3\n",
      "8                 4.4               2.9                1.4               0.2\n",
      "12                4.8               3.0                1.4               0.1\n",
      "17                5.1               3.5                1.4               0.3\n",
      "28                5.2               3.4                1.4               0.2\n",
      "33                5.5               4.2                1.4               0.2\n",
      "37                4.9               3.6                1.4               0.1\n",
      "45                4.8               3.0                1.4               0.3\n",
      "47                4.6               3.2                1.4               0.2\n",
      "49                5.0               3.3                1.4               0.2\n",
      "\n",
      "Correspondências em y:\n",
      "[0 0 0 0 0 0 0 0 0 0 0 0 0]\n",
      "\n",
      " Predictions\n",
      "[0 0 0 0 0 0 0 0 0 0 0 0 0]\n"
     ]
    }
   ],
   "source": [
    "filter_condition = X[\"petal length (cm)\"] == 1.4\n",
    "filtered_X = X[filter_condition]\n",
    "filtered_y = y[filter_condition]\n",
    "print(\"Entradas em X:\")\n",
    "print(filtered_X)\n",
    "\n",
    "print(\"\\nCorrespondências em y:\")\n",
    "print(filtered_y)\n",
    "\n",
    "print(\"\\n Predictions\")\n",
    "print(xgbc.predict(filtered_X))"
   ]
  },
  {
   "cell_type": "markdown",
   "metadata": {},
   "source": [
    "## print expresions"
   ]
  },
  {
   "cell_type": "code",
   "execution_count": 739,
   "metadata": {},
   "outputs": [
    {
     "data": {
      "text/html": [
       "<div>\n",
       "<style scoped>\n",
       "    .dataframe tbody tr th:only-of-type {\n",
       "        vertical-align: middle;\n",
       "    }\n",
       "\n",
       "    .dataframe tbody tr th {\n",
       "        vertical-align: top;\n",
       "    }\n",
       "\n",
       "    .dataframe thead th {\n",
       "        text-align: right;\n",
       "    }\n",
       "</style>\n",
       "<table border=\"1\" class=\"dataframe\">\n",
       "  <thead>\n",
       "    <tr style=\"text-align: right;\">\n",
       "      <th></th>\n",
       "      <th>Tree</th>\n",
       "      <th>Node</th>\n",
       "      <th>ID</th>\n",
       "      <th>Feature</th>\n",
       "      <th>Split</th>\n",
       "      <th>Yes</th>\n",
       "      <th>No</th>\n",
       "      <th>Missing</th>\n",
       "      <th>Gain</th>\n",
       "      <th>Cover</th>\n",
       "      <th>Category</th>\n",
       "    </tr>\n",
       "  </thead>\n",
       "  <tbody>\n",
       "    <tr>\n",
       "      <th>0</th>\n",
       "      <td>0</td>\n",
       "      <td>0</td>\n",
       "      <td>0-0</td>\n",
       "      <td>petal length (cm)</td>\n",
       "      <td>3.0</td>\n",
       "      <td>0-1</td>\n",
       "      <td>0-2</td>\n",
       "      <td>0-2</td>\n",
       "      <td>108.977974</td>\n",
       "      <td>26.898888</td>\n",
       "      <td>NaN</td>\n",
       "    </tr>\n",
       "    <tr>\n",
       "      <th>1</th>\n",
       "      <td>0</td>\n",
       "      <td>1</td>\n",
       "      <td>0-1</td>\n",
       "      <td>Leaf</td>\n",
       "      <td>NaN</td>\n",
       "      <td>NaN</td>\n",
       "      <td>NaN</td>\n",
       "      <td>NaN</td>\n",
       "      <td>-0.265196</td>\n",
       "      <td>8.966295</td>\n",
       "      <td>NaN</td>\n",
       "    </tr>\n",
       "    <tr>\n",
       "      <th>2</th>\n",
       "      <td>0</td>\n",
       "      <td>2</td>\n",
       "      <td>0-2</td>\n",
       "      <td>Leaf</td>\n",
       "      <td>NaN</td>\n",
       "      <td>NaN</td>\n",
       "      <td>NaN</td>\n",
       "      <td>NaN</td>\n",
       "      <td>0.143348</td>\n",
       "      <td>17.932590</td>\n",
       "      <td>NaN</td>\n",
       "    </tr>\n",
       "    <tr>\n",
       "      <th>3</th>\n",
       "      <td>1</td>\n",
       "      <td>0</td>\n",
       "      <td>1-0</td>\n",
       "      <td>petal length (cm)</td>\n",
       "      <td>3.0</td>\n",
       "      <td>1-1</td>\n",
       "      <td>1-2</td>\n",
       "      <td>1-2</td>\n",
       "      <td>87.727043</td>\n",
       "      <td>26.655058</td>\n",
       "      <td>NaN</td>\n",
       "    </tr>\n",
       "    <tr>\n",
       "      <th>4</th>\n",
       "      <td>1</td>\n",
       "      <td>1</td>\n",
       "      <td>1-1</td>\n",
       "      <td>Leaf</td>\n",
       "      <td>NaN</td>\n",
       "      <td>NaN</td>\n",
       "      <td>NaN</td>\n",
       "      <td>NaN</td>\n",
       "      <td>-0.225890</td>\n",
       "      <td>9.607636</td>\n",
       "      <td>NaN</td>\n",
       "    </tr>\n",
       "    <tr>\n",
       "      <th>5</th>\n",
       "      <td>1</td>\n",
       "      <td>2</td>\n",
       "      <td>1-2</td>\n",
       "      <td>Leaf</td>\n",
       "      <td>NaN</td>\n",
       "      <td>NaN</td>\n",
       "      <td>NaN</td>\n",
       "      <td>NaN</td>\n",
       "      <td>0.136479</td>\n",
       "      <td>17.047421</td>\n",
       "      <td>NaN</td>\n",
       "    </tr>\n",
       "    <tr>\n",
       "      <th>6</th>\n",
       "      <td>2</td>\n",
       "      <td>0</td>\n",
       "      <td>2-0</td>\n",
       "      <td>petal length (cm)</td>\n",
       "      <td>3.0</td>\n",
       "      <td>2-1</td>\n",
       "      <td>2-2</td>\n",
       "      <td>2-2</td>\n",
       "      <td>72.532425</td>\n",
       "      <td>26.036894</td>\n",
       "      <td>NaN</td>\n",
       "    </tr>\n",
       "    <tr>\n",
       "      <th>7</th>\n",
       "      <td>2</td>\n",
       "      <td>1</td>\n",
       "      <td>2-1</td>\n",
       "      <td>Leaf</td>\n",
       "      <td>NaN</td>\n",
       "      <td>NaN</td>\n",
       "      <td>NaN</td>\n",
       "      <td>NaN</td>\n",
       "      <td>-0.199127</td>\n",
       "      <td>9.923324</td>\n",
       "      <td>NaN</td>\n",
       "    </tr>\n",
       "    <tr>\n",
       "      <th>8</th>\n",
       "      <td>2</td>\n",
       "      <td>2</td>\n",
       "      <td>2-2</td>\n",
       "      <td>Leaf</td>\n",
       "      <td>NaN</td>\n",
       "      <td>NaN</td>\n",
       "      <td>NaN</td>\n",
       "      <td>NaN</td>\n",
       "      <td>0.130699</td>\n",
       "      <td>16.113569</td>\n",
       "      <td>NaN</td>\n",
       "    </tr>\n",
       "  </tbody>\n",
       "</table>\n",
       "</div>"
      ],
      "text/plain": [
       "   Tree  Node   ID            Feature  Split  Yes   No Missing        Gain  \\\n",
       "0     0     0  0-0  petal length (cm)    3.0  0-1  0-2     0-2  108.977974   \n",
       "1     0     1  0-1               Leaf    NaN  NaN  NaN     NaN   -0.265196   \n",
       "2     0     2  0-2               Leaf    NaN  NaN  NaN     NaN    0.143348   \n",
       "3     1     0  1-0  petal length (cm)    3.0  1-1  1-2     1-2   87.727043   \n",
       "4     1     1  1-1               Leaf    NaN  NaN  NaN     NaN   -0.225890   \n",
       "5     1     2  1-2               Leaf    NaN  NaN  NaN     NaN    0.136479   \n",
       "6     2     0  2-0  petal length (cm)    3.0  2-1  2-2     2-2   72.532425   \n",
       "7     2     1  2-1               Leaf    NaN  NaN  NaN     NaN   -0.199127   \n",
       "8     2     2  2-2               Leaf    NaN  NaN  NaN     NaN    0.130699   \n",
       "\n",
       "       Cover  Category  \n",
       "0  26.898888       NaN  \n",
       "1   8.966295       NaN  \n",
       "2  17.932590       NaN  \n",
       "3  26.655058       NaN  \n",
       "4   9.607636       NaN  \n",
       "5  17.047421       NaN  \n",
       "6  26.036894       NaN  \n",
       "7   9.923324       NaN  \n",
       "8  16.113569       NaN  "
      ]
     },
     "execution_count": 739,
     "metadata": {},
     "output_type": "execute_result"
    }
   ],
   "source": [
    "xgbc.get_booster().trees_to_dataframe()"
   ]
  },
  {
   "cell_type": "code",
   "execution_count": 740,
   "metadata": {},
   "outputs": [
    {
     "name": "stdout",
     "output_type": "stream",
     "text": [
      "And(And(4.3 <= sepal length (cm), 7.9 >= sepal length (cm)),\n",
      "    And(2 <= sepal width (cm), 4.4 >= sepal width (cm)),\n",
      "    And(1 <= petal length (cm), 6.9 >= petal length (cm)),\n",
      "    And(0.1 <= petal width (cm), 2.5 >= petal width (cm)))\n"
     ]
    }
   ],
   "source": [
    "print(explainer.T_constraints)"
   ]
  },
  {
   "cell_type": "code",
   "execution_count": 741,
   "metadata": {},
   "outputs": [
    {
     "name": "stdout",
     "output_type": "stream",
     "text": [
      "And(And(Implies(And(petal length (cm) < 3),\n",
      "                o_0_0 == -0.265196383),\n",
      "        Implies(And(petal length (cm) >= 3),\n",
      "                o_0_0 == 0.143348008)),\n",
      "    And(Implies(And(petal length (cm) < 3),\n",
      "                o_1_0 == -0.225890428),\n",
      "        Implies(And(petal length (cm) >= 3),\n",
      "                o_1_0 == 0.136479303)),\n",
      "    And(Implies(And(petal length (cm) < 3),\n",
      "                o_2_0 == -0.199127138),\n",
      "        Implies(And(petal length (cm) >= 3),\n",
      "                o_2_0 == 0.13069883)))\n"
     ]
    }
   ],
   "source": [
    "print(explainer.T_model)"
   ]
  },
  {
   "cell_type": "code",
   "execution_count": 742,
   "metadata": {},
   "outputs": [
    {
     "data": {
      "text/plain": [
       "array([-0.02354732], dtype=float32)"
      ]
     },
     "execution_count": 742,
     "metadata": {},
     "output_type": "execute_result"
    }
   ],
   "source": [
    "xgbc.predict([X_test.values[0]], output_margin=True)"
   ]
  },
  {
   "cell_type": "code",
   "execution_count": 743,
   "metadata": {},
   "outputs": [
    {
     "data": {
      "text/plain": [
       "np.float64(-0.023547282333333364)"
      ]
     },
     "execution_count": 743,
     "metadata": {},
     "output_type": "execute_result"
    }
   ],
   "source": [
    "-0.265196383 + -0.225890428 + -0.199127138 + y.mean()"
   ]
  },
  {
   "cell_type": "code",
   "execution_count": 744,
   "metadata": {},
   "outputs": [
    {
     "data": {
      "text/plain": [
       "np.float64(0.6666666666666666)"
      ]
     },
     "execution_count": 744,
     "metadata": {},
     "output_type": "execute_result"
    }
   ],
   "source": [
    "explainer.label_proportions"
   ]
  },
  {
   "cell_type": "code",
   "execution_count": 747,
   "metadata": {},
   "outputs": [
    {
     "name": "stdout",
     "output_type": "stream",
     "text": [
      "And(o_0_0 + o_1_0 + o_2_0 + 0.6666666666? < 0)\n"
     ]
    }
   ],
   "source": [
    "print(explainer.D)"
   ]
  },
  {
   "cell_type": "code",
   "execution_count": 746,
   "metadata": {},
   "outputs": [
    {
     "name": "stdout",
     "output_type": "stream",
     "text": [
      "[sepal length (cm) == 5.5, sepal width (cm) == 4.2, petal length (cm) == 1.4, petal width (cm) == 0.2]\n"
     ]
    }
   ],
   "source": [
    "print(explainer.I)"
   ]
  }
 ],
 "metadata": {
  "kernelspec": {
   "display_name": "env",
   "language": "python",
   "name": "python3"
  },
  "language_info": {
   "codemirror_mode": {
    "name": "ipython",
    "version": 3
   },
   "file_extension": ".py",
   "mimetype": "text/x-python",
   "name": "python",
   "nbconvert_exporter": "python",
   "pygments_lexer": "ipython3",
   "version": "3.12.4"
  }
 },
 "nbformat": 4,
 "nbformat_minor": 2
}
